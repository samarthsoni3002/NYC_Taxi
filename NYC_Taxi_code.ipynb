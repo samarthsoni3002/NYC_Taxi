{
 "cells": [
  {
   "cell_type": "code",
   "execution_count": 1,
   "id": "28f708ad",
   "metadata": {},
   "outputs": [],
   "source": [
    "import pandas as pd\n",
    "import numpy as np"
   ]
  },
  {
   "cell_type": "code",
   "execution_count": 2,
   "id": "a5a6e913",
   "metadata": {},
   "outputs": [],
   "source": [
    "df = pd.read_csv(\"train.csv\")"
   ]
  },
  {
   "cell_type": "code",
   "execution_count": 3,
   "id": "04dd1ce2",
   "metadata": {},
   "outputs": [
    {
     "data": {
      "text/html": [
       "<div>\n",
       "<style scoped>\n",
       "    .dataframe tbody tr th:only-of-type {\n",
       "        vertical-align: middle;\n",
       "    }\n",
       "\n",
       "    .dataframe tbody tr th {\n",
       "        vertical-align: top;\n",
       "    }\n",
       "\n",
       "    .dataframe thead th {\n",
       "        text-align: right;\n",
       "    }\n",
       "</style>\n",
       "<table border=\"1\" class=\"dataframe\">\n",
       "  <thead>\n",
       "    <tr style=\"text-align: right;\">\n",
       "      <th></th>\n",
       "      <th>id</th>\n",
       "      <th>vendor_id</th>\n",
       "      <th>pickup_datetime</th>\n",
       "      <th>dropoff_datetime</th>\n",
       "      <th>passenger_count</th>\n",
       "      <th>pickup_longitude</th>\n",
       "      <th>pickup_latitude</th>\n",
       "      <th>dropoff_longitude</th>\n",
       "      <th>dropoff_latitude</th>\n",
       "      <th>store_and_fwd_flag</th>\n",
       "      <th>trip_duration</th>\n",
       "    </tr>\n",
       "  </thead>\n",
       "  <tbody>\n",
       "    <tr>\n",
       "      <th>0</th>\n",
       "      <td>id2875421</td>\n",
       "      <td>2</td>\n",
       "      <td>2016-03-14 17:24:55</td>\n",
       "      <td>2016-03-14 17:32:30</td>\n",
       "      <td>1</td>\n",
       "      <td>-73.982155</td>\n",
       "      <td>40.767937</td>\n",
       "      <td>-73.964630</td>\n",
       "      <td>40.765602</td>\n",
       "      <td>N</td>\n",
       "      <td>455</td>\n",
       "    </tr>\n",
       "    <tr>\n",
       "      <th>1</th>\n",
       "      <td>id2377394</td>\n",
       "      <td>1</td>\n",
       "      <td>2016-06-12 00:43:35</td>\n",
       "      <td>2016-06-12 00:54:38</td>\n",
       "      <td>1</td>\n",
       "      <td>-73.980415</td>\n",
       "      <td>40.738564</td>\n",
       "      <td>-73.999481</td>\n",
       "      <td>40.731152</td>\n",
       "      <td>N</td>\n",
       "      <td>663</td>\n",
       "    </tr>\n",
       "    <tr>\n",
       "      <th>2</th>\n",
       "      <td>id3858529</td>\n",
       "      <td>2</td>\n",
       "      <td>2016-01-19 11:35:24</td>\n",
       "      <td>2016-01-19 12:10:48</td>\n",
       "      <td>1</td>\n",
       "      <td>-73.979027</td>\n",
       "      <td>40.763939</td>\n",
       "      <td>-74.005333</td>\n",
       "      <td>40.710087</td>\n",
       "      <td>N</td>\n",
       "      <td>2124</td>\n",
       "    </tr>\n",
       "    <tr>\n",
       "      <th>3</th>\n",
       "      <td>id3504673</td>\n",
       "      <td>2</td>\n",
       "      <td>2016-04-06 19:32:31</td>\n",
       "      <td>2016-04-06 19:39:40</td>\n",
       "      <td>1</td>\n",
       "      <td>-74.010040</td>\n",
       "      <td>40.719971</td>\n",
       "      <td>-74.012268</td>\n",
       "      <td>40.706718</td>\n",
       "      <td>N</td>\n",
       "      <td>429</td>\n",
       "    </tr>\n",
       "    <tr>\n",
       "      <th>4</th>\n",
       "      <td>id2181028</td>\n",
       "      <td>2</td>\n",
       "      <td>2016-03-26 13:30:55</td>\n",
       "      <td>2016-03-26 13:38:10</td>\n",
       "      <td>1</td>\n",
       "      <td>-73.973053</td>\n",
       "      <td>40.793209</td>\n",
       "      <td>-73.972923</td>\n",
       "      <td>40.782520</td>\n",
       "      <td>N</td>\n",
       "      <td>435</td>\n",
       "    </tr>\n",
       "  </tbody>\n",
       "</table>\n",
       "</div>"
      ],
      "text/plain": [
       "          id  vendor_id      pickup_datetime     dropoff_datetime  \\\n",
       "0  id2875421          2  2016-03-14 17:24:55  2016-03-14 17:32:30   \n",
       "1  id2377394          1  2016-06-12 00:43:35  2016-06-12 00:54:38   \n",
       "2  id3858529          2  2016-01-19 11:35:24  2016-01-19 12:10:48   \n",
       "3  id3504673          2  2016-04-06 19:32:31  2016-04-06 19:39:40   \n",
       "4  id2181028          2  2016-03-26 13:30:55  2016-03-26 13:38:10   \n",
       "\n",
       "   passenger_count  pickup_longitude  pickup_latitude  dropoff_longitude  \\\n",
       "0                1        -73.982155        40.767937         -73.964630   \n",
       "1                1        -73.980415        40.738564         -73.999481   \n",
       "2                1        -73.979027        40.763939         -74.005333   \n",
       "3                1        -74.010040        40.719971         -74.012268   \n",
       "4                1        -73.973053        40.793209         -73.972923   \n",
       "\n",
       "   dropoff_latitude store_and_fwd_flag  trip_duration  \n",
       "0         40.765602                  N            455  \n",
       "1         40.731152                  N            663  \n",
       "2         40.710087                  N           2124  \n",
       "3         40.706718                  N            429  \n",
       "4         40.782520                  N            435  "
      ]
     },
     "execution_count": 3,
     "metadata": {},
     "output_type": "execute_result"
    }
   ],
   "source": [
    "df.head()"
   ]
  },
  {
   "cell_type": "code",
   "execution_count": 4,
   "id": "53b596d1",
   "metadata": {},
   "outputs": [],
   "source": [
    "columns_meaning = [\"id - a unique identifier for each trip\",\n",
    "\"vendor_id - a code indicating the provider associated with the trip record\",\n",
    "\"pickup_datetime - date and time when the meter was engaged\",\n",
    "\"dropoff_datetime - date and time when the meter was disengaged\",\n",
    "\"passenger_count - the number of passengers in the vehicle (driver entered value)\",\n",
    "\"pickup_longitude - the longitude where the meter was engaged\",\n",
    "\"pickup_latitude - the latitude where the meter was engaged\",\n",
    "\"dropoff_longitude - the longitude where the meter was disengaged\",\n",
    "\"dropoff_latitude - the latitude where the meter was disengaged\",\n",
    "\"store_and_fwd_flag - This flag indicates whether the trip record was held in vehicle memory before sending to the vendor because the vehicle did not have a connection to the server - Y=store and forward; N=not a store and forward trip\",\n",
    "\"trip_duration - duration of the trip in seconds\"]"
   ]
  },
  {
   "cell_type": "code",
   "execution_count": 5,
   "id": "8467887e",
   "metadata": {},
   "outputs": [
    {
     "name": "stdout",
     "output_type": "stream",
     "text": [
      "<class 'pandas.core.frame.DataFrame'>\n",
      "RangeIndex: 1458644 entries, 0 to 1458643\n",
      "Data columns (total 11 columns):\n",
      " #   Column              Non-Null Count    Dtype  \n",
      "---  ------              --------------    -----  \n",
      " 0   id                  1458644 non-null  object \n",
      " 1   vendor_id           1458644 non-null  int64  \n",
      " 2   pickup_datetime     1458644 non-null  object \n",
      " 3   dropoff_datetime    1458644 non-null  object \n",
      " 4   passenger_count     1458644 non-null  int64  \n",
      " 5   pickup_longitude    1458644 non-null  float64\n",
      " 6   pickup_latitude     1458644 non-null  float64\n",
      " 7   dropoff_longitude   1458644 non-null  float64\n",
      " 8   dropoff_latitude    1458644 non-null  float64\n",
      " 9   store_and_fwd_flag  1458644 non-null  object \n",
      " 10  trip_duration       1458644 non-null  int64  \n",
      "dtypes: float64(4), int64(3), object(4)\n",
      "memory usage: 122.4+ MB\n"
     ]
    }
   ],
   "source": [
    "df.info()"
   ]
  },
  {
   "cell_type": "code",
   "execution_count": 6,
   "id": "200dd251",
   "metadata": {},
   "outputs": [
    {
     "data": {
      "text/html": [
       "<div>\n",
       "<style scoped>\n",
       "    .dataframe tbody tr th:only-of-type {\n",
       "        vertical-align: middle;\n",
       "    }\n",
       "\n",
       "    .dataframe tbody tr th {\n",
       "        vertical-align: top;\n",
       "    }\n",
       "\n",
       "    .dataframe thead th {\n",
       "        text-align: right;\n",
       "    }\n",
       "</style>\n",
       "<table border=\"1\" class=\"dataframe\">\n",
       "  <thead>\n",
       "    <tr style=\"text-align: right;\">\n",
       "      <th></th>\n",
       "      <th>vendor_id</th>\n",
       "      <th>passenger_count</th>\n",
       "      <th>pickup_longitude</th>\n",
       "      <th>pickup_latitude</th>\n",
       "      <th>dropoff_longitude</th>\n",
       "      <th>dropoff_latitude</th>\n",
       "      <th>trip_duration</th>\n",
       "    </tr>\n",
       "  </thead>\n",
       "  <tbody>\n",
       "    <tr>\n",
       "      <th>count</th>\n",
       "      <td>1.458644e+06</td>\n",
       "      <td>1.458644e+06</td>\n",
       "      <td>1.458644e+06</td>\n",
       "      <td>1.458644e+06</td>\n",
       "      <td>1.458644e+06</td>\n",
       "      <td>1.458644e+06</td>\n",
       "      <td>1.458644e+06</td>\n",
       "    </tr>\n",
       "    <tr>\n",
       "      <th>mean</th>\n",
       "      <td>1.534950e+00</td>\n",
       "      <td>1.664530e+00</td>\n",
       "      <td>-7.397349e+01</td>\n",
       "      <td>4.075092e+01</td>\n",
       "      <td>-7.397342e+01</td>\n",
       "      <td>4.075180e+01</td>\n",
       "      <td>9.594923e+02</td>\n",
       "    </tr>\n",
       "    <tr>\n",
       "      <th>std</th>\n",
       "      <td>4.987772e-01</td>\n",
       "      <td>1.314242e+00</td>\n",
       "      <td>7.090186e-02</td>\n",
       "      <td>3.288119e-02</td>\n",
       "      <td>7.064327e-02</td>\n",
       "      <td>3.589056e-02</td>\n",
       "      <td>5.237432e+03</td>\n",
       "    </tr>\n",
       "    <tr>\n",
       "      <th>min</th>\n",
       "      <td>1.000000e+00</td>\n",
       "      <td>0.000000e+00</td>\n",
       "      <td>-1.219333e+02</td>\n",
       "      <td>3.435970e+01</td>\n",
       "      <td>-1.219333e+02</td>\n",
       "      <td>3.218114e+01</td>\n",
       "      <td>1.000000e+00</td>\n",
       "    </tr>\n",
       "    <tr>\n",
       "      <th>25%</th>\n",
       "      <td>1.000000e+00</td>\n",
       "      <td>1.000000e+00</td>\n",
       "      <td>-7.399187e+01</td>\n",
       "      <td>4.073735e+01</td>\n",
       "      <td>-7.399133e+01</td>\n",
       "      <td>4.073588e+01</td>\n",
       "      <td>3.970000e+02</td>\n",
       "    </tr>\n",
       "    <tr>\n",
       "      <th>50%</th>\n",
       "      <td>2.000000e+00</td>\n",
       "      <td>1.000000e+00</td>\n",
       "      <td>-7.398174e+01</td>\n",
       "      <td>4.075410e+01</td>\n",
       "      <td>-7.397975e+01</td>\n",
       "      <td>4.075452e+01</td>\n",
       "      <td>6.620000e+02</td>\n",
       "    </tr>\n",
       "    <tr>\n",
       "      <th>75%</th>\n",
       "      <td>2.000000e+00</td>\n",
       "      <td>2.000000e+00</td>\n",
       "      <td>-7.396733e+01</td>\n",
       "      <td>4.076836e+01</td>\n",
       "      <td>-7.396301e+01</td>\n",
       "      <td>4.076981e+01</td>\n",
       "      <td>1.075000e+03</td>\n",
       "    </tr>\n",
       "    <tr>\n",
       "      <th>max</th>\n",
       "      <td>2.000000e+00</td>\n",
       "      <td>9.000000e+00</td>\n",
       "      <td>-6.133553e+01</td>\n",
       "      <td>5.188108e+01</td>\n",
       "      <td>-6.133553e+01</td>\n",
       "      <td>4.392103e+01</td>\n",
       "      <td>3.526282e+06</td>\n",
       "    </tr>\n",
       "  </tbody>\n",
       "</table>\n",
       "</div>"
      ],
      "text/plain": [
       "          vendor_id  passenger_count  pickup_longitude  pickup_latitude  \\\n",
       "count  1.458644e+06     1.458644e+06      1.458644e+06     1.458644e+06   \n",
       "mean   1.534950e+00     1.664530e+00     -7.397349e+01     4.075092e+01   \n",
       "std    4.987772e-01     1.314242e+00      7.090186e-02     3.288119e-02   \n",
       "min    1.000000e+00     0.000000e+00     -1.219333e+02     3.435970e+01   \n",
       "25%    1.000000e+00     1.000000e+00     -7.399187e+01     4.073735e+01   \n",
       "50%    2.000000e+00     1.000000e+00     -7.398174e+01     4.075410e+01   \n",
       "75%    2.000000e+00     2.000000e+00     -7.396733e+01     4.076836e+01   \n",
       "max    2.000000e+00     9.000000e+00     -6.133553e+01     5.188108e+01   \n",
       "\n",
       "       dropoff_longitude  dropoff_latitude  trip_duration  \n",
       "count       1.458644e+06      1.458644e+06   1.458644e+06  \n",
       "mean       -7.397342e+01      4.075180e+01   9.594923e+02  \n",
       "std         7.064327e-02      3.589056e-02   5.237432e+03  \n",
       "min        -1.219333e+02      3.218114e+01   1.000000e+00  \n",
       "25%        -7.399133e+01      4.073588e+01   3.970000e+02  \n",
       "50%        -7.397975e+01      4.075452e+01   6.620000e+02  \n",
       "75%        -7.396301e+01      4.076981e+01   1.075000e+03  \n",
       "max        -6.133553e+01      4.392103e+01   3.526282e+06  "
      ]
     },
     "execution_count": 6,
     "metadata": {},
     "output_type": "execute_result"
    }
   ],
   "source": [
    "df.describe()"
   ]
  },
  {
   "cell_type": "code",
   "execution_count": 7,
   "id": "dd8b7870",
   "metadata": {},
   "outputs": [
    {
     "data": {
      "text/plain": [
       "1    1033540\n",
       "2     210318\n",
       "5      78088\n",
       "3      59896\n",
       "6      48333\n",
       "4      28404\n",
       "0         60\n",
       "7          3\n",
       "9          1\n",
       "8          1\n",
       "Name: passenger_count, dtype: int64"
      ]
     },
     "execution_count": 7,
     "metadata": {},
     "output_type": "execute_result"
    }
   ],
   "source": [
    "df[\"passenger_count\"].value_counts()"
   ]
  },
  {
   "cell_type": "code",
   "execution_count": 8,
   "id": "5ebf4249",
   "metadata": {},
   "outputs": [
    {
     "data": {
      "text/plain": [
       "N    1450599\n",
       "Y       8045\n",
       "Name: store_and_fwd_flag, dtype: int64"
      ]
     },
     "execution_count": 8,
     "metadata": {},
     "output_type": "execute_result"
    }
   ],
   "source": [
    "df[\"store_and_fwd_flag\"].value_counts()"
   ]
  },
  {
   "cell_type": "markdown",
   "id": "843cd9c1",
   "metadata": {},
   "source": [
    "## Columns which will not affect out target (By research and common sense):- \n",
    "    1)- Id"
   ]
  },
  {
   "cell_type": "code",
   "execution_count": 9,
   "id": "555b105a",
   "metadata": {},
   "outputs": [
    {
     "data": {
      "text/plain": [
       "1458644"
      ]
     },
     "execution_count": 9,
     "metadata": {},
     "output_type": "execute_result"
    }
   ],
   "source": [
    "df[\"id\"].nunique()"
   ]
  },
  {
   "cell_type": "code",
   "execution_count": 10,
   "id": "5cf835a9",
   "metadata": {},
   "outputs": [
    {
     "data": {
      "text/plain": [
       "0"
      ]
     },
     "execution_count": 10,
     "metadata": {},
     "output_type": "execute_result"
    }
   ],
   "source": [
    "df.duplicated().sum() #No duplicated values. "
   ]
  },
  {
   "cell_type": "code",
   "execution_count": 11,
   "id": "1feb848a",
   "metadata": {},
   "outputs": [
    {
     "data": {
      "text/plain": [
       "id                    0\n",
       "vendor_id             0\n",
       "pickup_datetime       0\n",
       "dropoff_datetime      0\n",
       "passenger_count       0\n",
       "pickup_longitude      0\n",
       "pickup_latitude       0\n",
       "dropoff_longitude     0\n",
       "dropoff_latitude      0\n",
       "store_and_fwd_flag    0\n",
       "trip_duration         0\n",
       "dtype: int64"
      ]
     },
     "execution_count": 11,
     "metadata": {},
     "output_type": "execute_result"
    }
   ],
   "source": [
    "df.isnull().sum() #No Null Values"
   ]
  },
  {
   "cell_type": "code",
   "execution_count": 12,
   "id": "f65f6f43",
   "metadata": {},
   "outputs": [
    {
     "data": {
      "text/plain": [
       "2    780302\n",
       "1    678342\n",
       "Name: vendor_id, dtype: int64"
      ]
     },
     "execution_count": 12,
     "metadata": {},
     "output_type": "execute_result"
    }
   ],
   "source": [
    "df[\"vendor_id\"].value_counts()"
   ]
  },
  {
   "cell_type": "code",
   "execution_count": 13,
   "id": "da06a307",
   "metadata": {},
   "outputs": [],
   "source": [
    "df.drop(\"id\",axis=1,inplace=True) #Dropped the id column. "
   ]
  },
  {
   "cell_type": "markdown",
   "id": "46725c64",
   "metadata": {},
   "source": [
    "# Our Analysis :- \n",
    "    1)- Id is just used for identification, Hence, It will not affect out targer variable that is trip_duration.\n",
    "    2)- Pickup/dropoff date time needs to be divided into date and time columns. \n",
    "    3)- There are no NULL VALUES in the dataset.\n",
    "    4)- There are no DUPLICATE ROWS in the dataset.\n",
    "    5)- Passenger_count has possible outliers."
   ]
  },
  {
   "cell_type": "markdown",
   "id": "64160737",
   "metadata": {},
   "source": [
    "# Trip Duration is out target variable"
   ]
  },
  {
   "cell_type": "markdown",
   "id": "074c7f16",
   "metadata": {},
   "source": [
    "# To do :- \n",
    "    1)- Seperate pickup/dropoff date and time\n",
    "    2)- Convert date time into date time data type\n",
    "    3)- Check for more outliers and handle them. "
   ]
  },
  {
   "cell_type": "markdown",
   "id": "87338526",
   "metadata": {},
   "source": [
    "#Pickup and Dropoff Date_time \n",
    "#Seperating pickup date and pickup time and dropoff date and dropoff time \n",
    "pickup_date = []\n",
    "pickup_time = []\n",
    "dropoff_date = []\n",
    "dropoff_time = []\n",
    "\n",
    "for i in range(0,df.shape[0]):\n",
    "    a = df[\"pickup_datetime\"][i].split(\" \")\n",
    "    b = df[\"dropoff_datetime\"][i].split(\" \")\n",
    "    pickup_date.append(a[0])\n",
    "    pickup_time.append(a[1])\n",
    "    dropoff_date.append(b[0])\n",
    "    dropoff_time.append(b[1])\n",
    "\n",
    "pickup_date = pd.Series(pickup_date)\n",
    "pickup_time = pd.Series(pickup_time)\n",
    "dropoff_date = pd.Series(dropoff_date)\n",
    "dropoff_time = pd.Series(dropoff_time)\n",
    "    \n",
    "modified_dataframe = pd.concat([df,pickup_date,pickup_time,dropoff_date,dropoff_time],axis=1)"
   ]
  },
  {
   "cell_type": "markdown",
   "id": "6490ad06",
   "metadata": {},
   "source": [
    "modified_dataframe"
   ]
  },
  {
   "cell_type": "markdown",
   "id": "09423ced",
   "metadata": {},
   "source": [
    "# Changing column names\n",
    "new_column = {0:\"pickup_date\",1:\"pickup_time\",2:\"dropoff_date\",3:\"dropoff_time\"}\n",
    "modified_dataframe.rename(columns=new_column,inplace=True)"
   ]
  },
  {
   "cell_type": "markdown",
   "id": "80a2a3c3",
   "metadata": {},
   "source": [
    "# Dropping pickup_datetime and dropoff datetime columns\n",
    "modified_dataframe.drop([\"pickup_datetime\",\"dropoff_datetime\"],axis=1,inplace=True)"
   ]
  },
  {
   "cell_type": "markdown",
   "id": "151e5b8e",
   "metadata": {},
   "source": [
    "modified_dataframe.head()"
   ]
  },
  {
   "cell_type": "markdown",
   "id": "32bd38c0",
   "metadata": {},
   "source": [
    "modified_dataframe.info()"
   ]
  },
  {
   "cell_type": "markdown",
   "id": "869d2e4e",
   "metadata": {},
   "source": [
    "# Changing Datatype \n",
    "modified_dataframe[\"pickup_date\"] = pd.to_datetime(modified_dataframe[\"pickup_date\"])\n",
    "modified_dataframe[\"pickup_time\"] = pd.to_datetime(modified_dataframe[\"pickup_time\"])\n",
    "modified_dataframe[\"dropoff_date\"] = pd.to_datetime(modified_dataframe[\"dropoff_date\"])\n",
    "modified_dataframe[\"dropoff_time\"] = pd.to_datetime(modified_dataframe[\"dropoff_time\"])"
   ]
  },
  {
   "cell_type": "markdown",
   "id": "94443e4d",
   "metadata": {},
   "source": [
    "modified_dataframe.head()"
   ]
  },
  {
   "cell_type": "markdown",
   "id": "d9b87b34",
   "metadata": {},
   "source": [
    "#Checking if pickup date and drop off dates are different\n",
    "a = 0\n",
    "for i in range(0,df.shape[0]):\n",
    "    if(modified_dataframe[\"pickup_date\"][i]==modified_dataframe[\"dropoff_date\"][i]):\n",
    "        a = 1\n",
    "        if(a == 0):\n",
    "            x = modified_dataframe(\"pickup_date\")[i]\n",
    "            y = modified_datafrmae(\"dropoff_date\")[i]\n",
    "            print(f\"Date is different. Pickup Date = {x} and Dropoff Date is {y}\")\n",
    "        "
   ]
  },
  {
   "cell_type": "markdown",
   "id": "2674ee05",
   "metadata": {},
   "source": [
    "# Checking if there are more than one taxi running on a single date|\n",
    "df.shape[0] - modified_dataframe.duplicated(subset=\"pickup_date\").sum() "
   ]
  },
  {
   "cell_type": "markdown",
   "id": "91c36a77",
   "metadata": {},
   "source": [
    "modified_dataframe.head()"
   ]
  },
  {
   "cell_type": "code",
   "execution_count": 14,
   "id": "68e79d3f",
   "metadata": {},
   "outputs": [
    {
     "data": {
      "text/html": [
       "<div>\n",
       "<style scoped>\n",
       "    .dataframe tbody tr th:only-of-type {\n",
       "        vertical-align: middle;\n",
       "    }\n",
       "\n",
       "    .dataframe tbody tr th {\n",
       "        vertical-align: top;\n",
       "    }\n",
       "\n",
       "    .dataframe thead th {\n",
       "        text-align: right;\n",
       "    }\n",
       "</style>\n",
       "<table border=\"1\" class=\"dataframe\">\n",
       "  <thead>\n",
       "    <tr style=\"text-align: right;\">\n",
       "      <th></th>\n",
       "      <th>vendor_id</th>\n",
       "      <th>pickup_datetime</th>\n",
       "      <th>dropoff_datetime</th>\n",
       "      <th>passenger_count</th>\n",
       "      <th>pickup_longitude</th>\n",
       "      <th>pickup_latitude</th>\n",
       "      <th>dropoff_longitude</th>\n",
       "      <th>dropoff_latitude</th>\n",
       "      <th>store_and_fwd_flag</th>\n",
       "      <th>trip_duration</th>\n",
       "    </tr>\n",
       "  </thead>\n",
       "  <tbody>\n",
       "    <tr>\n",
       "      <th>0</th>\n",
       "      <td>2</td>\n",
       "      <td>2016-03-14 17:24:55</td>\n",
       "      <td>2016-03-14 17:32:30</td>\n",
       "      <td>1</td>\n",
       "      <td>-73.982155</td>\n",
       "      <td>40.767937</td>\n",
       "      <td>-73.964630</td>\n",
       "      <td>40.765602</td>\n",
       "      <td>N</td>\n",
       "      <td>455</td>\n",
       "    </tr>\n",
       "    <tr>\n",
       "      <th>1</th>\n",
       "      <td>1</td>\n",
       "      <td>2016-06-12 00:43:35</td>\n",
       "      <td>2016-06-12 00:54:38</td>\n",
       "      <td>1</td>\n",
       "      <td>-73.980415</td>\n",
       "      <td>40.738564</td>\n",
       "      <td>-73.999481</td>\n",
       "      <td>40.731152</td>\n",
       "      <td>N</td>\n",
       "      <td>663</td>\n",
       "    </tr>\n",
       "    <tr>\n",
       "      <th>2</th>\n",
       "      <td>2</td>\n",
       "      <td>2016-01-19 11:35:24</td>\n",
       "      <td>2016-01-19 12:10:48</td>\n",
       "      <td>1</td>\n",
       "      <td>-73.979027</td>\n",
       "      <td>40.763939</td>\n",
       "      <td>-74.005333</td>\n",
       "      <td>40.710087</td>\n",
       "      <td>N</td>\n",
       "      <td>2124</td>\n",
       "    </tr>\n",
       "    <tr>\n",
       "      <th>3</th>\n",
       "      <td>2</td>\n",
       "      <td>2016-04-06 19:32:31</td>\n",
       "      <td>2016-04-06 19:39:40</td>\n",
       "      <td>1</td>\n",
       "      <td>-74.010040</td>\n",
       "      <td>40.719971</td>\n",
       "      <td>-74.012268</td>\n",
       "      <td>40.706718</td>\n",
       "      <td>N</td>\n",
       "      <td>429</td>\n",
       "    </tr>\n",
       "    <tr>\n",
       "      <th>4</th>\n",
       "      <td>2</td>\n",
       "      <td>2016-03-26 13:30:55</td>\n",
       "      <td>2016-03-26 13:38:10</td>\n",
       "      <td>1</td>\n",
       "      <td>-73.973053</td>\n",
       "      <td>40.793209</td>\n",
       "      <td>-73.972923</td>\n",
       "      <td>40.782520</td>\n",
       "      <td>N</td>\n",
       "      <td>435</td>\n",
       "    </tr>\n",
       "  </tbody>\n",
       "</table>\n",
       "</div>"
      ],
      "text/plain": [
       "   vendor_id      pickup_datetime     dropoff_datetime  passenger_count  \\\n",
       "0          2  2016-03-14 17:24:55  2016-03-14 17:32:30                1   \n",
       "1          1  2016-06-12 00:43:35  2016-06-12 00:54:38                1   \n",
       "2          2  2016-01-19 11:35:24  2016-01-19 12:10:48                1   \n",
       "3          2  2016-04-06 19:32:31  2016-04-06 19:39:40                1   \n",
       "4          2  2016-03-26 13:30:55  2016-03-26 13:38:10                1   \n",
       "\n",
       "   pickup_longitude  pickup_latitude  dropoff_longitude  dropoff_latitude  \\\n",
       "0        -73.982155        40.767937         -73.964630         40.765602   \n",
       "1        -73.980415        40.738564         -73.999481         40.731152   \n",
       "2        -73.979027        40.763939         -74.005333         40.710087   \n",
       "3        -74.010040        40.719971         -74.012268         40.706718   \n",
       "4        -73.973053        40.793209         -73.972923         40.782520   \n",
       "\n",
       "  store_and_fwd_flag  trip_duration  \n",
       "0                  N            455  \n",
       "1                  N            663  \n",
       "2                  N           2124  \n",
       "3                  N            429  \n",
       "4                  N            435  "
      ]
     },
     "execution_count": 14,
     "metadata": {},
     "output_type": "execute_result"
    }
   ],
   "source": [
    "df.head()"
   ]
  },
  {
   "cell_type": "code",
   "execution_count": 15,
   "id": "f86d1eb8",
   "metadata": {},
   "outputs": [],
   "source": [
    "df[\"pickup_datetime\"] = pd.to_datetime(df[\"pickup_datetime\"])\n",
    "df[\"dropoff_datetime\"] = pd.to_datetime(df[\"dropoff_datetime\"])"
   ]
  },
  {
   "cell_type": "code",
   "execution_count": 16,
   "id": "6d1198db",
   "metadata": {},
   "outputs": [
    {
     "data": {
      "text/html": [
       "<div>\n",
       "<style scoped>\n",
       "    .dataframe tbody tr th:only-of-type {\n",
       "        vertical-align: middle;\n",
       "    }\n",
       "\n",
       "    .dataframe tbody tr th {\n",
       "        vertical-align: top;\n",
       "    }\n",
       "\n",
       "    .dataframe thead th {\n",
       "        text-align: right;\n",
       "    }\n",
       "</style>\n",
       "<table border=\"1\" class=\"dataframe\">\n",
       "  <thead>\n",
       "    <tr style=\"text-align: right;\">\n",
       "      <th></th>\n",
       "      <th>vendor_id</th>\n",
       "      <th>pickup_datetime</th>\n",
       "      <th>dropoff_datetime</th>\n",
       "      <th>passenger_count</th>\n",
       "      <th>pickup_longitude</th>\n",
       "      <th>pickup_latitude</th>\n",
       "      <th>dropoff_longitude</th>\n",
       "      <th>dropoff_latitude</th>\n",
       "      <th>store_and_fwd_flag</th>\n",
       "      <th>trip_duration</th>\n",
       "    </tr>\n",
       "  </thead>\n",
       "  <tbody>\n",
       "    <tr>\n",
       "      <th>0</th>\n",
       "      <td>2</td>\n",
       "      <td>2016-03-14 17:24:55</td>\n",
       "      <td>2016-03-14 17:32:30</td>\n",
       "      <td>1</td>\n",
       "      <td>-73.982155</td>\n",
       "      <td>40.767937</td>\n",
       "      <td>-73.964630</td>\n",
       "      <td>40.765602</td>\n",
       "      <td>N</td>\n",
       "      <td>455</td>\n",
       "    </tr>\n",
       "    <tr>\n",
       "      <th>1</th>\n",
       "      <td>1</td>\n",
       "      <td>2016-06-12 00:43:35</td>\n",
       "      <td>2016-06-12 00:54:38</td>\n",
       "      <td>1</td>\n",
       "      <td>-73.980415</td>\n",
       "      <td>40.738564</td>\n",
       "      <td>-73.999481</td>\n",
       "      <td>40.731152</td>\n",
       "      <td>N</td>\n",
       "      <td>663</td>\n",
       "    </tr>\n",
       "    <tr>\n",
       "      <th>2</th>\n",
       "      <td>2</td>\n",
       "      <td>2016-01-19 11:35:24</td>\n",
       "      <td>2016-01-19 12:10:48</td>\n",
       "      <td>1</td>\n",
       "      <td>-73.979027</td>\n",
       "      <td>40.763939</td>\n",
       "      <td>-74.005333</td>\n",
       "      <td>40.710087</td>\n",
       "      <td>N</td>\n",
       "      <td>2124</td>\n",
       "    </tr>\n",
       "    <tr>\n",
       "      <th>3</th>\n",
       "      <td>2</td>\n",
       "      <td>2016-04-06 19:32:31</td>\n",
       "      <td>2016-04-06 19:39:40</td>\n",
       "      <td>1</td>\n",
       "      <td>-74.010040</td>\n",
       "      <td>40.719971</td>\n",
       "      <td>-74.012268</td>\n",
       "      <td>40.706718</td>\n",
       "      <td>N</td>\n",
       "      <td>429</td>\n",
       "    </tr>\n",
       "    <tr>\n",
       "      <th>4</th>\n",
       "      <td>2</td>\n",
       "      <td>2016-03-26 13:30:55</td>\n",
       "      <td>2016-03-26 13:38:10</td>\n",
       "      <td>1</td>\n",
       "      <td>-73.973053</td>\n",
       "      <td>40.793209</td>\n",
       "      <td>-73.972923</td>\n",
       "      <td>40.782520</td>\n",
       "      <td>N</td>\n",
       "      <td>435</td>\n",
       "    </tr>\n",
       "  </tbody>\n",
       "</table>\n",
       "</div>"
      ],
      "text/plain": [
       "   vendor_id     pickup_datetime    dropoff_datetime  passenger_count  \\\n",
       "0          2 2016-03-14 17:24:55 2016-03-14 17:32:30                1   \n",
       "1          1 2016-06-12 00:43:35 2016-06-12 00:54:38                1   \n",
       "2          2 2016-01-19 11:35:24 2016-01-19 12:10:48                1   \n",
       "3          2 2016-04-06 19:32:31 2016-04-06 19:39:40                1   \n",
       "4          2 2016-03-26 13:30:55 2016-03-26 13:38:10                1   \n",
       "\n",
       "   pickup_longitude  pickup_latitude  dropoff_longitude  dropoff_latitude  \\\n",
       "0        -73.982155        40.767937         -73.964630         40.765602   \n",
       "1        -73.980415        40.738564         -73.999481         40.731152   \n",
       "2        -73.979027        40.763939         -74.005333         40.710087   \n",
       "3        -74.010040        40.719971         -74.012268         40.706718   \n",
       "4        -73.973053        40.793209         -73.972923         40.782520   \n",
       "\n",
       "  store_and_fwd_flag  trip_duration  \n",
       "0                  N            455  \n",
       "1                  N            663  \n",
       "2                  N           2124  \n",
       "3                  N            429  \n",
       "4                  N            435  "
      ]
     },
     "execution_count": 16,
     "metadata": {},
     "output_type": "execute_result"
    }
   ],
   "source": [
    "df.head()"
   ]
  },
  {
   "cell_type": "code",
   "execution_count": 17,
   "id": "1abe76ac",
   "metadata": {},
   "outputs": [
    {
     "name": "stdout",
     "output_type": "stream",
     "text": [
      "<class 'pandas.core.frame.DataFrame'>\n",
      "RangeIndex: 1458644 entries, 0 to 1458643\n",
      "Data columns (total 10 columns):\n",
      " #   Column              Non-Null Count    Dtype         \n",
      "---  ------              --------------    -----         \n",
      " 0   vendor_id           1458644 non-null  int64         \n",
      " 1   pickup_datetime     1458644 non-null  datetime64[ns]\n",
      " 2   dropoff_datetime    1458644 non-null  datetime64[ns]\n",
      " 3   passenger_count     1458644 non-null  int64         \n",
      " 4   pickup_longitude    1458644 non-null  float64       \n",
      " 5   pickup_latitude     1458644 non-null  float64       \n",
      " 6   dropoff_longitude   1458644 non-null  float64       \n",
      " 7   dropoff_latitude    1458644 non-null  float64       \n",
      " 8   store_and_fwd_flag  1458644 non-null  object        \n",
      " 9   trip_duration       1458644 non-null  int64         \n",
      "dtypes: datetime64[ns](2), float64(4), int64(3), object(1)\n",
      "memory usage: 111.3+ MB\n"
     ]
    }
   ],
   "source": [
    "df.info()"
   ]
  },
  {
   "cell_type": "code",
   "execution_count": 18,
   "id": "4e631720",
   "metadata": {},
   "outputs": [],
   "source": [
    "#Handling Outliers \n",
    "import seaborn as sns\n",
    "import matplotlib.pyplot as plt"
   ]
  },
  {
   "cell_type": "code",
   "execution_count": 19,
   "id": "87d90fc3",
   "metadata": {},
   "outputs": [
    {
     "data": {
      "text/plain": [
       "<Axes: xlabel='passenger_count'>"
      ]
     },
     "execution_count": 19,
     "metadata": {},
     "output_type": "execute_result"
    },
    {
     "data": {
      "image/png": "[encoded data removed]",
      "text/plain": [
       "<Figure size 640x480 with 1 Axes>"
      ]
     },
     "metadata": {},
     "output_type": "display_data"
    }
   ],
   "source": [
    "sns.boxplot(data=df,x=\"passenger_count\")"
   ]
  },
  {
   "cell_type": "code",
   "execution_count": 20,
   "id": "ddbfc1a2",
   "metadata": {},
   "outputs": [
    {
     "data": {
      "text/plain": [
       "1    1033540\n",
       "2     210318\n",
       "5      78088\n",
       "3      59896\n",
       "6      48333\n",
       "4      28404\n",
       "0         60\n",
       "7          3\n",
       "9          1\n",
       "8          1\n",
       "Name: passenger_count, dtype: int64"
      ]
     },
     "execution_count": 20,
     "metadata": {},
     "output_type": "execute_result"
    }
   ],
   "source": [
    "df[\"passenger_count\"].value_counts()"
   ]
  },
  {
   "cell_type": "code",
   "execution_count": 21,
   "id": "78fcd375",
   "metadata": {},
   "outputs": [],
   "source": [
    "for i in range(0,df.shape[0]):\n",
    "    if(df[\"passenger_count\"][i] in [0,7,8,9]):\n",
    "        df[\"passenger_count\"].replace(df[\"passenger_count\"][i],np.nan,inplace=True)"
   ]
  },
  {
   "cell_type": "code",
   "execution_count": 22,
   "id": "ae180c5e",
   "metadata": {},
   "outputs": [
    {
     "data": {
      "text/plain": [
       "vendor_id              0\n",
       "pickup_datetime        0\n",
       "dropoff_datetime       0\n",
       "passenger_count       65\n",
       "pickup_longitude       0\n",
       "pickup_latitude        0\n",
       "dropoff_longitude      0\n",
       "dropoff_latitude       0\n",
       "store_and_fwd_flag     0\n",
       "trip_duration          0\n",
       "dtype: int64"
      ]
     },
     "execution_count": 22,
     "metadata": {},
     "output_type": "execute_result"
    }
   ],
   "source": [
    "df.isnull().sum()"
   ]
  },
  {
   "cell_type": "code",
   "execution_count": 23,
   "id": "7c26bb90",
   "metadata": {},
   "outputs": [],
   "source": [
    "df.dropna(inplace=True)"
   ]
  },
  {
   "cell_type": "code",
   "execution_count": 24,
   "id": "195aa085",
   "metadata": {},
   "outputs": [
    {
     "data": {
      "text/plain": [
       "vendor_id             0\n",
       "pickup_datetime       0\n",
       "dropoff_datetime      0\n",
       "passenger_count       0\n",
       "pickup_longitude      0\n",
       "pickup_latitude       0\n",
       "dropoff_longitude     0\n",
       "dropoff_latitude      0\n",
       "store_and_fwd_flag    0\n",
       "trip_duration         0\n",
       "dtype: int64"
      ]
     },
     "execution_count": 24,
     "metadata": {},
     "output_type": "execute_result"
    }
   ],
   "source": [
    "df.isnull().sum()"
   ]
  },
  {
   "cell_type": "code",
   "execution_count": 25,
   "id": "c15a3d0b",
   "metadata": {},
   "outputs": [
    {
     "data": {
      "text/plain": [
       "<Axes: xlabel='passenger_count'>"
      ]
     },
     "execution_count": 25,
     "metadata": {},
     "output_type": "execute_result"
    },
    {
     "data": {
      "image/png": "[encoded data removed]",
      "text/plain": [
       "<Figure size 640x480 with 1 Axes>"
      ]
     },
     "metadata": {},
     "output_type": "display_data"
    }
   ],
   "source": [
    "sns.boxplot(data=df,x=\"passenger_count\")"
   ]
  },
  {
   "cell_type": "code",
   "execution_count": 26,
   "id": "627b43a0",
   "metadata": {},
   "outputs": [
    {
     "data": {
      "text/html": [
       "<div>\n",
       "<style scoped>\n",
       "    .dataframe tbody tr th:only-of-type {\n",
       "        vertical-align: middle;\n",
       "    }\n",
       "\n",
       "    .dataframe tbody tr th {\n",
       "        vertical-align: top;\n",
       "    }\n",
       "\n",
       "    .dataframe thead th {\n",
       "        text-align: right;\n",
       "    }\n",
       "</style>\n",
       "<table border=\"1\" class=\"dataframe\">\n",
       "  <thead>\n",
       "    <tr style=\"text-align: right;\">\n",
       "      <th></th>\n",
       "      <th>vendor_id</th>\n",
       "      <th>passenger_count</th>\n",
       "      <th>pickup_longitude</th>\n",
       "      <th>pickup_latitude</th>\n",
       "      <th>dropoff_longitude</th>\n",
       "      <th>dropoff_latitude</th>\n",
       "      <th>trip_duration</th>\n",
       "    </tr>\n",
       "  </thead>\n",
       "  <tbody>\n",
       "    <tr>\n",
       "      <th>count</th>\n",
       "      <td>1.458579e+06</td>\n",
       "      <td>1.458579e+06</td>\n",
       "      <td>1.458579e+06</td>\n",
       "      <td>1.458579e+06</td>\n",
       "      <td>1.458579e+06</td>\n",
       "      <td>1.458579e+06</td>\n",
       "      <td>1.458579e+06</td>\n",
       "    </tr>\n",
       "    <tr>\n",
       "      <th>mean</th>\n",
       "      <td>1.534951e+00</td>\n",
       "      <td>1.664578e+00</td>\n",
       "      <td>-7.397349e+01</td>\n",
       "      <td>4.075092e+01</td>\n",
       "      <td>-7.397342e+01</td>\n",
       "      <td>4.075180e+01</td>\n",
       "      <td>9.594638e+02</td>\n",
       "    </tr>\n",
       "    <tr>\n",
       "      <th>std</th>\n",
       "      <td>4.987771e-01</td>\n",
       "      <td>1.314181e+00</td>\n",
       "      <td>7.090125e-02</td>\n",
       "      <td>3.288016e-02</td>\n",
       "      <td>7.064251e-02</td>\n",
       "      <td>3.588949e-02</td>\n",
       "      <td>5.237073e+03</td>\n",
       "    </tr>\n",
       "    <tr>\n",
       "      <th>min</th>\n",
       "      <td>1.000000e+00</td>\n",
       "      <td>1.000000e+00</td>\n",
       "      <td>-1.219333e+02</td>\n",
       "      <td>3.435970e+01</td>\n",
       "      <td>-1.219333e+02</td>\n",
       "      <td>3.218114e+01</td>\n",
       "      <td>1.000000e+00</td>\n",
       "    </tr>\n",
       "    <tr>\n",
       "      <th>25%</th>\n",
       "      <td>1.000000e+00</td>\n",
       "      <td>1.000000e+00</td>\n",
       "      <td>-7.399187e+01</td>\n",
       "      <td>4.073735e+01</td>\n",
       "      <td>-7.399133e+01</td>\n",
       "      <td>4.073589e+01</td>\n",
       "      <td>3.970000e+02</td>\n",
       "    </tr>\n",
       "    <tr>\n",
       "      <th>50%</th>\n",
       "      <td>2.000000e+00</td>\n",
       "      <td>1.000000e+00</td>\n",
       "      <td>-7.398174e+01</td>\n",
       "      <td>4.075410e+01</td>\n",
       "      <td>-7.397975e+01</td>\n",
       "      <td>4.075452e+01</td>\n",
       "      <td>6.620000e+02</td>\n",
       "    </tr>\n",
       "    <tr>\n",
       "      <th>75%</th>\n",
       "      <td>2.000000e+00</td>\n",
       "      <td>2.000000e+00</td>\n",
       "      <td>-7.396733e+01</td>\n",
       "      <td>4.076836e+01</td>\n",
       "      <td>-7.396302e+01</td>\n",
       "      <td>4.076981e+01</td>\n",
       "      <td>1.075000e+03</td>\n",
       "    </tr>\n",
       "    <tr>\n",
       "      <th>max</th>\n",
       "      <td>2.000000e+00</td>\n",
       "      <td>6.000000e+00</td>\n",
       "      <td>-6.133553e+01</td>\n",
       "      <td>5.188108e+01</td>\n",
       "      <td>-6.133553e+01</td>\n",
       "      <td>4.392103e+01</td>\n",
       "      <td>3.526282e+06</td>\n",
       "    </tr>\n",
       "  </tbody>\n",
       "</table>\n",
       "</div>"
      ],
      "text/plain": [
       "          vendor_id  passenger_count  pickup_longitude  pickup_latitude  \\\n",
       "count  1.458579e+06     1.458579e+06      1.458579e+06     1.458579e+06   \n",
       "mean   1.534951e+00     1.664578e+00     -7.397349e+01     4.075092e+01   \n",
       "std    4.987771e-01     1.314181e+00      7.090125e-02     3.288016e-02   \n",
       "min    1.000000e+00     1.000000e+00     -1.219333e+02     3.435970e+01   \n",
       "25%    1.000000e+00     1.000000e+00     -7.399187e+01     4.073735e+01   \n",
       "50%    2.000000e+00     1.000000e+00     -7.398174e+01     4.075410e+01   \n",
       "75%    2.000000e+00     2.000000e+00     -7.396733e+01     4.076836e+01   \n",
       "max    2.000000e+00     6.000000e+00     -6.133553e+01     5.188108e+01   \n",
       "\n",
       "       dropoff_longitude  dropoff_latitude  trip_duration  \n",
       "count       1.458579e+06      1.458579e+06   1.458579e+06  \n",
       "mean       -7.397342e+01      4.075180e+01   9.594638e+02  \n",
       "std         7.064251e-02      3.588949e-02   5.237073e+03  \n",
       "min        -1.219333e+02      3.218114e+01   1.000000e+00  \n",
       "25%        -7.399133e+01      4.073589e+01   3.970000e+02  \n",
       "50%        -7.397975e+01      4.075452e+01   6.620000e+02  \n",
       "75%        -7.396302e+01      4.076981e+01   1.075000e+03  \n",
       "max        -6.133553e+01      4.392103e+01   3.526282e+06  "
      ]
     },
     "execution_count": 26,
     "metadata": {},
     "output_type": "execute_result"
    }
   ],
   "source": [
    "df.describe()"
   ]
  },
  {
   "cell_type": "code",
   "execution_count": 27,
   "id": "70256592",
   "metadata": {},
   "outputs": [
    {
     "data": {
      "text/plain": [
       "1.0    1033540\n",
       "2.0     210318\n",
       "5.0      78088\n",
       "3.0      59896\n",
       "6.0      48333\n",
       "4.0      28404\n",
       "Name: passenger_count, dtype: int64"
      ]
     },
     "execution_count": 27,
     "metadata": {},
     "output_type": "execute_result"
    }
   ],
   "source": [
    "df.passenger_count.value_counts()"
   ]
  },
  {
   "cell_type": "code",
   "execution_count": 28,
   "id": "3bca5b8a",
   "metadata": {},
   "outputs": [],
   "source": [
    "#Handling Outliters \n",
    "iqr = df[\"passenger_count\"].quantile(0.75) - df[\"passenger_count\"].quantile(0.25)\n",
    "\n",
    "upper_limit = df[\"passenger_count\"].quantile(0.75) + 1.5 * iqr\n",
    "lower_limit = df[\"passenger_count\"].quantile(0.25) - 1.5 * iqr"
   ]
  },
  {
   "cell_type": "code",
   "execution_count": 29,
   "id": "c1010654",
   "metadata": {},
   "outputs": [
    {
     "data": {
      "text/plain": [
       "(3.5, -0.5)"
      ]
     },
     "execution_count": 29,
     "metadata": {},
     "output_type": "execute_result"
    }
   ],
   "source": [
    "upper_limit, lower_limit"
   ]
  },
  {
   "cell_type": "code",
   "execution_count": 30,
   "id": "42dc8904",
   "metadata": {},
   "outputs": [],
   "source": [
    "upper_limit = 3\n",
    "lower_limit = 1"
   ]
  },
  {
   "cell_type": "code",
   "execution_count": 31,
   "id": "662e0817",
   "metadata": {},
   "outputs": [],
   "source": [
    "df[\"passenger_count\"] = np.where(df[\"passenger_count\"]<upper_limit,df[\"passenger_count\"],upper_limit)"
   ]
  },
  {
   "cell_type": "code",
   "execution_count": 32,
   "id": "205e6bb4",
   "metadata": {},
   "outputs": [
    {
     "data": {
      "text/plain": [
       "1.0    1033540\n",
       "3.0     214721\n",
       "2.0     210318\n",
       "Name: passenger_count, dtype: int64"
      ]
     },
     "execution_count": 32,
     "metadata": {},
     "output_type": "execute_result"
    }
   ],
   "source": [
    "df[\"passenger_count\"].value_counts()"
   ]
  },
  {
   "cell_type": "code",
   "execution_count": 33,
   "id": "09a15390",
   "metadata": {},
   "outputs": [
    {
     "data": {
      "text/html": [
       "<div>\n",
       "<style scoped>\n",
       "    .dataframe tbody tr th:only-of-type {\n",
       "        vertical-align: middle;\n",
       "    }\n",
       "\n",
       "    .dataframe tbody tr th {\n",
       "        vertical-align: top;\n",
       "    }\n",
       "\n",
       "    .dataframe thead th {\n",
       "        text-align: right;\n",
       "    }\n",
       "</style>\n",
       "<table border=\"1\" class=\"dataframe\">\n",
       "  <thead>\n",
       "    <tr style=\"text-align: right;\">\n",
       "      <th></th>\n",
       "      <th>vendor_id</th>\n",
       "      <th>passenger_count</th>\n",
       "      <th>pickup_longitude</th>\n",
       "      <th>pickup_latitude</th>\n",
       "      <th>dropoff_longitude</th>\n",
       "      <th>dropoff_latitude</th>\n",
       "      <th>trip_duration</th>\n",
       "    </tr>\n",
       "  </thead>\n",
       "  <tbody>\n",
       "    <tr>\n",
       "      <th>count</th>\n",
       "      <td>1.458579e+06</td>\n",
       "      <td>1.458579e+06</td>\n",
       "      <td>1.458579e+06</td>\n",
       "      <td>1.458579e+06</td>\n",
       "      <td>1.458579e+06</td>\n",
       "      <td>1.458579e+06</td>\n",
       "      <td>1.458579e+06</td>\n",
       "    </tr>\n",
       "    <tr>\n",
       "      <th>mean</th>\n",
       "      <td>1.534951e+00</td>\n",
       "      <td>1.438619e+00</td>\n",
       "      <td>-7.397349e+01</td>\n",
       "      <td>4.075092e+01</td>\n",
       "      <td>-7.397342e+01</td>\n",
       "      <td>4.075180e+01</td>\n",
       "      <td>9.594638e+02</td>\n",
       "    </tr>\n",
       "    <tr>\n",
       "      <th>std</th>\n",
       "      <td>4.987771e-01</td>\n",
       "      <td>7.352942e-01</td>\n",
       "      <td>7.090125e-02</td>\n",
       "      <td>3.288016e-02</td>\n",
       "      <td>7.064251e-02</td>\n",
       "      <td>3.588949e-02</td>\n",
       "      <td>5.237073e+03</td>\n",
       "    </tr>\n",
       "    <tr>\n",
       "      <th>min</th>\n",
       "      <td>1.000000e+00</td>\n",
       "      <td>1.000000e+00</td>\n",
       "      <td>-1.219333e+02</td>\n",
       "      <td>3.435970e+01</td>\n",
       "      <td>-1.219333e+02</td>\n",
       "      <td>3.218114e+01</td>\n",
       "      <td>1.000000e+00</td>\n",
       "    </tr>\n",
       "    <tr>\n",
       "      <th>25%</th>\n",
       "      <td>1.000000e+00</td>\n",
       "      <td>1.000000e+00</td>\n",
       "      <td>-7.399187e+01</td>\n",
       "      <td>4.073735e+01</td>\n",
       "      <td>-7.399133e+01</td>\n",
       "      <td>4.073589e+01</td>\n",
       "      <td>3.970000e+02</td>\n",
       "    </tr>\n",
       "    <tr>\n",
       "      <th>50%</th>\n",
       "      <td>2.000000e+00</td>\n",
       "      <td>1.000000e+00</td>\n",
       "      <td>-7.398174e+01</td>\n",
       "      <td>4.075410e+01</td>\n",
       "      <td>-7.397975e+01</td>\n",
       "      <td>4.075452e+01</td>\n",
       "      <td>6.620000e+02</td>\n",
       "    </tr>\n",
       "    <tr>\n",
       "      <th>75%</th>\n",
       "      <td>2.000000e+00</td>\n",
       "      <td>2.000000e+00</td>\n",
       "      <td>-7.396733e+01</td>\n",
       "      <td>4.076836e+01</td>\n",
       "      <td>-7.396302e+01</td>\n",
       "      <td>4.076981e+01</td>\n",
       "      <td>1.075000e+03</td>\n",
       "    </tr>\n",
       "    <tr>\n",
       "      <th>max</th>\n",
       "      <td>2.000000e+00</td>\n",
       "      <td>3.000000e+00</td>\n",
       "      <td>-6.133553e+01</td>\n",
       "      <td>5.188108e+01</td>\n",
       "      <td>-6.133553e+01</td>\n",
       "      <td>4.392103e+01</td>\n",
       "      <td>3.526282e+06</td>\n",
       "    </tr>\n",
       "  </tbody>\n",
       "</table>\n",
       "</div>"
      ],
      "text/plain": [
       "          vendor_id  passenger_count  pickup_longitude  pickup_latitude  \\\n",
       "count  1.458579e+06     1.458579e+06      1.458579e+06     1.458579e+06   \n",
       "mean   1.534951e+00     1.438619e+00     -7.397349e+01     4.075092e+01   \n",
       "std    4.987771e-01     7.352942e-01      7.090125e-02     3.288016e-02   \n",
       "min    1.000000e+00     1.000000e+00     -1.219333e+02     3.435970e+01   \n",
       "25%    1.000000e+00     1.000000e+00     -7.399187e+01     4.073735e+01   \n",
       "50%    2.000000e+00     1.000000e+00     -7.398174e+01     4.075410e+01   \n",
       "75%    2.000000e+00     2.000000e+00     -7.396733e+01     4.076836e+01   \n",
       "max    2.000000e+00     3.000000e+00     -6.133553e+01     5.188108e+01   \n",
       "\n",
       "       dropoff_longitude  dropoff_latitude  trip_duration  \n",
       "count       1.458579e+06      1.458579e+06   1.458579e+06  \n",
       "mean       -7.397342e+01      4.075180e+01   9.594638e+02  \n",
       "std         7.064251e-02      3.588949e-02   5.237073e+03  \n",
       "min        -1.219333e+02      3.218114e+01   1.000000e+00  \n",
       "25%        -7.399133e+01      4.073589e+01   3.970000e+02  \n",
       "50%        -7.397975e+01      4.075452e+01   6.620000e+02  \n",
       "75%        -7.396302e+01      4.076981e+01   1.075000e+03  \n",
       "max        -6.133553e+01      4.392103e+01   3.526282e+06  "
      ]
     },
     "execution_count": 33,
     "metadata": {},
     "output_type": "execute_result"
    }
   ],
   "source": [
    "df.describe()"
   ]
  },
  {
   "cell_type": "code",
   "execution_count": 34,
   "id": "f1e8678a",
   "metadata": {},
   "outputs": [
    {
     "data": {
      "text/plain": [
       "<Axes: xlabel='passenger_count'>"
      ]
     },
     "execution_count": 34,
     "metadata": {},
     "output_type": "execute_result"
    },
    {
     "data": {
      "image/png": "[encoded data removed]",
      "text/plain": [
       "<Figure size 640x480 with 1 Axes>"
      ]
     },
     "metadata": {},
     "output_type": "display_data"
    }
   ],
   "source": [
    "sns.boxplot(data=df,x=\"passenger_count\")"
   ]
  },
  {
   "cell_type": "markdown",
   "id": "20ab9a86",
   "metadata": {},
   "source": [
    "# passenger_count outliers handled"
   ]
  },
  {
   "cell_type": "code",
   "execution_count": 35,
   "id": "da37c340",
   "metadata": {},
   "outputs": [
    {
     "data": {
      "text/html": [
       "<div>\n",
       "<style scoped>\n",
       "    .dataframe tbody tr th:only-of-type {\n",
       "        vertical-align: middle;\n",
       "    }\n",
       "\n",
       "    .dataframe tbody tr th {\n",
       "        vertical-align: top;\n",
       "    }\n",
       "\n",
       "    .dataframe thead th {\n",
       "        text-align: right;\n",
       "    }\n",
       "</style>\n",
       "<table border=\"1\" class=\"dataframe\">\n",
       "  <thead>\n",
       "    <tr style=\"text-align: right;\">\n",
       "      <th></th>\n",
       "      <th>vendor_id</th>\n",
       "      <th>pickup_datetime</th>\n",
       "      <th>dropoff_datetime</th>\n",
       "      <th>passenger_count</th>\n",
       "      <th>pickup_longitude</th>\n",
       "      <th>pickup_latitude</th>\n",
       "      <th>dropoff_longitude</th>\n",
       "      <th>dropoff_latitude</th>\n",
       "      <th>store_and_fwd_flag</th>\n",
       "      <th>trip_duration</th>\n",
       "    </tr>\n",
       "  </thead>\n",
       "  <tbody>\n",
       "    <tr>\n",
       "      <th>0</th>\n",
       "      <td>2</td>\n",
       "      <td>2016-03-14 17:24:55</td>\n",
       "      <td>2016-03-14 17:32:30</td>\n",
       "      <td>1.0</td>\n",
       "      <td>-73.982155</td>\n",
       "      <td>40.767937</td>\n",
       "      <td>-73.964630</td>\n",
       "      <td>40.765602</td>\n",
       "      <td>N</td>\n",
       "      <td>455</td>\n",
       "    </tr>\n",
       "    <tr>\n",
       "      <th>1</th>\n",
       "      <td>1</td>\n",
       "      <td>2016-06-12 00:43:35</td>\n",
       "      <td>2016-06-12 00:54:38</td>\n",
       "      <td>1.0</td>\n",
       "      <td>-73.980415</td>\n",
       "      <td>40.738564</td>\n",
       "      <td>-73.999481</td>\n",
       "      <td>40.731152</td>\n",
       "      <td>N</td>\n",
       "      <td>663</td>\n",
       "    </tr>\n",
       "    <tr>\n",
       "      <th>2</th>\n",
       "      <td>2</td>\n",
       "      <td>2016-01-19 11:35:24</td>\n",
       "      <td>2016-01-19 12:10:48</td>\n",
       "      <td>1.0</td>\n",
       "      <td>-73.979027</td>\n",
       "      <td>40.763939</td>\n",
       "      <td>-74.005333</td>\n",
       "      <td>40.710087</td>\n",
       "      <td>N</td>\n",
       "      <td>2124</td>\n",
       "    </tr>\n",
       "    <tr>\n",
       "      <th>3</th>\n",
       "      <td>2</td>\n",
       "      <td>2016-04-06 19:32:31</td>\n",
       "      <td>2016-04-06 19:39:40</td>\n",
       "      <td>1.0</td>\n",
       "      <td>-74.010040</td>\n",
       "      <td>40.719971</td>\n",
       "      <td>-74.012268</td>\n",
       "      <td>40.706718</td>\n",
       "      <td>N</td>\n",
       "      <td>429</td>\n",
       "    </tr>\n",
       "    <tr>\n",
       "      <th>4</th>\n",
       "      <td>2</td>\n",
       "      <td>2016-03-26 13:30:55</td>\n",
       "      <td>2016-03-26 13:38:10</td>\n",
       "      <td>1.0</td>\n",
       "      <td>-73.973053</td>\n",
       "      <td>40.793209</td>\n",
       "      <td>-73.972923</td>\n",
       "      <td>40.782520</td>\n",
       "      <td>N</td>\n",
       "      <td>435</td>\n",
       "    </tr>\n",
       "  </tbody>\n",
       "</table>\n",
       "</div>"
      ],
      "text/plain": [
       "   vendor_id     pickup_datetime    dropoff_datetime  passenger_count  \\\n",
       "0          2 2016-03-14 17:24:55 2016-03-14 17:32:30              1.0   \n",
       "1          1 2016-06-12 00:43:35 2016-06-12 00:54:38              1.0   \n",
       "2          2 2016-01-19 11:35:24 2016-01-19 12:10:48              1.0   \n",
       "3          2 2016-04-06 19:32:31 2016-04-06 19:39:40              1.0   \n",
       "4          2 2016-03-26 13:30:55 2016-03-26 13:38:10              1.0   \n",
       "\n",
       "   pickup_longitude  pickup_latitude  dropoff_longitude  dropoff_latitude  \\\n",
       "0        -73.982155        40.767937         -73.964630         40.765602   \n",
       "1        -73.980415        40.738564         -73.999481         40.731152   \n",
       "2        -73.979027        40.763939         -74.005333         40.710087   \n",
       "3        -74.010040        40.719971         -74.012268         40.706718   \n",
       "4        -73.973053        40.793209         -73.972923         40.782520   \n",
       "\n",
       "  store_and_fwd_flag  trip_duration  \n",
       "0                  N            455  \n",
       "1                  N            663  \n",
       "2                  N           2124  \n",
       "3                  N            429  \n",
       "4                  N            435  "
      ]
     },
     "execution_count": 35,
     "metadata": {},
     "output_type": "execute_result"
    }
   ],
   "source": [
    "df.head()"
   ]
  },
  {
   "cell_type": "code",
   "execution_count": 36,
   "id": "a5089a2f",
   "metadata": {},
   "outputs": [
    {
     "data": {
      "text/plain": [
       "<Axes: xlabel='pickup_longitude'>"
      ]
     },
     "execution_count": 36,
     "metadata": {},
     "output_type": "execute_result"
    },
    {
     "data": {
      "image/png": "[encoded data removed]",
      "text/plain": [
       "<Figure size 640x480 with 1 Axes>"
      ]
     },
     "metadata": {},
     "output_type": "display_data"
    }
   ],
   "source": [
    "sns.boxplot(data=df,x=\"pickup_longitude\")"
   ]
  },
  {
   "cell_type": "code",
   "execution_count": 37,
   "id": "5887fd05",
   "metadata": {},
   "outputs": [],
   "source": [
    "from math import sin, cos, sqrt, atan2, radians\n",
    "\n",
    "def calculate_distance(lat1, lon1, lat2, lon2):\n",
    "   \n",
    "    lat1_rad = radians(lat1)\n",
    "    lon1_rad = radians(lon1)\n",
    "    lat2_rad = radians(lat2)\n",
    "    lon2_rad = radians(lon2)\n",
    "    \n",
    "    radius = 6371.0\n",
    "    \n",
    "    dlon = lon2_rad - lon1_rad\n",
    "    dlat = lat2_rad - lat1_rad\n",
    "    \n",
    "    a = sin(dlat / 2)**2 + cos(lat1_rad) * cos(lat2_rad) * sin(dlon / 2)**2\n",
    "    c = 2 * atan2(sqrt(a), sqrt(1 - a))\n",
    "    distance = radius * c\n",
    "    \n",
    "    return distance"
   ]
  },
  {
   "cell_type": "code",
   "execution_count": 38,
   "id": "01178bf5",
   "metadata": {},
   "outputs": [
    {
     "data": {
      "text/plain": [
       "vendor_id             0\n",
       "pickup_datetime       0\n",
       "dropoff_datetime      0\n",
       "passenger_count       0\n",
       "pickup_longitude      0\n",
       "pickup_latitude       0\n",
       "dropoff_longitude     0\n",
       "dropoff_latitude      0\n",
       "store_and_fwd_flag    0\n",
       "trip_duration         0\n",
       "dtype: int64"
      ]
     },
     "execution_count": 38,
     "metadata": {},
     "output_type": "execute_result"
    }
   ],
   "source": [
    "df.isnull().sum()"
   ]
  },
  {
   "cell_type": "code",
   "execution_count": 39,
   "id": "e1a81bcc",
   "metadata": {},
   "outputs": [
    {
     "data": {
      "text/plain": [
       "1458579"
      ]
     },
     "execution_count": 39,
     "metadata": {},
     "output_type": "execute_result"
    }
   ],
   "source": [
    "df.shape[0]"
   ]
  },
  {
   "cell_type": "code",
   "execution_count": 40,
   "id": "4820f69e",
   "metadata": {},
   "outputs": [],
   "source": [
    "a = []\n",
    "\n",
    "for i in range(df.shape[0]):\n",
    "    lat1 = df[\"pickup_latitude\"].iloc[i]\n",
    "    lon1 = df[\"pickup_longitude\"].iloc[i]\n",
    "    lat2 = df[\"dropoff_latitude\"].iloc[i]\n",
    "    lon2 = df[\"dropoff_longitude\"].iloc[i]\n",
    "    \n",
    "    if pd.notnull(lat1) and pd.notnull(lon1) and pd.notnull(lat2) and pd.notnull(lon2):\n",
    "        distance = calculate_distance(lat1, lon1, lat2, lon2)\n",
    "        a.append(distance)\n",
    "    else:\n",
    "        a.append(np.nan)\n"
   ]
  },
  {
   "cell_type": "code",
   "execution_count": 41,
   "id": "9a930f96",
   "metadata": {},
   "outputs": [],
   "source": [
    "distance = pd.Series(a)"
   ]
  },
  {
   "cell_type": "code",
   "execution_count": 42,
   "id": "378d31c0",
   "metadata": {},
   "outputs": [
    {
     "data": {
      "text/plain": [
       "(1458579,)"
      ]
     },
     "execution_count": 42,
     "metadata": {},
     "output_type": "execute_result"
    }
   ],
   "source": [
    "distance.shape"
   ]
  },
  {
   "cell_type": "code",
   "execution_count": 43,
   "id": "c7b2c8a0",
   "metadata": {},
   "outputs": [
    {
     "data": {
      "text/plain": [
       "(1458579, 10)"
      ]
     },
     "execution_count": 43,
     "metadata": {},
     "output_type": "execute_result"
    }
   ],
   "source": [
    "df.shape"
   ]
  },
  {
   "cell_type": "code",
   "execution_count": 44,
   "id": "03b6f35f",
   "metadata": {},
   "outputs": [],
   "source": [
    "df_reset = df.reset_index(drop=True)\n",
    "distance_reset = distance.reset_index(drop=True)\n",
    "\n",
    "concatenated_df = pd.concat([df_reset, distance_reset], axis=1)\n"
   ]
  },
  {
   "cell_type": "code",
   "execution_count": 45,
   "id": "28ace3a6",
   "metadata": {},
   "outputs": [
    {
     "data": {
      "text/plain": [
       "(1458579, 11)"
      ]
     },
     "execution_count": 45,
     "metadata": {},
     "output_type": "execute_result"
    }
   ],
   "source": [
    "concatenated_df.shape"
   ]
  },
  {
   "cell_type": "code",
   "execution_count": 46,
   "id": "a32b6034",
   "metadata": {},
   "outputs": [
    {
     "data": {
      "text/html": [
       "<div>\n",
       "<style scoped>\n",
       "    .dataframe tbody tr th:only-of-type {\n",
       "        vertical-align: middle;\n",
       "    }\n",
       "\n",
       "    .dataframe tbody tr th {\n",
       "        vertical-align: top;\n",
       "    }\n",
       "\n",
       "    .dataframe thead th {\n",
       "        text-align: right;\n",
       "    }\n",
       "</style>\n",
       "<table border=\"1\" class=\"dataframe\">\n",
       "  <thead>\n",
       "    <tr style=\"text-align: right;\">\n",
       "      <th></th>\n",
       "      <th>vendor_id</th>\n",
       "      <th>pickup_datetime</th>\n",
       "      <th>dropoff_datetime</th>\n",
       "      <th>passenger_count</th>\n",
       "      <th>pickup_longitude</th>\n",
       "      <th>pickup_latitude</th>\n",
       "      <th>dropoff_longitude</th>\n",
       "      <th>dropoff_latitude</th>\n",
       "      <th>store_and_fwd_flag</th>\n",
       "      <th>trip_duration</th>\n",
       "      <th>0</th>\n",
       "    </tr>\n",
       "  </thead>\n",
       "  <tbody>\n",
       "    <tr>\n",
       "      <th>0</th>\n",
       "      <td>2</td>\n",
       "      <td>2016-03-14 17:24:55</td>\n",
       "      <td>2016-03-14 17:32:30</td>\n",
       "      <td>1.0</td>\n",
       "      <td>-73.982155</td>\n",
       "      <td>40.767937</td>\n",
       "      <td>-73.964630</td>\n",
       "      <td>40.765602</td>\n",
       "      <td>N</td>\n",
       "      <td>455</td>\n",
       "      <td>1.498521</td>\n",
       "    </tr>\n",
       "    <tr>\n",
       "      <th>1</th>\n",
       "      <td>1</td>\n",
       "      <td>2016-06-12 00:43:35</td>\n",
       "      <td>2016-06-12 00:54:38</td>\n",
       "      <td>1.0</td>\n",
       "      <td>-73.980415</td>\n",
       "      <td>40.738564</td>\n",
       "      <td>-73.999481</td>\n",
       "      <td>40.731152</td>\n",
       "      <td>N</td>\n",
       "      <td>663</td>\n",
       "      <td>1.805507</td>\n",
       "    </tr>\n",
       "    <tr>\n",
       "      <th>2</th>\n",
       "      <td>2</td>\n",
       "      <td>2016-01-19 11:35:24</td>\n",
       "      <td>2016-01-19 12:10:48</td>\n",
       "      <td>1.0</td>\n",
       "      <td>-73.979027</td>\n",
       "      <td>40.763939</td>\n",
       "      <td>-74.005333</td>\n",
       "      <td>40.710087</td>\n",
       "      <td>N</td>\n",
       "      <td>2124</td>\n",
       "      <td>6.385098</td>\n",
       "    </tr>\n",
       "    <tr>\n",
       "      <th>3</th>\n",
       "      <td>2</td>\n",
       "      <td>2016-04-06 19:32:31</td>\n",
       "      <td>2016-04-06 19:39:40</td>\n",
       "      <td>1.0</td>\n",
       "      <td>-74.010040</td>\n",
       "      <td>40.719971</td>\n",
       "      <td>-74.012268</td>\n",
       "      <td>40.706718</td>\n",
       "      <td>N</td>\n",
       "      <td>429</td>\n",
       "      <td>1.485498</td>\n",
       "    </tr>\n",
       "    <tr>\n",
       "      <th>4</th>\n",
       "      <td>2</td>\n",
       "      <td>2016-03-26 13:30:55</td>\n",
       "      <td>2016-03-26 13:38:10</td>\n",
       "      <td>1.0</td>\n",
       "      <td>-73.973053</td>\n",
       "      <td>40.793209</td>\n",
       "      <td>-73.972923</td>\n",
       "      <td>40.782520</td>\n",
       "      <td>N</td>\n",
       "      <td>435</td>\n",
       "      <td>1.188588</td>\n",
       "    </tr>\n",
       "  </tbody>\n",
       "</table>\n",
       "</div>"
      ],
      "text/plain": [
       "   vendor_id     pickup_datetime    dropoff_datetime  passenger_count  \\\n",
       "0          2 2016-03-14 17:24:55 2016-03-14 17:32:30              1.0   \n",
       "1          1 2016-06-12 00:43:35 2016-06-12 00:54:38              1.0   \n",
       "2          2 2016-01-19 11:35:24 2016-01-19 12:10:48              1.0   \n",
       "3          2 2016-04-06 19:32:31 2016-04-06 19:39:40              1.0   \n",
       "4          2 2016-03-26 13:30:55 2016-03-26 13:38:10              1.0   \n",
       "\n",
       "   pickup_longitude  pickup_latitude  dropoff_longitude  dropoff_latitude  \\\n",
       "0        -73.982155        40.767937         -73.964630         40.765602   \n",
       "1        -73.980415        40.738564         -73.999481         40.731152   \n",
       "2        -73.979027        40.763939         -74.005333         40.710087   \n",
       "3        -74.010040        40.719971         -74.012268         40.706718   \n",
       "4        -73.973053        40.793209         -73.972923         40.782520   \n",
       "\n",
       "  store_and_fwd_flag  trip_duration         0  \n",
       "0                  N            455  1.498521  \n",
       "1                  N            663  1.805507  \n",
       "2                  N           2124  6.385098  \n",
       "3                  N            429  1.485498  \n",
       "4                  N            435  1.188588  "
      ]
     },
     "execution_count": 46,
     "metadata": {},
     "output_type": "execute_result"
    }
   ],
   "source": [
    "concatenated_df.head()"
   ]
  },
  {
   "cell_type": "code",
   "execution_count": 47,
   "id": "0c44b9b0",
   "metadata": {},
   "outputs": [],
   "source": [
    "new_name = {0:\"distance\"}\n",
    "concatenated_df.rename(columns=new_name,inplace=True)"
   ]
  },
  {
   "cell_type": "code",
   "execution_count": 48,
   "id": "e81dbece",
   "metadata": {},
   "outputs": [
    {
     "data": {
      "text/html": [
       "<div>\n",
       "<style scoped>\n",
       "    .dataframe tbody tr th:only-of-type {\n",
       "        vertical-align: middle;\n",
       "    }\n",
       "\n",
       "    .dataframe tbody tr th {\n",
       "        vertical-align: top;\n",
       "    }\n",
       "\n",
       "    .dataframe thead th {\n",
       "        text-align: right;\n",
       "    }\n",
       "</style>\n",
       "<table border=\"1\" class=\"dataframe\">\n",
       "  <thead>\n",
       "    <tr style=\"text-align: right;\">\n",
       "      <th></th>\n",
       "      <th>vendor_id</th>\n",
       "      <th>pickup_datetime</th>\n",
       "      <th>dropoff_datetime</th>\n",
       "      <th>passenger_count</th>\n",
       "      <th>pickup_longitude</th>\n",
       "      <th>pickup_latitude</th>\n",
       "      <th>dropoff_longitude</th>\n",
       "      <th>dropoff_latitude</th>\n",
       "      <th>store_and_fwd_flag</th>\n",
       "      <th>trip_duration</th>\n",
       "      <th>distance</th>\n",
       "    </tr>\n",
       "  </thead>\n",
       "  <tbody>\n",
       "    <tr>\n",
       "      <th>0</th>\n",
       "      <td>2</td>\n",
       "      <td>2016-03-14 17:24:55</td>\n",
       "      <td>2016-03-14 17:32:30</td>\n",
       "      <td>1.0</td>\n",
       "      <td>-73.982155</td>\n",
       "      <td>40.767937</td>\n",
       "      <td>-73.964630</td>\n",
       "      <td>40.765602</td>\n",
       "      <td>N</td>\n",
       "      <td>455</td>\n",
       "      <td>1.498521</td>\n",
       "    </tr>\n",
       "    <tr>\n",
       "      <th>1</th>\n",
       "      <td>1</td>\n",
       "      <td>2016-06-12 00:43:35</td>\n",
       "      <td>2016-06-12 00:54:38</td>\n",
       "      <td>1.0</td>\n",
       "      <td>-73.980415</td>\n",
       "      <td>40.738564</td>\n",
       "      <td>-73.999481</td>\n",
       "      <td>40.731152</td>\n",
       "      <td>N</td>\n",
       "      <td>663</td>\n",
       "      <td>1.805507</td>\n",
       "    </tr>\n",
       "    <tr>\n",
       "      <th>2</th>\n",
       "      <td>2</td>\n",
       "      <td>2016-01-19 11:35:24</td>\n",
       "      <td>2016-01-19 12:10:48</td>\n",
       "      <td>1.0</td>\n",
       "      <td>-73.979027</td>\n",
       "      <td>40.763939</td>\n",
       "      <td>-74.005333</td>\n",
       "      <td>40.710087</td>\n",
       "      <td>N</td>\n",
       "      <td>2124</td>\n",
       "      <td>6.385098</td>\n",
       "    </tr>\n",
       "    <tr>\n",
       "      <th>3</th>\n",
       "      <td>2</td>\n",
       "      <td>2016-04-06 19:32:31</td>\n",
       "      <td>2016-04-06 19:39:40</td>\n",
       "      <td>1.0</td>\n",
       "      <td>-74.010040</td>\n",
       "      <td>40.719971</td>\n",
       "      <td>-74.012268</td>\n",
       "      <td>40.706718</td>\n",
       "      <td>N</td>\n",
       "      <td>429</td>\n",
       "      <td>1.485498</td>\n",
       "    </tr>\n",
       "    <tr>\n",
       "      <th>4</th>\n",
       "      <td>2</td>\n",
       "      <td>2016-03-26 13:30:55</td>\n",
       "      <td>2016-03-26 13:38:10</td>\n",
       "      <td>1.0</td>\n",
       "      <td>-73.973053</td>\n",
       "      <td>40.793209</td>\n",
       "      <td>-73.972923</td>\n",
       "      <td>40.782520</td>\n",
       "      <td>N</td>\n",
       "      <td>435</td>\n",
       "      <td>1.188588</td>\n",
       "    </tr>\n",
       "  </tbody>\n",
       "</table>\n",
       "</div>"
      ],
      "text/plain": [
       "   vendor_id     pickup_datetime    dropoff_datetime  passenger_count  \\\n",
       "0          2 2016-03-14 17:24:55 2016-03-14 17:32:30              1.0   \n",
       "1          1 2016-06-12 00:43:35 2016-06-12 00:54:38              1.0   \n",
       "2          2 2016-01-19 11:35:24 2016-01-19 12:10:48              1.0   \n",
       "3          2 2016-04-06 19:32:31 2016-04-06 19:39:40              1.0   \n",
       "4          2 2016-03-26 13:30:55 2016-03-26 13:38:10              1.0   \n",
       "\n",
       "   pickup_longitude  pickup_latitude  dropoff_longitude  dropoff_latitude  \\\n",
       "0        -73.982155        40.767937         -73.964630         40.765602   \n",
       "1        -73.980415        40.738564         -73.999481         40.731152   \n",
       "2        -73.979027        40.763939         -74.005333         40.710087   \n",
       "3        -74.010040        40.719971         -74.012268         40.706718   \n",
       "4        -73.973053        40.793209         -73.972923         40.782520   \n",
       "\n",
       "  store_and_fwd_flag  trip_duration  distance  \n",
       "0                  N            455  1.498521  \n",
       "1                  N            663  1.805507  \n",
       "2                  N           2124  6.385098  \n",
       "3                  N            429  1.485498  \n",
       "4                  N            435  1.188588  "
      ]
     },
     "execution_count": 48,
     "metadata": {},
     "output_type": "execute_result"
    }
   ],
   "source": [
    "df_new = concatenated_df\n",
    "df_new.head()"
   ]
  },
  {
   "cell_type": "code",
   "execution_count": 49,
   "id": "27a3f86b",
   "metadata": {},
   "outputs": [],
   "source": [
    "df_new.drop([\"pickup_longitude\",\"pickup_latitude\",\"dropoff_longitude\",\"dropoff_latitude\"],axis=1,inplace=True)"
   ]
  },
  {
   "cell_type": "code",
   "execution_count": 50,
   "id": "f93ec415",
   "metadata": {},
   "outputs": [
    {
     "data": {
      "text/html": [
       "<div>\n",
       "<style scoped>\n",
       "    .dataframe tbody tr th:only-of-type {\n",
       "        vertical-align: middle;\n",
       "    }\n",
       "\n",
       "    .dataframe tbody tr th {\n",
       "        vertical-align: top;\n",
       "    }\n",
       "\n",
       "    .dataframe thead th {\n",
       "        text-align: right;\n",
       "    }\n",
       "</style>\n",
       "<table border=\"1\" class=\"dataframe\">\n",
       "  <thead>\n",
       "    <tr style=\"text-align: right;\">\n",
       "      <th></th>\n",
       "      <th>vendor_id</th>\n",
       "      <th>pickup_datetime</th>\n",
       "      <th>dropoff_datetime</th>\n",
       "      <th>passenger_count</th>\n",
       "      <th>store_and_fwd_flag</th>\n",
       "      <th>trip_duration</th>\n",
       "      <th>distance</th>\n",
       "    </tr>\n",
       "  </thead>\n",
       "  <tbody>\n",
       "    <tr>\n",
       "      <th>0</th>\n",
       "      <td>2</td>\n",
       "      <td>2016-03-14 17:24:55</td>\n",
       "      <td>2016-03-14 17:32:30</td>\n",
       "      <td>1.0</td>\n",
       "      <td>N</td>\n",
       "      <td>455</td>\n",
       "      <td>1.498521</td>\n",
       "    </tr>\n",
       "    <tr>\n",
       "      <th>1</th>\n",
       "      <td>1</td>\n",
       "      <td>2016-06-12 00:43:35</td>\n",
       "      <td>2016-06-12 00:54:38</td>\n",
       "      <td>1.0</td>\n",
       "      <td>N</td>\n",
       "      <td>663</td>\n",
       "      <td>1.805507</td>\n",
       "    </tr>\n",
       "    <tr>\n",
       "      <th>2</th>\n",
       "      <td>2</td>\n",
       "      <td>2016-01-19 11:35:24</td>\n",
       "      <td>2016-01-19 12:10:48</td>\n",
       "      <td>1.0</td>\n",
       "      <td>N</td>\n",
       "      <td>2124</td>\n",
       "      <td>6.385098</td>\n",
       "    </tr>\n",
       "    <tr>\n",
       "      <th>3</th>\n",
       "      <td>2</td>\n",
       "      <td>2016-04-06 19:32:31</td>\n",
       "      <td>2016-04-06 19:39:40</td>\n",
       "      <td>1.0</td>\n",
       "      <td>N</td>\n",
       "      <td>429</td>\n",
       "      <td>1.485498</td>\n",
       "    </tr>\n",
       "    <tr>\n",
       "      <th>4</th>\n",
       "      <td>2</td>\n",
       "      <td>2016-03-26 13:30:55</td>\n",
       "      <td>2016-03-26 13:38:10</td>\n",
       "      <td>1.0</td>\n",
       "      <td>N</td>\n",
       "      <td>435</td>\n",
       "      <td>1.188588</td>\n",
       "    </tr>\n",
       "  </tbody>\n",
       "</table>\n",
       "</div>"
      ],
      "text/plain": [
       "   vendor_id     pickup_datetime    dropoff_datetime  passenger_count  \\\n",
       "0          2 2016-03-14 17:24:55 2016-03-14 17:32:30              1.0   \n",
       "1          1 2016-06-12 00:43:35 2016-06-12 00:54:38              1.0   \n",
       "2          2 2016-01-19 11:35:24 2016-01-19 12:10:48              1.0   \n",
       "3          2 2016-04-06 19:32:31 2016-04-06 19:39:40              1.0   \n",
       "4          2 2016-03-26 13:30:55 2016-03-26 13:38:10              1.0   \n",
       "\n",
       "  store_and_fwd_flag  trip_duration  distance  \n",
       "0                  N            455  1.498521  \n",
       "1                  N            663  1.805507  \n",
       "2                  N           2124  6.385098  \n",
       "3                  N            429  1.485498  \n",
       "4                  N            435  1.188588  "
      ]
     },
     "execution_count": 50,
     "metadata": {},
     "output_type": "execute_result"
    }
   ],
   "source": [
    "df_new.head()"
   ]
  },
  {
   "cell_type": "code",
   "execution_count": 51,
   "id": "38e53315",
   "metadata": {},
   "outputs": [
    {
     "name": "stderr",
     "output_type": "stream",
     "text": [
      "C:\\Users\\khushi garg\\AppData\\Local\\Temp\\ipykernel_17640\\4139654481.py:1: FutureWarning: The default value of numeric_only in DataFrame.corr is deprecated. In a future version, it will default to False. Select only valid columns or specify the value of numeric_only to silence this warning.\n",
      "  df_new.corr()\n"
     ]
    },
    {
     "data": {
      "text/html": [
       "<div>\n",
       "<style scoped>\n",
       "    .dataframe tbody tr th:only-of-type {\n",
       "        vertical-align: middle;\n",
       "    }\n",
       "\n",
       "    .dataframe tbody tr th {\n",
       "        vertical-align: top;\n",
       "    }\n",
       "\n",
       "    .dataframe thead th {\n",
       "        text-align: right;\n",
       "    }\n",
       "</style>\n",
       "<table border=\"1\" class=\"dataframe\">\n",
       "  <thead>\n",
       "    <tr style=\"text-align: right;\">\n",
       "      <th></th>\n",
       "      <th>vendor_id</th>\n",
       "      <th>passenger_count</th>\n",
       "      <th>trip_duration</th>\n",
       "      <th>distance</th>\n",
       "    </tr>\n",
       "  </thead>\n",
       "  <tbody>\n",
       "    <tr>\n",
       "      <th>vendor_id</th>\n",
       "      <td>1.000000</td>\n",
       "      <td>0.251647</td>\n",
       "      <td>0.020297</td>\n",
       "      <td>0.008116</td>\n",
       "    </tr>\n",
       "    <tr>\n",
       "      <th>passenger_count</th>\n",
       "      <td>0.251647</td>\n",
       "      <td>1.000000</td>\n",
       "      <td>0.008974</td>\n",
       "      <td>0.015962</td>\n",
       "    </tr>\n",
       "    <tr>\n",
       "      <th>trip_duration</th>\n",
       "      <td>0.020297</td>\n",
       "      <td>0.008974</td>\n",
       "      <td>1.000000</td>\n",
       "      <td>0.094790</td>\n",
       "    </tr>\n",
       "    <tr>\n",
       "      <th>distance</th>\n",
       "      <td>0.008116</td>\n",
       "      <td>0.015962</td>\n",
       "      <td>0.094790</td>\n",
       "      <td>1.000000</td>\n",
       "    </tr>\n",
       "  </tbody>\n",
       "</table>\n",
       "</div>"
      ],
      "text/plain": [
       "                 vendor_id  passenger_count  trip_duration  distance\n",
       "vendor_id         1.000000         0.251647       0.020297  0.008116\n",
       "passenger_count   0.251647         1.000000       0.008974  0.015962\n",
       "trip_duration     0.020297         0.008974       1.000000  0.094790\n",
       "distance          0.008116         0.015962       0.094790  1.000000"
      ]
     },
     "execution_count": 51,
     "metadata": {},
     "output_type": "execute_result"
    }
   ],
   "source": [
    "df_new.corr()"
   ]
  },
  {
   "cell_type": "markdown",
   "id": "d225f46e",
   "metadata": {},
   "source": [
    "# Univariate Analysis"
   ]
  },
  {
   "cell_type": "markdown",
   "id": "f300c6b4",
   "metadata": {},
   "source": [
    "## Vendor_id "
   ]
  },
  {
   "cell_type": "code",
   "execution_count": 52,
   "id": "42fef4fb",
   "metadata": {},
   "outputs": [
    {
     "data": {
      "text/plain": [
       "<Axes: xlabel='vendor_id'>"
      ]
     },
     "execution_count": 52,
     "metadata": {},
     "output_type": "execute_result"
    },
    {
     "data": {
      "image/png": "[encoded data removed]",
      "text/plain": [
       "<Figure size 640x480 with 1 Axes>"
      ]
     },
     "metadata": {},
     "output_type": "display_data"
    }
   ],
   "source": [
    "#Box-plot\n",
    "sns.boxplot(df_new,x=\"vendor_id\")"
   ]
  },
  {
   "cell_type": "code",
   "execution_count": 53,
   "id": "656d88ef",
   "metadata": {},
   "outputs": [
    {
     "data": {
      "text/plain": [
       "<Axes: xlabel='vendor_id', ylabel='Count'>"
      ]
     },
     "execution_count": 53,
     "metadata": {},
     "output_type": "execute_result"
    },
    {
     "data": {
      "image/png": "[encoded data removed]",
      "text/plain": [
       "<Figure size 640x480 with 1 Axes>"
      ]
     },
     "metadata": {},
     "output_type": "display_data"
    }
   ],
   "source": [
    "#Histogram\n",
    "sns.histplot(df_new,x=\"vendor_id\")"
   ]
  },
  {
   "cell_type": "markdown",
   "id": "0b17978a",
   "metadata": {},
   "source": [
    "## passenger_count"
   ]
  },
  {
   "cell_type": "code",
   "execution_count": 54,
   "id": "95840715",
   "metadata": {},
   "outputs": [
    {
     "data": {
      "text/plain": [
       "<Axes: xlabel='passenger_count', ylabel='Count'>"
      ]
     },
     "execution_count": 54,
     "metadata": {},
     "output_type": "execute_result"
    },
    {
     "data": {
      "image/png": "[encoded data removed]",
      "text/plain": [
       "<Figure size 640x480 with 1 Axes>"
      ]
     },
     "metadata": {},
     "output_type": "display_data"
    }
   ],
   "source": [
    "sns.histplot(df_new,x=\"passenger_count\")"
   ]
  },
  {
   "cell_type": "markdown",
   "id": "2b917f74",
   "metadata": {},
   "source": [
    "## Distance"
   ]
  },
  {
   "cell_type": "code",
   "execution_count": 55,
   "id": "cbdac325",
   "metadata": {},
   "outputs": [
    {
     "data": {
      "text/plain": [
       "<Axes: xlabel='distance'>"
      ]
     },
     "execution_count": 55,
     "metadata": {},
     "output_type": "execute_result"
    },
    {
     "data": {
      "image/png": "[encoded data removed]",
      "text/plain": [
       "<Figure size 640x480 with 1 Axes>"
      ]
     },
     "metadata": {},
     "output_type": "display_data"
    }
   ],
   "source": [
    "sns.boxplot(df_new,x=\"distance\")"
   ]
  },
  {
   "cell_type": "code",
   "execution_count": 56,
   "id": "8af9d343",
   "metadata": {},
   "outputs": [
    {
     "data": {
      "text/plain": [
       "0.000000    5887\n",
       "0.000424     101\n",
       "0.000424      52\n",
       "0.000424      48\n",
       "0.000848      37\n",
       "            ... \n",
       "0.434273       1\n",
       "3.809269       1\n",
       "0.563329       1\n",
       "5.925427       1\n",
       "1.134042       1\n",
       "Name: distance, Length: 1452237, dtype: int64"
      ]
     },
     "execution_count": 56,
     "metadata": {},
     "output_type": "execute_result"
    }
   ],
   "source": [
    "df_new[\"distance\"].value_counts()"
   ]
  },
  {
   "cell_type": "code",
   "execution_count": 57,
   "id": "83e353d1",
   "metadata": {},
   "outputs": [
    {
     "data": {
      "text/html": [
       "<div>\n",
       "<style scoped>\n",
       "    .dataframe tbody tr th:only-of-type {\n",
       "        vertical-align: middle;\n",
       "    }\n",
       "\n",
       "    .dataframe tbody tr th {\n",
       "        vertical-align: top;\n",
       "    }\n",
       "\n",
       "    .dataframe thead th {\n",
       "        text-align: right;\n",
       "    }\n",
       "</style>\n",
       "<table border=\"1\" class=\"dataframe\">\n",
       "  <thead>\n",
       "    <tr style=\"text-align: right;\">\n",
       "      <th></th>\n",
       "      <th>vendor_id</th>\n",
       "      <th>passenger_count</th>\n",
       "      <th>trip_duration</th>\n",
       "      <th>distance</th>\n",
       "    </tr>\n",
       "  </thead>\n",
       "  <tbody>\n",
       "    <tr>\n",
       "      <th>count</th>\n",
       "      <td>1.458579e+06</td>\n",
       "      <td>1.458579e+06</td>\n",
       "      <td>1.458579e+06</td>\n",
       "      <td>1.458579e+06</td>\n",
       "    </tr>\n",
       "    <tr>\n",
       "      <th>mean</th>\n",
       "      <td>1.534951e+00</td>\n",
       "      <td>1.438619e+00</td>\n",
       "      <td>9.594638e+02</td>\n",
       "      <td>3.440962e+00</td>\n",
       "    </tr>\n",
       "    <tr>\n",
       "      <th>std</th>\n",
       "      <td>4.987771e-01</td>\n",
       "      <td>7.352942e-01</td>\n",
       "      <td>5.237073e+03</td>\n",
       "      <td>4.296548e+00</td>\n",
       "    </tr>\n",
       "    <tr>\n",
       "      <th>min</th>\n",
       "      <td>1.000000e+00</td>\n",
       "      <td>1.000000e+00</td>\n",
       "      <td>1.000000e+00</td>\n",
       "      <td>0.000000e+00</td>\n",
       "    </tr>\n",
       "    <tr>\n",
       "      <th>25%</th>\n",
       "      <td>1.000000e+00</td>\n",
       "      <td>1.000000e+00</td>\n",
       "      <td>3.970000e+02</td>\n",
       "      <td>1.231912e+00</td>\n",
       "    </tr>\n",
       "    <tr>\n",
       "      <th>50%</th>\n",
       "      <td>2.000000e+00</td>\n",
       "      <td>1.000000e+00</td>\n",
       "      <td>6.620000e+02</td>\n",
       "      <td>2.093784e+00</td>\n",
       "    </tr>\n",
       "    <tr>\n",
       "      <th>75%</th>\n",
       "      <td>2.000000e+00</td>\n",
       "      <td>2.000000e+00</td>\n",
       "      <td>1.075000e+03</td>\n",
       "      <td>3.875452e+00</td>\n",
       "    </tr>\n",
       "    <tr>\n",
       "      <th>max</th>\n",
       "      <td>2.000000e+00</td>\n",
       "      <td>3.000000e+00</td>\n",
       "      <td>3.526282e+06</td>\n",
       "      <td>1.240909e+03</td>\n",
       "    </tr>\n",
       "  </tbody>\n",
       "</table>\n",
       "</div>"
      ],
      "text/plain": [
       "          vendor_id  passenger_count  trip_duration      distance\n",
       "count  1.458579e+06     1.458579e+06   1.458579e+06  1.458579e+06\n",
       "mean   1.534951e+00     1.438619e+00   9.594638e+02  3.440962e+00\n",
       "std    4.987771e-01     7.352942e-01   5.237073e+03  4.296548e+00\n",
       "min    1.000000e+00     1.000000e+00   1.000000e+00  0.000000e+00\n",
       "25%    1.000000e+00     1.000000e+00   3.970000e+02  1.231912e+00\n",
       "50%    2.000000e+00     1.000000e+00   6.620000e+02  2.093784e+00\n",
       "75%    2.000000e+00     2.000000e+00   1.075000e+03  3.875452e+00\n",
       "max    2.000000e+00     3.000000e+00   3.526282e+06  1.240909e+03"
      ]
     },
     "execution_count": 57,
     "metadata": {},
     "output_type": "execute_result"
    }
   ],
   "source": [
    "df_new.describe()"
   ]
  },
  {
   "cell_type": "code",
   "execution_count": 58,
   "id": "62e8c696",
   "metadata": {},
   "outputs": [],
   "source": [
    "#Handling Outliters for distance\n",
    "iqr = df_new[\"distance\"].quantile(0.75) - df_new[\"distance\"].quantile(0.25)\n",
    "\n",
    "upper_limit = df_new[\"distance\"].quantile(0.75) + 1.5 * iqr\n",
    "lower_limit = df_new[\"distance\"].quantile(0.25) - 1.5 * iqr"
   ]
  },
  {
   "cell_type": "code",
   "execution_count": 59,
   "id": "44132e0a",
   "metadata": {},
   "outputs": [
    {
     "data": {
      "text/plain": [
       "(7.840761512329841, -2.733397454937129)"
      ]
     },
     "execution_count": 59,
     "metadata": {},
     "output_type": "execute_result"
    }
   ],
   "source": [
    "upper_limit,lower_limit"
   ]
  },
  {
   "cell_type": "code",
   "execution_count": 60,
   "id": "7c2bcc8e",
   "metadata": {},
   "outputs": [],
   "source": [
    "lower_limit = 0 #Distance cannot be negative"
   ]
  },
  {
   "cell_type": "code",
   "execution_count": 61,
   "id": "476de637",
   "metadata": {},
   "outputs": [],
   "source": [
    "df_new[\"distance\"] = np.where(df_new[\"distance\"]<upper_limit,df_new[\"distance\"],upper_limit)"
   ]
  },
  {
   "cell_type": "code",
   "execution_count": 62,
   "id": "2b6bccc0",
   "metadata": {},
   "outputs": [
    {
     "data": {
      "text/html": [
       "<div>\n",
       "<style scoped>\n",
       "    .dataframe tbody tr th:only-of-type {\n",
       "        vertical-align: middle;\n",
       "    }\n",
       "\n",
       "    .dataframe tbody tr th {\n",
       "        vertical-align: top;\n",
       "    }\n",
       "\n",
       "    .dataframe thead th {\n",
       "        text-align: right;\n",
       "    }\n",
       "</style>\n",
       "<table border=\"1\" class=\"dataframe\">\n",
       "  <thead>\n",
       "    <tr style=\"text-align: right;\">\n",
       "      <th></th>\n",
       "      <th>vendor_id</th>\n",
       "      <th>passenger_count</th>\n",
       "      <th>trip_duration</th>\n",
       "      <th>distance</th>\n",
       "    </tr>\n",
       "  </thead>\n",
       "  <tbody>\n",
       "    <tr>\n",
       "      <th>count</th>\n",
       "      <td>1.458579e+06</td>\n",
       "      <td>1.458579e+06</td>\n",
       "      <td>1.458579e+06</td>\n",
       "      <td>1.458579e+06</td>\n",
       "    </tr>\n",
       "    <tr>\n",
       "      <th>mean</th>\n",
       "      <td>1.534951e+00</td>\n",
       "      <td>1.438619e+00</td>\n",
       "      <td>9.594638e+02</td>\n",
       "      <td>2.899927e+00</td>\n",
       "    </tr>\n",
       "    <tr>\n",
       "      <th>std</th>\n",
       "      <td>4.987771e-01</td>\n",
       "      <td>7.352942e-01</td>\n",
       "      <td>5.237073e+03</td>\n",
       "      <td>2.245491e+00</td>\n",
       "    </tr>\n",
       "    <tr>\n",
       "      <th>min</th>\n",
       "      <td>1.000000e+00</td>\n",
       "      <td>1.000000e+00</td>\n",
       "      <td>1.000000e+00</td>\n",
       "      <td>0.000000e+00</td>\n",
       "    </tr>\n",
       "    <tr>\n",
       "      <th>25%</th>\n",
       "      <td>1.000000e+00</td>\n",
       "      <td>1.000000e+00</td>\n",
       "      <td>3.970000e+02</td>\n",
       "      <td>1.231912e+00</td>\n",
       "    </tr>\n",
       "    <tr>\n",
       "      <th>50%</th>\n",
       "      <td>2.000000e+00</td>\n",
       "      <td>1.000000e+00</td>\n",
       "      <td>6.620000e+02</td>\n",
       "      <td>2.093784e+00</td>\n",
       "    </tr>\n",
       "    <tr>\n",
       "      <th>75%</th>\n",
       "      <td>2.000000e+00</td>\n",
       "      <td>2.000000e+00</td>\n",
       "      <td>1.075000e+03</td>\n",
       "      <td>3.875452e+00</td>\n",
       "    </tr>\n",
       "    <tr>\n",
       "      <th>max</th>\n",
       "      <td>2.000000e+00</td>\n",
       "      <td>3.000000e+00</td>\n",
       "      <td>3.526282e+06</td>\n",
       "      <td>7.840762e+00</td>\n",
       "    </tr>\n",
       "  </tbody>\n",
       "</table>\n",
       "</div>"
      ],
      "text/plain": [
       "          vendor_id  passenger_count  trip_duration      distance\n",
       "count  1.458579e+06     1.458579e+06   1.458579e+06  1.458579e+06\n",
       "mean   1.534951e+00     1.438619e+00   9.594638e+02  2.899927e+00\n",
       "std    4.987771e-01     7.352942e-01   5.237073e+03  2.245491e+00\n",
       "min    1.000000e+00     1.000000e+00   1.000000e+00  0.000000e+00\n",
       "25%    1.000000e+00     1.000000e+00   3.970000e+02  1.231912e+00\n",
       "50%    2.000000e+00     1.000000e+00   6.620000e+02  2.093784e+00\n",
       "75%    2.000000e+00     2.000000e+00   1.075000e+03  3.875452e+00\n",
       "max    2.000000e+00     3.000000e+00   3.526282e+06  7.840762e+00"
      ]
     },
     "execution_count": 62,
     "metadata": {},
     "output_type": "execute_result"
    }
   ],
   "source": [
    "df_new.describe()"
   ]
  },
  {
   "cell_type": "code",
   "execution_count": 63,
   "id": "0bba5ab9",
   "metadata": {},
   "outputs": [
    {
     "data": {
      "text/plain": [
       "<Axes: xlabel='distance'>"
      ]
     },
     "execution_count": 63,
     "metadata": {},
     "output_type": "execute_result"
    },
    {
     "data": {
      "image/png": "[encoded data removed]",
      "text/plain": [
       "<Figure size 640x480 with 1 Axes>"
      ]
     },
     "metadata": {},
     "output_type": "display_data"
    }
   ],
   "source": [
    "sns.boxplot(df_new,x=\"distance\")"
   ]
  },
  {
   "cell_type": "code",
   "execution_count": 64,
   "id": "aebe5c26",
   "metadata": {},
   "outputs": [
    {
     "name": "stderr",
     "output_type": "stream",
     "text": [
      "C:\\Users\\khushi garg\\AppData\\Local\\Temp\\ipykernel_17640\\4139654481.py:1: FutureWarning: The default value of numeric_only in DataFrame.corr is deprecated. In a future version, it will default to False. Select only valid columns or specify the value of numeric_only to silence this warning.\n",
      "  df_new.corr()\n"
     ]
    },
    {
     "data": {
      "text/html": [
       "<div>\n",
       "<style scoped>\n",
       "    .dataframe tbody tr th:only-of-type {\n",
       "        vertical-align: middle;\n",
       "    }\n",
       "\n",
       "    .dataframe tbody tr th {\n",
       "        vertical-align: top;\n",
       "    }\n",
       "\n",
       "    .dataframe thead th {\n",
       "        text-align: right;\n",
       "    }\n",
       "</style>\n",
       "<table border=\"1\" class=\"dataframe\">\n",
       "  <thead>\n",
       "    <tr style=\"text-align: right;\">\n",
       "      <th></th>\n",
       "      <th>vendor_id</th>\n",
       "      <th>passenger_count</th>\n",
       "      <th>trip_duration</th>\n",
       "      <th>distance</th>\n",
       "    </tr>\n",
       "  </thead>\n",
       "  <tbody>\n",
       "    <tr>\n",
       "      <th>vendor_id</th>\n",
       "      <td>1.000000</td>\n",
       "      <td>0.251647</td>\n",
       "      <td>0.020297</td>\n",
       "      <td>0.006895</td>\n",
       "    </tr>\n",
       "    <tr>\n",
       "      <th>passenger_count</th>\n",
       "      <td>0.251647</td>\n",
       "      <td>1.000000</td>\n",
       "      <td>0.008974</td>\n",
       "      <td>0.015480</td>\n",
       "    </tr>\n",
       "    <tr>\n",
       "      <th>trip_duration</th>\n",
       "      <td>0.020297</td>\n",
       "      <td>0.008974</td>\n",
       "      <td>1.000000</td>\n",
       "      <td>0.098837</td>\n",
       "    </tr>\n",
       "    <tr>\n",
       "      <th>distance</th>\n",
       "      <td>0.006895</td>\n",
       "      <td>0.015480</td>\n",
       "      <td>0.098837</td>\n",
       "      <td>1.000000</td>\n",
       "    </tr>\n",
       "  </tbody>\n",
       "</table>\n",
       "</div>"
      ],
      "text/plain": [
       "                 vendor_id  passenger_count  trip_duration  distance\n",
       "vendor_id         1.000000         0.251647       0.020297  0.006895\n",
       "passenger_count   0.251647         1.000000       0.008974  0.015480\n",
       "trip_duration     0.020297         0.008974       1.000000  0.098837\n",
       "distance          0.006895         0.015480       0.098837  1.000000"
      ]
     },
     "execution_count": 64,
     "metadata": {},
     "output_type": "execute_result"
    }
   ],
   "source": [
    "df_new.corr()"
   ]
  },
  {
   "cell_type": "markdown",
   "id": "58fc2f76",
   "metadata": {},
   "source": [
    "## pickup_datetime"
   ]
  },
  {
   "cell_type": "code",
   "execution_count": 65,
   "id": "0d200543",
   "metadata": {},
   "outputs": [
    {
     "data": {
      "text/html": [
       "<div>\n",
       "<style scoped>\n",
       "    .dataframe tbody tr th:only-of-type {\n",
       "        vertical-align: middle;\n",
       "    }\n",
       "\n",
       "    .dataframe tbody tr th {\n",
       "        vertical-align: top;\n",
       "    }\n",
       "\n",
       "    .dataframe thead th {\n",
       "        text-align: right;\n",
       "    }\n",
       "</style>\n",
       "<table border=\"1\" class=\"dataframe\">\n",
       "  <thead>\n",
       "    <tr style=\"text-align: right;\">\n",
       "      <th></th>\n",
       "      <th>vendor_id</th>\n",
       "      <th>pickup_datetime</th>\n",
       "      <th>dropoff_datetime</th>\n",
       "      <th>passenger_count</th>\n",
       "      <th>store_and_fwd_flag</th>\n",
       "      <th>trip_duration</th>\n",
       "      <th>distance</th>\n",
       "    </tr>\n",
       "  </thead>\n",
       "  <tbody>\n",
       "    <tr>\n",
       "      <th>0</th>\n",
       "      <td>2</td>\n",
       "      <td>2016-03-14 17:24:55</td>\n",
       "      <td>2016-03-14 17:32:30</td>\n",
       "      <td>1.0</td>\n",
       "      <td>N</td>\n",
       "      <td>455</td>\n",
       "      <td>1.498521</td>\n",
       "    </tr>\n",
       "    <tr>\n",
       "      <th>1</th>\n",
       "      <td>1</td>\n",
       "      <td>2016-06-12 00:43:35</td>\n",
       "      <td>2016-06-12 00:54:38</td>\n",
       "      <td>1.0</td>\n",
       "      <td>N</td>\n",
       "      <td>663</td>\n",
       "      <td>1.805507</td>\n",
       "    </tr>\n",
       "    <tr>\n",
       "      <th>2</th>\n",
       "      <td>2</td>\n",
       "      <td>2016-01-19 11:35:24</td>\n",
       "      <td>2016-01-19 12:10:48</td>\n",
       "      <td>1.0</td>\n",
       "      <td>N</td>\n",
       "      <td>2124</td>\n",
       "      <td>6.385098</td>\n",
       "    </tr>\n",
       "    <tr>\n",
       "      <th>3</th>\n",
       "      <td>2</td>\n",
       "      <td>2016-04-06 19:32:31</td>\n",
       "      <td>2016-04-06 19:39:40</td>\n",
       "      <td>1.0</td>\n",
       "      <td>N</td>\n",
       "      <td>429</td>\n",
       "      <td>1.485498</td>\n",
       "    </tr>\n",
       "    <tr>\n",
       "      <th>4</th>\n",
       "      <td>2</td>\n",
       "      <td>2016-03-26 13:30:55</td>\n",
       "      <td>2016-03-26 13:38:10</td>\n",
       "      <td>1.0</td>\n",
       "      <td>N</td>\n",
       "      <td>435</td>\n",
       "      <td>1.188588</td>\n",
       "    </tr>\n",
       "  </tbody>\n",
       "</table>\n",
       "</div>"
      ],
      "text/plain": [
       "   vendor_id     pickup_datetime    dropoff_datetime  passenger_count  \\\n",
       "0          2 2016-03-14 17:24:55 2016-03-14 17:32:30              1.0   \n",
       "1          1 2016-06-12 00:43:35 2016-06-12 00:54:38              1.0   \n",
       "2          2 2016-01-19 11:35:24 2016-01-19 12:10:48              1.0   \n",
       "3          2 2016-04-06 19:32:31 2016-04-06 19:39:40              1.0   \n",
       "4          2 2016-03-26 13:30:55 2016-03-26 13:38:10              1.0   \n",
       "\n",
       "  store_and_fwd_flag  trip_duration  distance  \n",
       "0                  N            455  1.498521  \n",
       "1                  N            663  1.805507  \n",
       "2                  N           2124  6.385098  \n",
       "3                  N            429  1.485498  \n",
       "4                  N            435  1.188588  "
      ]
     },
     "execution_count": 65,
     "metadata": {},
     "output_type": "execute_result"
    }
   ],
   "source": [
    "df_new.head()"
   ]
  },
  {
   "cell_type": "code",
   "execution_count": 66,
   "id": "1ab3ea17",
   "metadata": {},
   "outputs": [],
   "source": [
    "df_new.drop(\"dropoff_datetime\",axis=1,inplace=True)"
   ]
  },
  {
   "cell_type": "code",
   "execution_count": 67,
   "id": "ecf80aca",
   "metadata": {},
   "outputs": [
    {
     "name": "stderr",
     "output_type": "stream",
     "text": [
      "C:\\Users\\khushi garg\\AppData\\Local\\Temp\\ipykernel_17640\\4139654481.py:1: FutureWarning: The default value of numeric_only in DataFrame.corr is deprecated. In a future version, it will default to False. Select only valid columns or specify the value of numeric_only to silence this warning.\n",
      "  df_new.corr()\n"
     ]
    },
    {
     "data": {
      "text/html": [
       "<div>\n",
       "<style scoped>\n",
       "    .dataframe tbody tr th:only-of-type {\n",
       "        vertical-align: middle;\n",
       "    }\n",
       "\n",
       "    .dataframe tbody tr th {\n",
       "        vertical-align: top;\n",
       "    }\n",
       "\n",
       "    .dataframe thead th {\n",
       "        text-align: right;\n",
       "    }\n",
       "</style>\n",
       "<table border=\"1\" class=\"dataframe\">\n",
       "  <thead>\n",
       "    <tr style=\"text-align: right;\">\n",
       "      <th></th>\n",
       "      <th>vendor_id</th>\n",
       "      <th>passenger_count</th>\n",
       "      <th>trip_duration</th>\n",
       "      <th>distance</th>\n",
       "    </tr>\n",
       "  </thead>\n",
       "  <tbody>\n",
       "    <tr>\n",
       "      <th>vendor_id</th>\n",
       "      <td>1.000000</td>\n",
       "      <td>0.251647</td>\n",
       "      <td>0.020297</td>\n",
       "      <td>0.006895</td>\n",
       "    </tr>\n",
       "    <tr>\n",
       "      <th>passenger_count</th>\n",
       "      <td>0.251647</td>\n",
       "      <td>1.000000</td>\n",
       "      <td>0.008974</td>\n",
       "      <td>0.015480</td>\n",
       "    </tr>\n",
       "    <tr>\n",
       "      <th>trip_duration</th>\n",
       "      <td>0.020297</td>\n",
       "      <td>0.008974</td>\n",
       "      <td>1.000000</td>\n",
       "      <td>0.098837</td>\n",
       "    </tr>\n",
       "    <tr>\n",
       "      <th>distance</th>\n",
       "      <td>0.006895</td>\n",
       "      <td>0.015480</td>\n",
       "      <td>0.098837</td>\n",
       "      <td>1.000000</td>\n",
       "    </tr>\n",
       "  </tbody>\n",
       "</table>\n",
       "</div>"
      ],
      "text/plain": [
       "                 vendor_id  passenger_count  trip_duration  distance\n",
       "vendor_id         1.000000         0.251647       0.020297  0.006895\n",
       "passenger_count   0.251647         1.000000       0.008974  0.015480\n",
       "trip_duration     0.020297         0.008974       1.000000  0.098837\n",
       "distance          0.006895         0.015480       0.098837  1.000000"
      ]
     },
     "execution_count": 67,
     "metadata": {},
     "output_type": "execute_result"
    }
   ],
   "source": [
    "df_new.corr()"
   ]
  },
  {
   "cell_type": "code",
   "execution_count": 68,
   "id": "97a0949e",
   "metadata": {},
   "outputs": [
    {
     "data": {
      "text/html": [
       "<div>\n",
       "<style scoped>\n",
       "    .dataframe tbody tr th:only-of-type {\n",
       "        vertical-align: middle;\n",
       "    }\n",
       "\n",
       "    .dataframe tbody tr th {\n",
       "        vertical-align: top;\n",
       "    }\n",
       "\n",
       "    .dataframe thead th {\n",
       "        text-align: right;\n",
       "    }\n",
       "</style>\n",
       "<table border=\"1\" class=\"dataframe\">\n",
       "  <thead>\n",
       "    <tr style=\"text-align: right;\">\n",
       "      <th></th>\n",
       "      <th>vendor_id</th>\n",
       "      <th>pickup_datetime</th>\n",
       "      <th>passenger_count</th>\n",
       "      <th>store_and_fwd_flag</th>\n",
       "      <th>trip_duration</th>\n",
       "      <th>distance</th>\n",
       "    </tr>\n",
       "  </thead>\n",
       "  <tbody>\n",
       "    <tr>\n",
       "      <th>0</th>\n",
       "      <td>2</td>\n",
       "      <td>2016-03-14 17:24:55</td>\n",
       "      <td>1.0</td>\n",
       "      <td>N</td>\n",
       "      <td>455</td>\n",
       "      <td>1.498521</td>\n",
       "    </tr>\n",
       "    <tr>\n",
       "      <th>1</th>\n",
       "      <td>1</td>\n",
       "      <td>2016-06-12 00:43:35</td>\n",
       "      <td>1.0</td>\n",
       "      <td>N</td>\n",
       "      <td>663</td>\n",
       "      <td>1.805507</td>\n",
       "    </tr>\n",
       "    <tr>\n",
       "      <th>2</th>\n",
       "      <td>2</td>\n",
       "      <td>2016-01-19 11:35:24</td>\n",
       "      <td>1.0</td>\n",
       "      <td>N</td>\n",
       "      <td>2124</td>\n",
       "      <td>6.385098</td>\n",
       "    </tr>\n",
       "    <tr>\n",
       "      <th>3</th>\n",
       "      <td>2</td>\n",
       "      <td>2016-04-06 19:32:31</td>\n",
       "      <td>1.0</td>\n",
       "      <td>N</td>\n",
       "      <td>429</td>\n",
       "      <td>1.485498</td>\n",
       "    </tr>\n",
       "    <tr>\n",
       "      <th>4</th>\n",
       "      <td>2</td>\n",
       "      <td>2016-03-26 13:30:55</td>\n",
       "      <td>1.0</td>\n",
       "      <td>N</td>\n",
       "      <td>435</td>\n",
       "      <td>1.188588</td>\n",
       "    </tr>\n",
       "  </tbody>\n",
       "</table>\n",
       "</div>"
      ],
      "text/plain": [
       "   vendor_id     pickup_datetime  passenger_count store_and_fwd_flag  \\\n",
       "0          2 2016-03-14 17:24:55              1.0                  N   \n",
       "1          1 2016-06-12 00:43:35              1.0                  N   \n",
       "2          2 2016-01-19 11:35:24              1.0                  N   \n",
       "3          2 2016-04-06 19:32:31              1.0                  N   \n",
       "4          2 2016-03-26 13:30:55              1.0                  N   \n",
       "\n",
       "   trip_duration  distance  \n",
       "0            455  1.498521  \n",
       "1            663  1.805507  \n",
       "2           2124  6.385098  \n",
       "3            429  1.485498  \n",
       "4            435  1.188588  "
      ]
     },
     "execution_count": 68,
     "metadata": {},
     "output_type": "execute_result"
    }
   ],
   "source": [
    "df_new.head()"
   ]
  },
  {
   "cell_type": "code",
   "execution_count": 69,
   "id": "52f48f5b",
   "metadata": {},
   "outputs": [],
   "source": [
    "year = df_new[\"pickup_datetime\"].dt.year\n",
    "month = df_new[\"pickup_datetime\"].dt.month\n",
    "days = df_new[\"pickup_datetime\"].dt.day\n",
    "hours = df_new[\"pickup_datetime\"].dt.hour\n",
    "minutes = df_new[\"pickup_datetime\"].dt.minute\n",
    "seconds = df_new[\"pickup_datetime\"].dt.second"
   ]
  },
  {
   "cell_type": "code",
   "execution_count": 70,
   "id": "a60c702a",
   "metadata": {},
   "outputs": [
    {
     "data": {
      "text/plain": [
       "((1458579,), (1458579,), (1458579,), (1458579,), (1458579,), (1458579,))"
      ]
     },
     "execution_count": 70,
     "metadata": {},
     "output_type": "execute_result"
    }
   ],
   "source": [
    "year.shape,month.shape,days.shape,hours.shape,minutes.shape,seconds.shape"
   ]
  },
  {
   "cell_type": "code",
   "execution_count": 71,
   "id": "3a6ff5c7",
   "metadata": {},
   "outputs": [],
   "source": [
    "df_new = df_new.reset_index()"
   ]
  },
  {
   "cell_type": "code",
   "execution_count": 72,
   "id": "5777e6ab",
   "metadata": {},
   "outputs": [],
   "source": [
    "df_new[\"year\"] = df_new[\"pickup_datetime\"].dt.year"
   ]
  },
  {
   "cell_type": "code",
   "execution_count": 73,
   "id": "f4f9455a",
   "metadata": {},
   "outputs": [
    {
     "data": {
      "text/plain": [
       "index                 0\n",
       "vendor_id             0\n",
       "pickup_datetime       0\n",
       "passenger_count       0\n",
       "store_and_fwd_flag    0\n",
       "trip_duration         0\n",
       "distance              0\n",
       "year                  0\n",
       "dtype: int64"
      ]
     },
     "execution_count": 73,
     "metadata": {},
     "output_type": "execute_result"
    }
   ],
   "source": [
    "df_new.isnull().sum()"
   ]
  },
  {
   "cell_type": "code",
   "execution_count": 74,
   "id": "66ed5887",
   "metadata": {},
   "outputs": [],
   "source": [
    "df_new[\"month\"] = df_new[\"pickup_datetime\"].dt.month\n",
    "df_new[\"days\"] = df_new[\"pickup_datetime\"].dt.day\n",
    "df_new[\"hour\"] = df_new[\"pickup_datetime\"].dt.hour\n",
    "df_new[\"minute\"] = df_new[\"pickup_datetime\"].dt.minute\n",
    "df_new[\"second\"] = df_new[\"pickup_datetime\"].dt.second"
   ]
  },
  {
   "cell_type": "code",
   "execution_count": 75,
   "id": "ca552da0",
   "metadata": {},
   "outputs": [
    {
     "data": {
      "text/plain": [
       "index                 0\n",
       "vendor_id             0\n",
       "pickup_datetime       0\n",
       "passenger_count       0\n",
       "store_and_fwd_flag    0\n",
       "trip_duration         0\n",
       "distance              0\n",
       "year                  0\n",
       "month                 0\n",
       "days                  0\n",
       "hour                  0\n",
       "minute                0\n",
       "second                0\n",
       "dtype: int64"
      ]
     },
     "execution_count": 75,
     "metadata": {},
     "output_type": "execute_result"
    }
   ],
   "source": [
    "df_new.isnull().sum()"
   ]
  },
  {
   "cell_type": "code",
   "execution_count": 76,
   "id": "3fbdedf6",
   "metadata": {},
   "outputs": [
    {
     "data": {
      "text/html": [
       "<div>\n",
       "<style scoped>\n",
       "    .dataframe tbody tr th:only-of-type {\n",
       "        vertical-align: middle;\n",
       "    }\n",
       "\n",
       "    .dataframe tbody tr th {\n",
       "        vertical-align: top;\n",
       "    }\n",
       "\n",
       "    .dataframe thead th {\n",
       "        text-align: right;\n",
       "    }\n",
       "</style>\n",
       "<table border=\"1\" class=\"dataframe\">\n",
       "  <thead>\n",
       "    <tr style=\"text-align: right;\">\n",
       "      <th></th>\n",
       "      <th>index</th>\n",
       "      <th>vendor_id</th>\n",
       "      <th>pickup_datetime</th>\n",
       "      <th>passenger_count</th>\n",
       "      <th>store_and_fwd_flag</th>\n",
       "      <th>trip_duration</th>\n",
       "      <th>distance</th>\n",
       "      <th>year</th>\n",
       "      <th>month</th>\n",
       "      <th>days</th>\n",
       "      <th>hour</th>\n",
       "      <th>minute</th>\n",
       "      <th>second</th>\n",
       "    </tr>\n",
       "  </thead>\n",
       "  <tbody>\n",
       "    <tr>\n",
       "      <th>0</th>\n",
       "      <td>0</td>\n",
       "      <td>2</td>\n",
       "      <td>2016-03-14 17:24:55</td>\n",
       "      <td>1.0</td>\n",
       "      <td>N</td>\n",
       "      <td>455</td>\n",
       "      <td>1.498521</td>\n",
       "      <td>2016</td>\n",
       "      <td>3</td>\n",
       "      <td>14</td>\n",
       "      <td>17</td>\n",
       "      <td>24</td>\n",
       "      <td>55</td>\n",
       "    </tr>\n",
       "    <tr>\n",
       "      <th>1</th>\n",
       "      <td>1</td>\n",
       "      <td>1</td>\n",
       "      <td>2016-06-12 00:43:35</td>\n",
       "      <td>1.0</td>\n",
       "      <td>N</td>\n",
       "      <td>663</td>\n",
       "      <td>1.805507</td>\n",
       "      <td>2016</td>\n",
       "      <td>6</td>\n",
       "      <td>12</td>\n",
       "      <td>0</td>\n",
       "      <td>43</td>\n",
       "      <td>35</td>\n",
       "    </tr>\n",
       "    <tr>\n",
       "      <th>2</th>\n",
       "      <td>2</td>\n",
       "      <td>2</td>\n",
       "      <td>2016-01-19 11:35:24</td>\n",
       "      <td>1.0</td>\n",
       "      <td>N</td>\n",
       "      <td>2124</td>\n",
       "      <td>6.385098</td>\n",
       "      <td>2016</td>\n",
       "      <td>1</td>\n",
       "      <td>19</td>\n",
       "      <td>11</td>\n",
       "      <td>35</td>\n",
       "      <td>24</td>\n",
       "    </tr>\n",
       "    <tr>\n",
       "      <th>3</th>\n",
       "      <td>3</td>\n",
       "      <td>2</td>\n",
       "      <td>2016-04-06 19:32:31</td>\n",
       "      <td>1.0</td>\n",
       "      <td>N</td>\n",
       "      <td>429</td>\n",
       "      <td>1.485498</td>\n",
       "      <td>2016</td>\n",
       "      <td>4</td>\n",
       "      <td>6</td>\n",
       "      <td>19</td>\n",
       "      <td>32</td>\n",
       "      <td>31</td>\n",
       "    </tr>\n",
       "    <tr>\n",
       "      <th>4</th>\n",
       "      <td>4</td>\n",
       "      <td>2</td>\n",
       "      <td>2016-03-26 13:30:55</td>\n",
       "      <td>1.0</td>\n",
       "      <td>N</td>\n",
       "      <td>435</td>\n",
       "      <td>1.188588</td>\n",
       "      <td>2016</td>\n",
       "      <td>3</td>\n",
       "      <td>26</td>\n",
       "      <td>13</td>\n",
       "      <td>30</td>\n",
       "      <td>55</td>\n",
       "    </tr>\n",
       "  </tbody>\n",
       "</table>\n",
       "</div>"
      ],
      "text/plain": [
       "   index  vendor_id     pickup_datetime  passenger_count store_and_fwd_flag  \\\n",
       "0      0          2 2016-03-14 17:24:55              1.0                  N   \n",
       "1      1          1 2016-06-12 00:43:35              1.0                  N   \n",
       "2      2          2 2016-01-19 11:35:24              1.0                  N   \n",
       "3      3          2 2016-04-06 19:32:31              1.0                  N   \n",
       "4      4          2 2016-03-26 13:30:55              1.0                  N   \n",
       "\n",
       "   trip_duration  distance  year  month  days  hour  minute  second  \n",
       "0            455  1.498521  2016      3    14    17      24      55  \n",
       "1            663  1.805507  2016      6    12     0      43      35  \n",
       "2           2124  6.385098  2016      1    19    11      35      24  \n",
       "3            429  1.485498  2016      4     6    19      32      31  \n",
       "4            435  1.188588  2016      3    26    13      30      55  "
      ]
     },
     "execution_count": 76,
     "metadata": {},
     "output_type": "execute_result"
    }
   ],
   "source": [
    "df_new.head()"
   ]
  },
  {
   "cell_type": "code",
   "execution_count": 77,
   "id": "e1091cc0",
   "metadata": {},
   "outputs": [
    {
     "name": "stderr",
     "output_type": "stream",
     "text": [
      "C:\\Users\\khushi garg\\AppData\\Local\\Temp\\ipykernel_17640\\4139654481.py:1: FutureWarning: The default value of numeric_only in DataFrame.corr is deprecated. In a future version, it will default to False. Select only valid columns or specify the value of numeric_only to silence this warning.\n",
      "  df_new.corr()\n"
     ]
    },
    {
     "data": {
      "text/html": [
       "<div>\n",
       "<style scoped>\n",
       "    .dataframe tbody tr th:only-of-type {\n",
       "        vertical-align: middle;\n",
       "    }\n",
       "\n",
       "    .dataframe tbody tr th {\n",
       "        vertical-align: top;\n",
       "    }\n",
       "\n",
       "    .dataframe thead th {\n",
       "        text-align: right;\n",
       "    }\n",
       "</style>\n",
       "<table border=\"1\" class=\"dataframe\">\n",
       "  <thead>\n",
       "    <tr style=\"text-align: right;\">\n",
       "      <th></th>\n",
       "      <th>index</th>\n",
       "      <th>vendor_id</th>\n",
       "      <th>passenger_count</th>\n",
       "      <th>trip_duration</th>\n",
       "      <th>distance</th>\n",
       "      <th>year</th>\n",
       "      <th>month</th>\n",
       "      <th>days</th>\n",
       "      <th>hour</th>\n",
       "      <th>minute</th>\n",
       "      <th>second</th>\n",
       "    </tr>\n",
       "  </thead>\n",
       "  <tbody>\n",
       "    <tr>\n",
       "      <th>index</th>\n",
       "      <td>1.000000</td>\n",
       "      <td>0.000984</td>\n",
       "      <td>0.000881</td>\n",
       "      <td>0.000463</td>\n",
       "      <td>-0.000429</td>\n",
       "      <td>NaN</td>\n",
       "      <td>0.001193</td>\n",
       "      <td>0.000873</td>\n",
       "      <td>-0.000292</td>\n",
       "      <td>0.001476</td>\n",
       "      <td>0.000591</td>\n",
       "    </tr>\n",
       "    <tr>\n",
       "      <th>vendor_id</th>\n",
       "      <td>0.000984</td>\n",
       "      <td>1.000000</td>\n",
       "      <td>0.251647</td>\n",
       "      <td>0.020297</td>\n",
       "      <td>0.006895</td>\n",
       "      <td>NaN</td>\n",
       "      <td>-0.006220</td>\n",
       "      <td>0.000727</td>\n",
       "      <td>0.009306</td>\n",
       "      <td>-0.000391</td>\n",
       "      <td>0.001088</td>\n",
       "    </tr>\n",
       "    <tr>\n",
       "      <th>passenger_count</th>\n",
       "      <td>0.000881</td>\n",
       "      <td>0.251647</td>\n",
       "      <td>1.000000</td>\n",
       "      <td>0.008974</td>\n",
       "      <td>0.015480</td>\n",
       "      <td>NaN</td>\n",
       "      <td>0.000760</td>\n",
       "      <td>0.002966</td>\n",
       "      <td>0.018322</td>\n",
       "      <td>0.000404</td>\n",
       "      <td>0.000526</td>\n",
       "    </tr>\n",
       "    <tr>\n",
       "      <th>trip_duration</th>\n",
       "      <td>0.000463</td>\n",
       "      <td>0.020297</td>\n",
       "      <td>0.008974</td>\n",
       "      <td>1.000000</td>\n",
       "      <td>0.098837</td>\n",
       "      <td>NaN</td>\n",
       "      <td>0.006592</td>\n",
       "      <td>0.000576</td>\n",
       "      <td>0.003684</td>\n",
       "      <td>-0.002346</td>\n",
       "      <td>0.000057</td>\n",
       "    </tr>\n",
       "    <tr>\n",
       "      <th>distance</th>\n",
       "      <td>-0.000429</td>\n",
       "      <td>0.006895</td>\n",
       "      <td>0.015480</td>\n",
       "      <td>0.098837</td>\n",
       "      <td>1.000000</td>\n",
       "      <td>NaN</td>\n",
       "      <td>0.019418</td>\n",
       "      <td>0.008156</td>\n",
       "      <td>-0.027086</td>\n",
       "      <td>-0.010331</td>\n",
       "      <td>0.000884</td>\n",
       "    </tr>\n",
       "    <tr>\n",
       "      <th>year</th>\n",
       "      <td>NaN</td>\n",
       "      <td>NaN</td>\n",
       "      <td>NaN</td>\n",
       "      <td>NaN</td>\n",
       "      <td>NaN</td>\n",
       "      <td>NaN</td>\n",
       "      <td>NaN</td>\n",
       "      <td>NaN</td>\n",
       "      <td>NaN</td>\n",
       "      <td>NaN</td>\n",
       "      <td>NaN</td>\n",
       "    </tr>\n",
       "    <tr>\n",
       "      <th>month</th>\n",
       "      <td>0.001193</td>\n",
       "      <td>-0.006220</td>\n",
       "      <td>0.000760</td>\n",
       "      <td>0.006592</td>\n",
       "      <td>0.019418</td>\n",
       "      <td>NaN</td>\n",
       "      <td>1.000000</td>\n",
       "      <td>-0.015143</td>\n",
       "      <td>-0.003442</td>\n",
       "      <td>-0.001059</td>\n",
       "      <td>0.000203</td>\n",
       "    </tr>\n",
       "    <tr>\n",
       "      <th>days</th>\n",
       "      <td>0.000873</td>\n",
       "      <td>0.000727</td>\n",
       "      <td>0.002966</td>\n",
       "      <td>0.000576</td>\n",
       "      <td>0.008156</td>\n",
       "      <td>NaN</td>\n",
       "      <td>-0.015143</td>\n",
       "      <td>1.000000</td>\n",
       "      <td>0.000413</td>\n",
       "      <td>-0.000149</td>\n",
       "      <td>0.000215</td>\n",
       "    </tr>\n",
       "    <tr>\n",
       "      <th>hour</th>\n",
       "      <td>-0.000292</td>\n",
       "      <td>0.009306</td>\n",
       "      <td>0.018322</td>\n",
       "      <td>0.003684</td>\n",
       "      <td>-0.027086</td>\n",
       "      <td>NaN</td>\n",
       "      <td>-0.003442</td>\n",
       "      <td>0.000413</td>\n",
       "      <td>1.000000</td>\n",
       "      <td>-0.003137</td>\n",
       "      <td>0.001449</td>\n",
       "    </tr>\n",
       "    <tr>\n",
       "      <th>minute</th>\n",
       "      <td>0.001476</td>\n",
       "      <td>-0.000391</td>\n",
       "      <td>0.000404</td>\n",
       "      <td>-0.002346</td>\n",
       "      <td>-0.010331</td>\n",
       "      <td>NaN</td>\n",
       "      <td>-0.001059</td>\n",
       "      <td>-0.000149</td>\n",
       "      <td>-0.003137</td>\n",
       "      <td>1.000000</td>\n",
       "      <td>-0.001032</td>\n",
       "    </tr>\n",
       "    <tr>\n",
       "      <th>second</th>\n",
       "      <td>0.000591</td>\n",
       "      <td>0.001088</td>\n",
       "      <td>0.000526</td>\n",
       "      <td>0.000057</td>\n",
       "      <td>0.000884</td>\n",
       "      <td>NaN</td>\n",
       "      <td>0.000203</td>\n",
       "      <td>0.000215</td>\n",
       "      <td>0.001449</td>\n",
       "      <td>-0.001032</td>\n",
       "      <td>1.000000</td>\n",
       "    </tr>\n",
       "  </tbody>\n",
       "</table>\n",
       "</div>"
      ],
      "text/plain": [
       "                    index  vendor_id  passenger_count  trip_duration  \\\n",
       "index            1.000000   0.000984         0.000881       0.000463   \n",
       "vendor_id        0.000984   1.000000         0.251647       0.020297   \n",
       "passenger_count  0.000881   0.251647         1.000000       0.008974   \n",
       "trip_duration    0.000463   0.020297         0.008974       1.000000   \n",
       "distance        -0.000429   0.006895         0.015480       0.098837   \n",
       "year                  NaN        NaN              NaN            NaN   \n",
       "month            0.001193  -0.006220         0.000760       0.006592   \n",
       "days             0.000873   0.000727         0.002966       0.000576   \n",
       "hour            -0.000292   0.009306         0.018322       0.003684   \n",
       "minute           0.001476  -0.000391         0.000404      -0.002346   \n",
       "second           0.000591   0.001088         0.000526       0.000057   \n",
       "\n",
       "                 distance  year     month      days      hour    minute  \\\n",
       "index           -0.000429   NaN  0.001193  0.000873 -0.000292  0.001476   \n",
       "vendor_id        0.006895   NaN -0.006220  0.000727  0.009306 -0.000391   \n",
       "passenger_count  0.015480   NaN  0.000760  0.002966  0.018322  0.000404   \n",
       "trip_duration    0.098837   NaN  0.006592  0.000576  0.003684 -0.002346   \n",
       "distance         1.000000   NaN  0.019418  0.008156 -0.027086 -0.010331   \n",
       "year                  NaN   NaN       NaN       NaN       NaN       NaN   \n",
       "month            0.019418   NaN  1.000000 -0.015143 -0.003442 -0.001059   \n",
       "days             0.008156   NaN -0.015143  1.000000  0.000413 -0.000149   \n",
       "hour            -0.027086   NaN -0.003442  0.000413  1.000000 -0.003137   \n",
       "minute          -0.010331   NaN -0.001059 -0.000149 -0.003137  1.000000   \n",
       "second           0.000884   NaN  0.000203  0.000215  0.001449 -0.001032   \n",
       "\n",
       "                   second  \n",
       "index            0.000591  \n",
       "vendor_id        0.001088  \n",
       "passenger_count  0.000526  \n",
       "trip_duration    0.000057  \n",
       "distance         0.000884  \n",
       "year                  NaN  \n",
       "month            0.000203  \n",
       "days             0.000215  \n",
       "hour             0.001449  \n",
       "minute          -0.001032  \n",
       "second           1.000000  "
      ]
     },
     "execution_count": 77,
     "metadata": {},
     "output_type": "execute_result"
    }
   ],
   "source": [
    "df_new.corr()"
   ]
  },
  {
   "cell_type": "code",
   "execution_count": 78,
   "id": "6fcd3a7f",
   "metadata": {},
   "outputs": [
    {
     "data": {
      "text/plain": [
       "index                 0\n",
       "vendor_id             0\n",
       "pickup_datetime       0\n",
       "passenger_count       0\n",
       "store_and_fwd_flag    0\n",
       "trip_duration         0\n",
       "distance              0\n",
       "year                  0\n",
       "month                 0\n",
       "days                  0\n",
       "hour                  0\n",
       "minute                0\n",
       "second                0\n",
       "dtype: int64"
      ]
     },
     "execution_count": 78,
     "metadata": {},
     "output_type": "execute_result"
    }
   ],
   "source": [
    "df_new.isnull().sum()"
   ]
  },
  {
   "cell_type": "code",
   "execution_count": 79,
   "id": "2df5ce1e",
   "metadata": {},
   "outputs": [
    {
     "data": {
      "text/plain": [
       "2016    1458579\n",
       "Name: year, dtype: int64"
      ]
     },
     "execution_count": 79,
     "metadata": {},
     "output_type": "execute_result"
    }
   ],
   "source": [
    "df_new.year.value_counts()"
   ]
  },
  {
   "cell_type": "code",
   "execution_count": 80,
   "id": "9cc54e4c",
   "metadata": {},
   "outputs": [],
   "source": [
    "df_new.drop(\"year\",axis=1,inplace=True)"
   ]
  },
  {
   "cell_type": "code",
   "execution_count": 81,
   "id": "047f7696",
   "metadata": {},
   "outputs": [
    {
     "data": {
      "text/html": [
       "<div>\n",
       "<style scoped>\n",
       "    .dataframe tbody tr th:only-of-type {\n",
       "        vertical-align: middle;\n",
       "    }\n",
       "\n",
       "    .dataframe tbody tr th {\n",
       "        vertical-align: top;\n",
       "    }\n",
       "\n",
       "    .dataframe thead th {\n",
       "        text-align: right;\n",
       "    }\n",
       "</style>\n",
       "<table border=\"1\" class=\"dataframe\">\n",
       "  <thead>\n",
       "    <tr style=\"text-align: right;\">\n",
       "      <th></th>\n",
       "      <th>index</th>\n",
       "      <th>vendor_id</th>\n",
       "      <th>pickup_datetime</th>\n",
       "      <th>passenger_count</th>\n",
       "      <th>store_and_fwd_flag</th>\n",
       "      <th>trip_duration</th>\n",
       "      <th>distance</th>\n",
       "      <th>month</th>\n",
       "      <th>days</th>\n",
       "      <th>hour</th>\n",
       "      <th>minute</th>\n",
       "      <th>second</th>\n",
       "    </tr>\n",
       "  </thead>\n",
       "  <tbody>\n",
       "    <tr>\n",
       "      <th>0</th>\n",
       "      <td>0</td>\n",
       "      <td>2</td>\n",
       "      <td>2016-03-14 17:24:55</td>\n",
       "      <td>1.0</td>\n",
       "      <td>N</td>\n",
       "      <td>455</td>\n",
       "      <td>1.498521</td>\n",
       "      <td>3</td>\n",
       "      <td>14</td>\n",
       "      <td>17</td>\n",
       "      <td>24</td>\n",
       "      <td>55</td>\n",
       "    </tr>\n",
       "    <tr>\n",
       "      <th>1</th>\n",
       "      <td>1</td>\n",
       "      <td>1</td>\n",
       "      <td>2016-06-12 00:43:35</td>\n",
       "      <td>1.0</td>\n",
       "      <td>N</td>\n",
       "      <td>663</td>\n",
       "      <td>1.805507</td>\n",
       "      <td>6</td>\n",
       "      <td>12</td>\n",
       "      <td>0</td>\n",
       "      <td>43</td>\n",
       "      <td>35</td>\n",
       "    </tr>\n",
       "    <tr>\n",
       "      <th>2</th>\n",
       "      <td>2</td>\n",
       "      <td>2</td>\n",
       "      <td>2016-01-19 11:35:24</td>\n",
       "      <td>1.0</td>\n",
       "      <td>N</td>\n",
       "      <td>2124</td>\n",
       "      <td>6.385098</td>\n",
       "      <td>1</td>\n",
       "      <td>19</td>\n",
       "      <td>11</td>\n",
       "      <td>35</td>\n",
       "      <td>24</td>\n",
       "    </tr>\n",
       "    <tr>\n",
       "      <th>3</th>\n",
       "      <td>3</td>\n",
       "      <td>2</td>\n",
       "      <td>2016-04-06 19:32:31</td>\n",
       "      <td>1.0</td>\n",
       "      <td>N</td>\n",
       "      <td>429</td>\n",
       "      <td>1.485498</td>\n",
       "      <td>4</td>\n",
       "      <td>6</td>\n",
       "      <td>19</td>\n",
       "      <td>32</td>\n",
       "      <td>31</td>\n",
       "    </tr>\n",
       "    <tr>\n",
       "      <th>4</th>\n",
       "      <td>4</td>\n",
       "      <td>2</td>\n",
       "      <td>2016-03-26 13:30:55</td>\n",
       "      <td>1.0</td>\n",
       "      <td>N</td>\n",
       "      <td>435</td>\n",
       "      <td>1.188588</td>\n",
       "      <td>3</td>\n",
       "      <td>26</td>\n",
       "      <td>13</td>\n",
       "      <td>30</td>\n",
       "      <td>55</td>\n",
       "    </tr>\n",
       "  </tbody>\n",
       "</table>\n",
       "</div>"
      ],
      "text/plain": [
       "   index  vendor_id     pickup_datetime  passenger_count store_and_fwd_flag  \\\n",
       "0      0          2 2016-03-14 17:24:55              1.0                  N   \n",
       "1      1          1 2016-06-12 00:43:35              1.0                  N   \n",
       "2      2          2 2016-01-19 11:35:24              1.0                  N   \n",
       "3      3          2 2016-04-06 19:32:31              1.0                  N   \n",
       "4      4          2 2016-03-26 13:30:55              1.0                  N   \n",
       "\n",
       "   trip_duration  distance  month  days  hour  minute  second  \n",
       "0            455  1.498521      3    14    17      24      55  \n",
       "1            663  1.805507      6    12     0      43      35  \n",
       "2           2124  6.385098      1    19    11      35      24  \n",
       "3            429  1.485498      4     6    19      32      31  \n",
       "4            435  1.188588      3    26    13      30      55  "
      ]
     },
     "execution_count": 81,
     "metadata": {},
     "output_type": "execute_result"
    }
   ],
   "source": [
    "df_new.head()"
   ]
  },
  {
   "cell_type": "code",
   "execution_count": 82,
   "id": "6d06b90e",
   "metadata": {},
   "outputs": [],
   "source": [
    "df_new.drop(\"index\",axis=1,inplace=True)"
   ]
  },
  {
   "cell_type": "code",
   "execution_count": 83,
   "id": "e6c0d37f",
   "metadata": {},
   "outputs": [
    {
     "data": {
      "text/html": [
       "<div>\n",
       "<style scoped>\n",
       "    .dataframe tbody tr th:only-of-type {\n",
       "        vertical-align: middle;\n",
       "    }\n",
       "\n",
       "    .dataframe tbody tr th {\n",
       "        vertical-align: top;\n",
       "    }\n",
       "\n",
       "    .dataframe thead th {\n",
       "        text-align: right;\n",
       "    }\n",
       "</style>\n",
       "<table border=\"1\" class=\"dataframe\">\n",
       "  <thead>\n",
       "    <tr style=\"text-align: right;\">\n",
       "      <th></th>\n",
       "      <th>vendor_id</th>\n",
       "      <th>pickup_datetime</th>\n",
       "      <th>passenger_count</th>\n",
       "      <th>store_and_fwd_flag</th>\n",
       "      <th>trip_duration</th>\n",
       "      <th>distance</th>\n",
       "      <th>month</th>\n",
       "      <th>days</th>\n",
       "      <th>hour</th>\n",
       "      <th>minute</th>\n",
       "      <th>second</th>\n",
       "    </tr>\n",
       "  </thead>\n",
       "  <tbody>\n",
       "    <tr>\n",
       "      <th>0</th>\n",
       "      <td>2</td>\n",
       "      <td>2016-03-14 17:24:55</td>\n",
       "      <td>1.0</td>\n",
       "      <td>N</td>\n",
       "      <td>455</td>\n",
       "      <td>1.498521</td>\n",
       "      <td>3</td>\n",
       "      <td>14</td>\n",
       "      <td>17</td>\n",
       "      <td>24</td>\n",
       "      <td>55</td>\n",
       "    </tr>\n",
       "    <tr>\n",
       "      <th>1</th>\n",
       "      <td>1</td>\n",
       "      <td>2016-06-12 00:43:35</td>\n",
       "      <td>1.0</td>\n",
       "      <td>N</td>\n",
       "      <td>663</td>\n",
       "      <td>1.805507</td>\n",
       "      <td>6</td>\n",
       "      <td>12</td>\n",
       "      <td>0</td>\n",
       "      <td>43</td>\n",
       "      <td>35</td>\n",
       "    </tr>\n",
       "    <tr>\n",
       "      <th>2</th>\n",
       "      <td>2</td>\n",
       "      <td>2016-01-19 11:35:24</td>\n",
       "      <td>1.0</td>\n",
       "      <td>N</td>\n",
       "      <td>2124</td>\n",
       "      <td>6.385098</td>\n",
       "      <td>1</td>\n",
       "      <td>19</td>\n",
       "      <td>11</td>\n",
       "      <td>35</td>\n",
       "      <td>24</td>\n",
       "    </tr>\n",
       "    <tr>\n",
       "      <th>3</th>\n",
       "      <td>2</td>\n",
       "      <td>2016-04-06 19:32:31</td>\n",
       "      <td>1.0</td>\n",
       "      <td>N</td>\n",
       "      <td>429</td>\n",
       "      <td>1.485498</td>\n",
       "      <td>4</td>\n",
       "      <td>6</td>\n",
       "      <td>19</td>\n",
       "      <td>32</td>\n",
       "      <td>31</td>\n",
       "    </tr>\n",
       "    <tr>\n",
       "      <th>4</th>\n",
       "      <td>2</td>\n",
       "      <td>2016-03-26 13:30:55</td>\n",
       "      <td>1.0</td>\n",
       "      <td>N</td>\n",
       "      <td>435</td>\n",
       "      <td>1.188588</td>\n",
       "      <td>3</td>\n",
       "      <td>26</td>\n",
       "      <td>13</td>\n",
       "      <td>30</td>\n",
       "      <td>55</td>\n",
       "    </tr>\n",
       "  </tbody>\n",
       "</table>\n",
       "</div>"
      ],
      "text/plain": [
       "   vendor_id     pickup_datetime  passenger_count store_and_fwd_flag  \\\n",
       "0          2 2016-03-14 17:24:55              1.0                  N   \n",
       "1          1 2016-06-12 00:43:35              1.0                  N   \n",
       "2          2 2016-01-19 11:35:24              1.0                  N   \n",
       "3          2 2016-04-06 19:32:31              1.0                  N   \n",
       "4          2 2016-03-26 13:30:55              1.0                  N   \n",
       "\n",
       "   trip_duration  distance  month  days  hour  minute  second  \n",
       "0            455  1.498521      3    14    17      24      55  \n",
       "1            663  1.805507      6    12     0      43      35  \n",
       "2           2124  6.385098      1    19    11      35      24  \n",
       "3            429  1.485498      4     6    19      32      31  \n",
       "4            435  1.188588      3    26    13      30      55  "
      ]
     },
     "execution_count": 83,
     "metadata": {},
     "output_type": "execute_result"
    }
   ],
   "source": [
    "df_new.head()"
   ]
  },
  {
   "cell_type": "code",
   "execution_count": 84,
   "id": "b31a793e",
   "metadata": {},
   "outputs": [
    {
     "name": "stderr",
     "output_type": "stream",
     "text": [
      "C:\\Users\\khushi garg\\AppData\\Local\\Temp\\ipykernel_17640\\4139654481.py:1: FutureWarning: The default value of numeric_only in DataFrame.corr is deprecated. In a future version, it will default to False. Select only valid columns or specify the value of numeric_only to silence this warning.\n",
      "  df_new.corr()\n"
     ]
    },
    {
     "data": {
      "text/html": [
       "<div>\n",
       "<style scoped>\n",
       "    .dataframe tbody tr th:only-of-type {\n",
       "        vertical-align: middle;\n",
       "    }\n",
       "\n",
       "    .dataframe tbody tr th {\n",
       "        vertical-align: top;\n",
       "    }\n",
       "\n",
       "    .dataframe thead th {\n",
       "        text-align: right;\n",
       "    }\n",
       "</style>\n",
       "<table border=\"1\" class=\"dataframe\">\n",
       "  <thead>\n",
       "    <tr style=\"text-align: right;\">\n",
       "      <th></th>\n",
       "      <th>vendor_id</th>\n",
       "      <th>passenger_count</th>\n",
       "      <th>trip_duration</th>\n",
       "      <th>distance</th>\n",
       "      <th>month</th>\n",
       "      <th>days</th>\n",
       "      <th>hour</th>\n",
       "      <th>minute</th>\n",
       "      <th>second</th>\n",
       "    </tr>\n",
       "  </thead>\n",
       "  <tbody>\n",
       "    <tr>\n",
       "      <th>vendor_id</th>\n",
       "      <td>1.000000</td>\n",
       "      <td>0.251647</td>\n",
       "      <td>0.020297</td>\n",
       "      <td>0.006895</td>\n",
       "      <td>-0.006220</td>\n",
       "      <td>0.000727</td>\n",
       "      <td>0.009306</td>\n",
       "      <td>-0.000391</td>\n",
       "      <td>0.001088</td>\n",
       "    </tr>\n",
       "    <tr>\n",
       "      <th>passenger_count</th>\n",
       "      <td>0.251647</td>\n",
       "      <td>1.000000</td>\n",
       "      <td>0.008974</td>\n",
       "      <td>0.015480</td>\n",
       "      <td>0.000760</td>\n",
       "      <td>0.002966</td>\n",
       "      <td>0.018322</td>\n",
       "      <td>0.000404</td>\n",
       "      <td>0.000526</td>\n",
       "    </tr>\n",
       "    <tr>\n",
       "      <th>trip_duration</th>\n",
       "      <td>0.020297</td>\n",
       "      <td>0.008974</td>\n",
       "      <td>1.000000</td>\n",
       "      <td>0.098837</td>\n",
       "      <td>0.006592</td>\n",
       "      <td>0.000576</td>\n",
       "      <td>0.003684</td>\n",
       "      <td>-0.002346</td>\n",
       "      <td>0.000057</td>\n",
       "    </tr>\n",
       "    <tr>\n",
       "      <th>distance</th>\n",
       "      <td>0.006895</td>\n",
       "      <td>0.015480</td>\n",
       "      <td>0.098837</td>\n",
       "      <td>1.000000</td>\n",
       "      <td>0.019418</td>\n",
       "      <td>0.008156</td>\n",
       "      <td>-0.027086</td>\n",
       "      <td>-0.010331</td>\n",
       "      <td>0.000884</td>\n",
       "    </tr>\n",
       "    <tr>\n",
       "      <th>month</th>\n",
       "      <td>-0.006220</td>\n",
       "      <td>0.000760</td>\n",
       "      <td>0.006592</td>\n",
       "      <td>0.019418</td>\n",
       "      <td>1.000000</td>\n",
       "      <td>-0.015143</td>\n",
       "      <td>-0.003442</td>\n",
       "      <td>-0.001059</td>\n",
       "      <td>0.000203</td>\n",
       "    </tr>\n",
       "    <tr>\n",
       "      <th>days</th>\n",
       "      <td>0.000727</td>\n",
       "      <td>0.002966</td>\n",
       "      <td>0.000576</td>\n",
       "      <td>0.008156</td>\n",
       "      <td>-0.015143</td>\n",
       "      <td>1.000000</td>\n",
       "      <td>0.000413</td>\n",
       "      <td>-0.000149</td>\n",
       "      <td>0.000215</td>\n",
       "    </tr>\n",
       "    <tr>\n",
       "      <th>hour</th>\n",
       "      <td>0.009306</td>\n",
       "      <td>0.018322</td>\n",
       "      <td>0.003684</td>\n",
       "      <td>-0.027086</td>\n",
       "      <td>-0.003442</td>\n",
       "      <td>0.000413</td>\n",
       "      <td>1.000000</td>\n",
       "      <td>-0.003137</td>\n",
       "      <td>0.001449</td>\n",
       "    </tr>\n",
       "    <tr>\n",
       "      <th>minute</th>\n",
       "      <td>-0.000391</td>\n",
       "      <td>0.000404</td>\n",
       "      <td>-0.002346</td>\n",
       "      <td>-0.010331</td>\n",
       "      <td>-0.001059</td>\n",
       "      <td>-0.000149</td>\n",
       "      <td>-0.003137</td>\n",
       "      <td>1.000000</td>\n",
       "      <td>-0.001032</td>\n",
       "    </tr>\n",
       "    <tr>\n",
       "      <th>second</th>\n",
       "      <td>0.001088</td>\n",
       "      <td>0.000526</td>\n",
       "      <td>0.000057</td>\n",
       "      <td>0.000884</td>\n",
       "      <td>0.000203</td>\n",
       "      <td>0.000215</td>\n",
       "      <td>0.001449</td>\n",
       "      <td>-0.001032</td>\n",
       "      <td>1.000000</td>\n",
       "    </tr>\n",
       "  </tbody>\n",
       "</table>\n",
       "</div>"
      ],
      "text/plain": [
       "                 vendor_id  passenger_count  trip_duration  distance  \\\n",
       "vendor_id         1.000000         0.251647       0.020297  0.006895   \n",
       "passenger_count   0.251647         1.000000       0.008974  0.015480   \n",
       "trip_duration     0.020297         0.008974       1.000000  0.098837   \n",
       "distance          0.006895         0.015480       0.098837  1.000000   \n",
       "month            -0.006220         0.000760       0.006592  0.019418   \n",
       "days              0.000727         0.002966       0.000576  0.008156   \n",
       "hour              0.009306         0.018322       0.003684 -0.027086   \n",
       "minute           -0.000391         0.000404      -0.002346 -0.010331   \n",
       "second            0.001088         0.000526       0.000057  0.000884   \n",
       "\n",
       "                    month      days      hour    minute    second  \n",
       "vendor_id       -0.006220  0.000727  0.009306 -0.000391  0.001088  \n",
       "passenger_count  0.000760  0.002966  0.018322  0.000404  0.000526  \n",
       "trip_duration    0.006592  0.000576  0.003684 -0.002346  0.000057  \n",
       "distance         0.019418  0.008156 -0.027086 -0.010331  0.000884  \n",
       "month            1.000000 -0.015143 -0.003442 -0.001059  0.000203  \n",
       "days            -0.015143  1.000000  0.000413 -0.000149  0.000215  \n",
       "hour            -0.003442  0.000413  1.000000 -0.003137  0.001449  \n",
       "minute          -0.001059 -0.000149 -0.003137  1.000000 -0.001032  \n",
       "second           0.000203  0.000215  0.001449 -0.001032  1.000000  "
      ]
     },
     "execution_count": 84,
     "metadata": {},
     "output_type": "execute_result"
    }
   ],
   "source": [
    "df_new.corr()"
   ]
  },
  {
   "cell_type": "code",
   "execution_count": 85,
   "id": "d7fe9198",
   "metadata": {},
   "outputs": [
    {
     "data": {
      "text/plain": [
       "3    256179\n",
       "4    251636\n",
       "5    248474\n",
       "2    238288\n",
       "6    234310\n",
       "1    229692\n",
       "Name: month, dtype: int64"
      ]
     },
     "execution_count": 85,
     "metadata": {},
     "output_type": "execute_result"
    }
   ],
   "source": [
    "df_new.month.value_counts()"
   ]
  },
  {
   "cell_type": "code",
   "execution_count": 86,
   "id": "cf6e4b07",
   "metadata": {},
   "outputs": [
    {
     "data": {
      "text/html": [
       "<div>\n",
       "<style scoped>\n",
       "    .dataframe tbody tr th:only-of-type {\n",
       "        vertical-align: middle;\n",
       "    }\n",
       "\n",
       "    .dataframe tbody tr th {\n",
       "        vertical-align: top;\n",
       "    }\n",
       "\n",
       "    .dataframe thead th {\n",
       "        text-align: right;\n",
       "    }\n",
       "</style>\n",
       "<table border=\"1\" class=\"dataframe\">\n",
       "  <thead>\n",
       "    <tr style=\"text-align: right;\">\n",
       "      <th></th>\n",
       "      <th>vendor_id</th>\n",
       "      <th>passenger_count</th>\n",
       "      <th>trip_duration</th>\n",
       "      <th>distance</th>\n",
       "      <th>month</th>\n",
       "      <th>days</th>\n",
       "      <th>hour</th>\n",
       "      <th>minute</th>\n",
       "      <th>second</th>\n",
       "    </tr>\n",
       "  </thead>\n",
       "  <tbody>\n",
       "    <tr>\n",
       "      <th>count</th>\n",
       "      <td>1.458579e+06</td>\n",
       "      <td>1.458579e+06</td>\n",
       "      <td>1.458579e+06</td>\n",
       "      <td>1.458579e+06</td>\n",
       "      <td>1.458579e+06</td>\n",
       "      <td>1.458579e+06</td>\n",
       "      <td>1.458579e+06</td>\n",
       "      <td>1.458579e+06</td>\n",
       "      <td>1.458579e+06</td>\n",
       "    </tr>\n",
       "    <tr>\n",
       "      <th>mean</th>\n",
       "      <td>1.534951e+00</td>\n",
       "      <td>1.438619e+00</td>\n",
       "      <td>9.594638e+02</td>\n",
       "      <td>2.899927e+00</td>\n",
       "      <td>3.516833e+00</td>\n",
       "      <td>1.550414e+01</td>\n",
       "      <td>1.360657e+01</td>\n",
       "      <td>2.959018e+01</td>\n",
       "      <td>2.947359e+01</td>\n",
       "    </tr>\n",
       "    <tr>\n",
       "      <th>std</th>\n",
       "      <td>4.987771e-01</td>\n",
       "      <td>7.352942e-01</td>\n",
       "      <td>5.237073e+03</td>\n",
       "      <td>2.245491e+00</td>\n",
       "      <td>1.681036e+00</td>\n",
       "      <td>8.703133e+00</td>\n",
       "      <td>6.399583e+00</td>\n",
       "      <td>1.732477e+01</td>\n",
       "      <td>1.731991e+01</td>\n",
       "    </tr>\n",
       "    <tr>\n",
       "      <th>min</th>\n",
       "      <td>1.000000e+00</td>\n",
       "      <td>1.000000e+00</td>\n",
       "      <td>1.000000e+00</td>\n",
       "      <td>0.000000e+00</td>\n",
       "      <td>1.000000e+00</td>\n",
       "      <td>1.000000e+00</td>\n",
       "      <td>0.000000e+00</td>\n",
       "      <td>0.000000e+00</td>\n",
       "      <td>0.000000e+00</td>\n",
       "    </tr>\n",
       "    <tr>\n",
       "      <th>25%</th>\n",
       "      <td>1.000000e+00</td>\n",
       "      <td>1.000000e+00</td>\n",
       "      <td>3.970000e+02</td>\n",
       "      <td>1.231912e+00</td>\n",
       "      <td>2.000000e+00</td>\n",
       "      <td>8.000000e+00</td>\n",
       "      <td>9.000000e+00</td>\n",
       "      <td>1.500000e+01</td>\n",
       "      <td>1.400000e+01</td>\n",
       "    </tr>\n",
       "    <tr>\n",
       "      <th>50%</th>\n",
       "      <td>2.000000e+00</td>\n",
       "      <td>1.000000e+00</td>\n",
       "      <td>6.620000e+02</td>\n",
       "      <td>2.093784e+00</td>\n",
       "      <td>4.000000e+00</td>\n",
       "      <td>1.500000e+01</td>\n",
       "      <td>1.400000e+01</td>\n",
       "      <td>3.000000e+01</td>\n",
       "      <td>2.900000e+01</td>\n",
       "    </tr>\n",
       "    <tr>\n",
       "      <th>75%</th>\n",
       "      <td>2.000000e+00</td>\n",
       "      <td>2.000000e+00</td>\n",
       "      <td>1.075000e+03</td>\n",
       "      <td>3.875452e+00</td>\n",
       "      <td>5.000000e+00</td>\n",
       "      <td>2.300000e+01</td>\n",
       "      <td>1.900000e+01</td>\n",
       "      <td>4.500000e+01</td>\n",
       "      <td>4.400000e+01</td>\n",
       "    </tr>\n",
       "    <tr>\n",
       "      <th>max</th>\n",
       "      <td>2.000000e+00</td>\n",
       "      <td>3.000000e+00</td>\n",
       "      <td>3.526282e+06</td>\n",
       "      <td>7.840762e+00</td>\n",
       "      <td>6.000000e+00</td>\n",
       "      <td>3.100000e+01</td>\n",
       "      <td>2.300000e+01</td>\n",
       "      <td>5.900000e+01</td>\n",
       "      <td>5.900000e+01</td>\n",
       "    </tr>\n",
       "  </tbody>\n",
       "</table>\n",
       "</div>"
      ],
      "text/plain": [
       "          vendor_id  passenger_count  trip_duration      distance  \\\n",
       "count  1.458579e+06     1.458579e+06   1.458579e+06  1.458579e+06   \n",
       "mean   1.534951e+00     1.438619e+00   9.594638e+02  2.899927e+00   \n",
       "std    4.987771e-01     7.352942e-01   5.237073e+03  2.245491e+00   \n",
       "min    1.000000e+00     1.000000e+00   1.000000e+00  0.000000e+00   \n",
       "25%    1.000000e+00     1.000000e+00   3.970000e+02  1.231912e+00   \n",
       "50%    2.000000e+00     1.000000e+00   6.620000e+02  2.093784e+00   \n",
       "75%    2.000000e+00     2.000000e+00   1.075000e+03  3.875452e+00   \n",
       "max    2.000000e+00     3.000000e+00   3.526282e+06  7.840762e+00   \n",
       "\n",
       "              month          days          hour        minute        second  \n",
       "count  1.458579e+06  1.458579e+06  1.458579e+06  1.458579e+06  1.458579e+06  \n",
       "mean   3.516833e+00  1.550414e+01  1.360657e+01  2.959018e+01  2.947359e+01  \n",
       "std    1.681036e+00  8.703133e+00  6.399583e+00  1.732477e+01  1.731991e+01  \n",
       "min    1.000000e+00  1.000000e+00  0.000000e+00  0.000000e+00  0.000000e+00  \n",
       "25%    2.000000e+00  8.000000e+00  9.000000e+00  1.500000e+01  1.400000e+01  \n",
       "50%    4.000000e+00  1.500000e+01  1.400000e+01  3.000000e+01  2.900000e+01  \n",
       "75%    5.000000e+00  2.300000e+01  1.900000e+01  4.500000e+01  4.400000e+01  \n",
       "max    6.000000e+00  3.100000e+01  2.300000e+01  5.900000e+01  5.900000e+01  "
      ]
     },
     "execution_count": 86,
     "metadata": {},
     "output_type": "execute_result"
    }
   ],
   "source": [
    "df_new.describe()"
   ]
  },
  {
   "cell_type": "code",
   "execution_count": 87,
   "id": "39b111d1",
   "metadata": {},
   "outputs": [
    {
     "data": {
      "text/plain": [
       "<Axes: >"
      ]
     },
     "execution_count": 87,
     "metadata": {},
     "output_type": "execute_result"
    },
    {
     "data": {
      "image/png": "[encoded data removed]",
      "text/plain": [
       "<Figure size 640x480 with 1 Axes>"
      ]
     },
     "metadata": {},
     "output_type": "display_data"
    }
   ],
   "source": [
    "sns.boxplot(df_new[\"month\"])"
   ]
  },
  {
   "cell_type": "code",
   "execution_count": 88,
   "id": "907a1b14",
   "metadata": {},
   "outputs": [
    {
     "data": {
      "text/plain": [
       "<Axes: >"
      ]
     },
     "execution_count": 88,
     "metadata": {},
     "output_type": "execute_result"
    },
    {
     "data": {
      "image/png": "[encoded data removed]",
      "text/plain": [
       "<Figure size 640x480 with 1 Axes>"
      ]
     },
     "metadata": {},
     "output_type": "display_data"
    }
   ],
   "source": [
    "sns.boxplot(df_new[\"days\"])"
   ]
  },
  {
   "cell_type": "code",
   "execution_count": 89,
   "id": "8a41222a",
   "metadata": {},
   "outputs": [
    {
     "data": {
      "text/plain": [
       "<Axes: >"
      ]
     },
     "execution_count": 89,
     "metadata": {},
     "output_type": "execute_result"
    },
    {
     "data": {
      "image/png": "[encoded data removed]",
      "text/plain": [
       "<Figure size 640x480 with 1 Axes>"
      ]
     },
     "metadata": {},
     "output_type": "display_data"
    }
   ],
   "source": [
    "sns.boxplot(df_new[\"hour\"])"
   ]
  },
  {
   "cell_type": "code",
   "execution_count": 90,
   "id": "2cc082a9",
   "metadata": {},
   "outputs": [
    {
     "data": {
      "text/plain": [
       "<Axes: >"
      ]
     },
     "execution_count": 90,
     "metadata": {},
     "output_type": "execute_result"
    },
    {
     "data": {
      "image/png": "[encoded data removed]",
      "text/plain": [
       "<Figure size 640x480 with 1 Axes>"
      ]
     },
     "metadata": {},
     "output_type": "display_data"
    }
   ],
   "source": [
    "sns.boxplot(df_new[\"second\"])"
   ]
  },
  {
   "cell_type": "code",
   "execution_count": 91,
   "id": "b89c50d1",
   "metadata": {},
   "outputs": [
    {
     "data": {
      "text/plain": [
       "<Axes: >"
      ]
     },
     "execution_count": 91,
     "metadata": {},
     "output_type": "execute_result"
    },
    {
     "data": {
      "image/png": "[encoded data removed]",
      "text/plain": [
       "<Figure size 640x480 with 1 Axes>"
      ]
     },
     "metadata": {},
     "output_type": "display_data"
    }
   ],
   "source": [
    "sns.boxplot(df_new[\"minute\"])"
   ]
  },
  {
   "cell_type": "code",
   "execution_count": 92,
   "id": "91a99aef",
   "metadata": {},
   "outputs": [
    {
     "data": {
      "text/html": [
       "<div>\n",
       "<style scoped>\n",
       "    .dataframe tbody tr th:only-of-type {\n",
       "        vertical-align: middle;\n",
       "    }\n",
       "\n",
       "    .dataframe tbody tr th {\n",
       "        vertical-align: top;\n",
       "    }\n",
       "\n",
       "    .dataframe thead th {\n",
       "        text-align: right;\n",
       "    }\n",
       "</style>\n",
       "<table border=\"1\" class=\"dataframe\">\n",
       "  <thead>\n",
       "    <tr style=\"text-align: right;\">\n",
       "      <th></th>\n",
       "      <th>vendor_id</th>\n",
       "      <th>pickup_datetime</th>\n",
       "      <th>passenger_count</th>\n",
       "      <th>store_and_fwd_flag</th>\n",
       "      <th>trip_duration</th>\n",
       "      <th>distance</th>\n",
       "      <th>month</th>\n",
       "      <th>days</th>\n",
       "      <th>hour</th>\n",
       "      <th>minute</th>\n",
       "      <th>second</th>\n",
       "    </tr>\n",
       "  </thead>\n",
       "  <tbody>\n",
       "    <tr>\n",
       "      <th>0</th>\n",
       "      <td>2</td>\n",
       "      <td>2016-03-14 17:24:55</td>\n",
       "      <td>1.0</td>\n",
       "      <td>N</td>\n",
       "      <td>455</td>\n",
       "      <td>1.498521</td>\n",
       "      <td>3</td>\n",
       "      <td>14</td>\n",
       "      <td>17</td>\n",
       "      <td>24</td>\n",
       "      <td>55</td>\n",
       "    </tr>\n",
       "    <tr>\n",
       "      <th>1</th>\n",
       "      <td>1</td>\n",
       "      <td>2016-06-12 00:43:35</td>\n",
       "      <td>1.0</td>\n",
       "      <td>N</td>\n",
       "      <td>663</td>\n",
       "      <td>1.805507</td>\n",
       "      <td>6</td>\n",
       "      <td>12</td>\n",
       "      <td>0</td>\n",
       "      <td>43</td>\n",
       "      <td>35</td>\n",
       "    </tr>\n",
       "    <tr>\n",
       "      <th>2</th>\n",
       "      <td>2</td>\n",
       "      <td>2016-01-19 11:35:24</td>\n",
       "      <td>1.0</td>\n",
       "      <td>N</td>\n",
       "      <td>2124</td>\n",
       "      <td>6.385098</td>\n",
       "      <td>1</td>\n",
       "      <td>19</td>\n",
       "      <td>11</td>\n",
       "      <td>35</td>\n",
       "      <td>24</td>\n",
       "    </tr>\n",
       "    <tr>\n",
       "      <th>3</th>\n",
       "      <td>2</td>\n",
       "      <td>2016-04-06 19:32:31</td>\n",
       "      <td>1.0</td>\n",
       "      <td>N</td>\n",
       "      <td>429</td>\n",
       "      <td>1.485498</td>\n",
       "      <td>4</td>\n",
       "      <td>6</td>\n",
       "      <td>19</td>\n",
       "      <td>32</td>\n",
       "      <td>31</td>\n",
       "    </tr>\n",
       "    <tr>\n",
       "      <th>4</th>\n",
       "      <td>2</td>\n",
       "      <td>2016-03-26 13:30:55</td>\n",
       "      <td>1.0</td>\n",
       "      <td>N</td>\n",
       "      <td>435</td>\n",
       "      <td>1.188588</td>\n",
       "      <td>3</td>\n",
       "      <td>26</td>\n",
       "      <td>13</td>\n",
       "      <td>30</td>\n",
       "      <td>55</td>\n",
       "    </tr>\n",
       "  </tbody>\n",
       "</table>\n",
       "</div>"
      ],
      "text/plain": [
       "   vendor_id     pickup_datetime  passenger_count store_and_fwd_flag  \\\n",
       "0          2 2016-03-14 17:24:55              1.0                  N   \n",
       "1          1 2016-06-12 00:43:35              1.0                  N   \n",
       "2          2 2016-01-19 11:35:24              1.0                  N   \n",
       "3          2 2016-04-06 19:32:31              1.0                  N   \n",
       "4          2 2016-03-26 13:30:55              1.0                  N   \n",
       "\n",
       "   trip_duration  distance  month  days  hour  minute  second  \n",
       "0            455  1.498521      3    14    17      24      55  \n",
       "1            663  1.805507      6    12     0      43      35  \n",
       "2           2124  6.385098      1    19    11      35      24  \n",
       "3            429  1.485498      4     6    19      32      31  \n",
       "4            435  1.188588      3    26    13      30      55  "
      ]
     },
     "execution_count": 92,
     "metadata": {},
     "output_type": "execute_result"
    }
   ],
   "source": [
    "df_new.head()"
   ]
  },
  {
   "cell_type": "code",
   "execution_count": 93,
   "id": "87a9511a",
   "metadata": {},
   "outputs": [],
   "source": [
    "df_new.drop(\"pickup_datetime\",axis=1,inplace=True)"
   ]
  },
  {
   "cell_type": "code",
   "execution_count": 94,
   "id": "12674a54",
   "metadata": {},
   "outputs": [
    {
     "data": {
      "text/html": [
       "<div>\n",
       "<style scoped>\n",
       "    .dataframe tbody tr th:only-of-type {\n",
       "        vertical-align: middle;\n",
       "    }\n",
       "\n",
       "    .dataframe tbody tr th {\n",
       "        vertical-align: top;\n",
       "    }\n",
       "\n",
       "    .dataframe thead th {\n",
       "        text-align: right;\n",
       "    }\n",
       "</style>\n",
       "<table border=\"1\" class=\"dataframe\">\n",
       "  <thead>\n",
       "    <tr style=\"text-align: right;\">\n",
       "      <th></th>\n",
       "      <th>vendor_id</th>\n",
       "      <th>passenger_count</th>\n",
       "      <th>store_and_fwd_flag</th>\n",
       "      <th>trip_duration</th>\n",
       "      <th>distance</th>\n",
       "      <th>month</th>\n",
       "      <th>days</th>\n",
       "      <th>hour</th>\n",
       "      <th>minute</th>\n",
       "      <th>second</th>\n",
       "    </tr>\n",
       "  </thead>\n",
       "  <tbody>\n",
       "    <tr>\n",
       "      <th>0</th>\n",
       "      <td>2</td>\n",
       "      <td>1.0</td>\n",
       "      <td>N</td>\n",
       "      <td>455</td>\n",
       "      <td>1.498521</td>\n",
       "      <td>3</td>\n",
       "      <td>14</td>\n",
       "      <td>17</td>\n",
       "      <td>24</td>\n",
       "      <td>55</td>\n",
       "    </tr>\n",
       "    <tr>\n",
       "      <th>1</th>\n",
       "      <td>1</td>\n",
       "      <td>1.0</td>\n",
       "      <td>N</td>\n",
       "      <td>663</td>\n",
       "      <td>1.805507</td>\n",
       "      <td>6</td>\n",
       "      <td>12</td>\n",
       "      <td>0</td>\n",
       "      <td>43</td>\n",
       "      <td>35</td>\n",
       "    </tr>\n",
       "    <tr>\n",
       "      <th>2</th>\n",
       "      <td>2</td>\n",
       "      <td>1.0</td>\n",
       "      <td>N</td>\n",
       "      <td>2124</td>\n",
       "      <td>6.385098</td>\n",
       "      <td>1</td>\n",
       "      <td>19</td>\n",
       "      <td>11</td>\n",
       "      <td>35</td>\n",
       "      <td>24</td>\n",
       "    </tr>\n",
       "    <tr>\n",
       "      <th>3</th>\n",
       "      <td>2</td>\n",
       "      <td>1.0</td>\n",
       "      <td>N</td>\n",
       "      <td>429</td>\n",
       "      <td>1.485498</td>\n",
       "      <td>4</td>\n",
       "      <td>6</td>\n",
       "      <td>19</td>\n",
       "      <td>32</td>\n",
       "      <td>31</td>\n",
       "    </tr>\n",
       "    <tr>\n",
       "      <th>4</th>\n",
       "      <td>2</td>\n",
       "      <td>1.0</td>\n",
       "      <td>N</td>\n",
       "      <td>435</td>\n",
       "      <td>1.188588</td>\n",
       "      <td>3</td>\n",
       "      <td>26</td>\n",
       "      <td>13</td>\n",
       "      <td>30</td>\n",
       "      <td>55</td>\n",
       "    </tr>\n",
       "  </tbody>\n",
       "</table>\n",
       "</div>"
      ],
      "text/plain": [
       "   vendor_id  passenger_count store_and_fwd_flag  trip_duration  distance  \\\n",
       "0          2              1.0                  N            455  1.498521   \n",
       "1          1              1.0                  N            663  1.805507   \n",
       "2          2              1.0                  N           2124  6.385098   \n",
       "3          2              1.0                  N            429  1.485498   \n",
       "4          2              1.0                  N            435  1.188588   \n",
       "\n",
       "   month  days  hour  minute  second  \n",
       "0      3    14    17      24      55  \n",
       "1      6    12     0      43      35  \n",
       "2      1    19    11      35      24  \n",
       "3      4     6    19      32      31  \n",
       "4      3    26    13      30      55  "
      ]
     },
     "execution_count": 94,
     "metadata": {},
     "output_type": "execute_result"
    }
   ],
   "source": [
    "df_new.head()"
   ]
  },
  {
   "cell_type": "code",
   "execution_count": 95,
   "id": "f2d67327",
   "metadata": {},
   "outputs": [],
   "source": [
    "from sklearn.preprocessing import OneHotEncoder"
   ]
  },
  {
   "cell_type": "code",
   "execution_count": 96,
   "id": "e2278993",
   "metadata": {},
   "outputs": [],
   "source": [
    "ohe = OneHotEncoder(sparse=False,drop=\"first\")"
   ]
  },
  {
   "cell_type": "code",
   "execution_count": 97,
   "id": "f9c930f5",
   "metadata": {},
   "outputs": [],
   "source": [
    "store_and_fwd_flag_encoded = ohe.fit_transform(df_new[[\"store_and_fwd_flag\"]])"
   ]
  },
  {
   "cell_type": "code",
   "execution_count": 98,
   "id": "c653c938",
   "metadata": {},
   "outputs": [
    {
     "data": {
      "text/plain": [
       "[array(['N', 'Y'], dtype=object)]"
      ]
     },
     "execution_count": 98,
     "metadata": {},
     "output_type": "execute_result"
    }
   ],
   "source": [
    "ohe.categories_"
   ]
  },
  {
   "cell_type": "code",
   "execution_count": 99,
   "id": "7d652697",
   "metadata": {},
   "outputs": [],
   "source": [
    "df_new[\"Y\"] = store_and_fwd_flag_encoded"
   ]
  },
  {
   "cell_type": "code",
   "execution_count": 100,
   "id": "6c7de61b",
   "metadata": {},
   "outputs": [
    {
     "data": {
      "text/html": [
       "<div>\n",
       "<style scoped>\n",
       "    .dataframe tbody tr th:only-of-type {\n",
       "        vertical-align: middle;\n",
       "    }\n",
       "\n",
       "    .dataframe tbody tr th {\n",
       "        vertical-align: top;\n",
       "    }\n",
       "\n",
       "    .dataframe thead th {\n",
       "        text-align: right;\n",
       "    }\n",
       "</style>\n",
       "<table border=\"1\" class=\"dataframe\">\n",
       "  <thead>\n",
       "    <tr style=\"text-align: right;\">\n",
       "      <th></th>\n",
       "      <th>vendor_id</th>\n",
       "      <th>passenger_count</th>\n",
       "      <th>store_and_fwd_flag</th>\n",
       "      <th>trip_duration</th>\n",
       "      <th>distance</th>\n",
       "      <th>month</th>\n",
       "      <th>days</th>\n",
       "      <th>hour</th>\n",
       "      <th>minute</th>\n",
       "      <th>second</th>\n",
       "      <th>Y</th>\n",
       "    </tr>\n",
       "  </thead>\n",
       "  <tbody>\n",
       "    <tr>\n",
       "      <th>0</th>\n",
       "      <td>2</td>\n",
       "      <td>1.0</td>\n",
       "      <td>N</td>\n",
       "      <td>455</td>\n",
       "      <td>1.498521</td>\n",
       "      <td>3</td>\n",
       "      <td>14</td>\n",
       "      <td>17</td>\n",
       "      <td>24</td>\n",
       "      <td>55</td>\n",
       "      <td>0.0</td>\n",
       "    </tr>\n",
       "    <tr>\n",
       "      <th>1</th>\n",
       "      <td>1</td>\n",
       "      <td>1.0</td>\n",
       "      <td>N</td>\n",
       "      <td>663</td>\n",
       "      <td>1.805507</td>\n",
       "      <td>6</td>\n",
       "      <td>12</td>\n",
       "      <td>0</td>\n",
       "      <td>43</td>\n",
       "      <td>35</td>\n",
       "      <td>0.0</td>\n",
       "    </tr>\n",
       "    <tr>\n",
       "      <th>2</th>\n",
       "      <td>2</td>\n",
       "      <td>1.0</td>\n",
       "      <td>N</td>\n",
       "      <td>2124</td>\n",
       "      <td>6.385098</td>\n",
       "      <td>1</td>\n",
       "      <td>19</td>\n",
       "      <td>11</td>\n",
       "      <td>35</td>\n",
       "      <td>24</td>\n",
       "      <td>0.0</td>\n",
       "    </tr>\n",
       "    <tr>\n",
       "      <th>3</th>\n",
       "      <td>2</td>\n",
       "      <td>1.0</td>\n",
       "      <td>N</td>\n",
       "      <td>429</td>\n",
       "      <td>1.485498</td>\n",
       "      <td>4</td>\n",
       "      <td>6</td>\n",
       "      <td>19</td>\n",
       "      <td>32</td>\n",
       "      <td>31</td>\n",
       "      <td>0.0</td>\n",
       "    </tr>\n",
       "    <tr>\n",
       "      <th>4</th>\n",
       "      <td>2</td>\n",
       "      <td>1.0</td>\n",
       "      <td>N</td>\n",
       "      <td>435</td>\n",
       "      <td>1.188588</td>\n",
       "      <td>3</td>\n",
       "      <td>26</td>\n",
       "      <td>13</td>\n",
       "      <td>30</td>\n",
       "      <td>55</td>\n",
       "      <td>0.0</td>\n",
       "    </tr>\n",
       "  </tbody>\n",
       "</table>\n",
       "</div>"
      ],
      "text/plain": [
       "   vendor_id  passenger_count store_and_fwd_flag  trip_duration  distance  \\\n",
       "0          2              1.0                  N            455  1.498521   \n",
       "1          1              1.0                  N            663  1.805507   \n",
       "2          2              1.0                  N           2124  6.385098   \n",
       "3          2              1.0                  N            429  1.485498   \n",
       "4          2              1.0                  N            435  1.188588   \n",
       "\n",
       "   month  days  hour  minute  second    Y  \n",
       "0      3    14    17      24      55  0.0  \n",
       "1      6    12     0      43      35  0.0  \n",
       "2      1    19    11      35      24  0.0  \n",
       "3      4     6    19      32      31  0.0  \n",
       "4      3    26    13      30      55  0.0  "
      ]
     },
     "execution_count": 100,
     "metadata": {},
     "output_type": "execute_result"
    }
   ],
   "source": [
    "df_new.head()"
   ]
  },
  {
   "cell_type": "code",
   "execution_count": 101,
   "id": "278b375f",
   "metadata": {},
   "outputs": [],
   "source": [
    "df_new.rename({\"Y\":\"Yes_store_and_fwd_flag\"},axis=1,inplace=True)"
   ]
  },
  {
   "cell_type": "code",
   "execution_count": 102,
   "id": "340709db",
   "metadata": {},
   "outputs": [
    {
     "data": {
      "text/html": [
       "<div>\n",
       "<style scoped>\n",
       "    .dataframe tbody tr th:only-of-type {\n",
       "        vertical-align: middle;\n",
       "    }\n",
       "\n",
       "    .dataframe tbody tr th {\n",
       "        vertical-align: top;\n",
       "    }\n",
       "\n",
       "    .dataframe thead th {\n",
       "        text-align: right;\n",
       "    }\n",
       "</style>\n",
       "<table border=\"1\" class=\"dataframe\">\n",
       "  <thead>\n",
       "    <tr style=\"text-align: right;\">\n",
       "      <th></th>\n",
       "      <th>vendor_id</th>\n",
       "      <th>passenger_count</th>\n",
       "      <th>store_and_fwd_flag</th>\n",
       "      <th>trip_duration</th>\n",
       "      <th>distance</th>\n",
       "      <th>month</th>\n",
       "      <th>days</th>\n",
       "      <th>hour</th>\n",
       "      <th>minute</th>\n",
       "      <th>second</th>\n",
       "      <th>Yes_store_and_fwd_flag</th>\n",
       "    </tr>\n",
       "  </thead>\n",
       "  <tbody>\n",
       "    <tr>\n",
       "      <th>0</th>\n",
       "      <td>2</td>\n",
       "      <td>1.0</td>\n",
       "      <td>N</td>\n",
       "      <td>455</td>\n",
       "      <td>1.498521</td>\n",
       "      <td>3</td>\n",
       "      <td>14</td>\n",
       "      <td>17</td>\n",
       "      <td>24</td>\n",
       "      <td>55</td>\n",
       "      <td>0.0</td>\n",
       "    </tr>\n",
       "    <tr>\n",
       "      <th>1</th>\n",
       "      <td>1</td>\n",
       "      <td>1.0</td>\n",
       "      <td>N</td>\n",
       "      <td>663</td>\n",
       "      <td>1.805507</td>\n",
       "      <td>6</td>\n",
       "      <td>12</td>\n",
       "      <td>0</td>\n",
       "      <td>43</td>\n",
       "      <td>35</td>\n",
       "      <td>0.0</td>\n",
       "    </tr>\n",
       "    <tr>\n",
       "      <th>2</th>\n",
       "      <td>2</td>\n",
       "      <td>1.0</td>\n",
       "      <td>N</td>\n",
       "      <td>2124</td>\n",
       "      <td>6.385098</td>\n",
       "      <td>1</td>\n",
       "      <td>19</td>\n",
       "      <td>11</td>\n",
       "      <td>35</td>\n",
       "      <td>24</td>\n",
       "      <td>0.0</td>\n",
       "    </tr>\n",
       "    <tr>\n",
       "      <th>3</th>\n",
       "      <td>2</td>\n",
       "      <td>1.0</td>\n",
       "      <td>N</td>\n",
       "      <td>429</td>\n",
       "      <td>1.485498</td>\n",
       "      <td>4</td>\n",
       "      <td>6</td>\n",
       "      <td>19</td>\n",
       "      <td>32</td>\n",
       "      <td>31</td>\n",
       "      <td>0.0</td>\n",
       "    </tr>\n",
       "    <tr>\n",
       "      <th>4</th>\n",
       "      <td>2</td>\n",
       "      <td>1.0</td>\n",
       "      <td>N</td>\n",
       "      <td>435</td>\n",
       "      <td>1.188588</td>\n",
       "      <td>3</td>\n",
       "      <td>26</td>\n",
       "      <td>13</td>\n",
       "      <td>30</td>\n",
       "      <td>55</td>\n",
       "      <td>0.0</td>\n",
       "    </tr>\n",
       "  </tbody>\n",
       "</table>\n",
       "</div>"
      ],
      "text/plain": [
       "   vendor_id  passenger_count store_and_fwd_flag  trip_duration  distance  \\\n",
       "0          2              1.0                  N            455  1.498521   \n",
       "1          1              1.0                  N            663  1.805507   \n",
       "2          2              1.0                  N           2124  6.385098   \n",
       "3          2              1.0                  N            429  1.485498   \n",
       "4          2              1.0                  N            435  1.188588   \n",
       "\n",
       "   month  days  hour  minute  second  Yes_store_and_fwd_flag  \n",
       "0      3    14    17      24      55                     0.0  \n",
       "1      6    12     0      43      35                     0.0  \n",
       "2      1    19    11      35      24                     0.0  \n",
       "3      4     6    19      32      31                     0.0  \n",
       "4      3    26    13      30      55                     0.0  "
      ]
     },
     "execution_count": 102,
     "metadata": {},
     "output_type": "execute_result"
    }
   ],
   "source": [
    "df_new.head()"
   ]
  },
  {
   "cell_type": "code",
   "execution_count": 103,
   "id": "d62a1c00",
   "metadata": {},
   "outputs": [],
   "source": [
    "df_new.drop(\"store_and_fwd_flag\",axis=1,inplace=True)"
   ]
  },
  {
   "cell_type": "code",
   "execution_count": 104,
   "id": "6b455b7c",
   "metadata": {},
   "outputs": [
    {
     "data": {
      "text/html": [
       "<div>\n",
       "<style scoped>\n",
       "    .dataframe tbody tr th:only-of-type {\n",
       "        vertical-align: middle;\n",
       "    }\n",
       "\n",
       "    .dataframe tbody tr th {\n",
       "        vertical-align: top;\n",
       "    }\n",
       "\n",
       "    .dataframe thead th {\n",
       "        text-align: right;\n",
       "    }\n",
       "</style>\n",
       "<table border=\"1\" class=\"dataframe\">\n",
       "  <thead>\n",
       "    <tr style=\"text-align: right;\">\n",
       "      <th></th>\n",
       "      <th>vendor_id</th>\n",
       "      <th>passenger_count</th>\n",
       "      <th>trip_duration</th>\n",
       "      <th>distance</th>\n",
       "      <th>month</th>\n",
       "      <th>days</th>\n",
       "      <th>hour</th>\n",
       "      <th>minute</th>\n",
       "      <th>second</th>\n",
       "      <th>Yes_store_and_fwd_flag</th>\n",
       "    </tr>\n",
       "  </thead>\n",
       "  <tbody>\n",
       "    <tr>\n",
       "      <th>0</th>\n",
       "      <td>2</td>\n",
       "      <td>1.0</td>\n",
       "      <td>455</td>\n",
       "      <td>1.498521</td>\n",
       "      <td>3</td>\n",
       "      <td>14</td>\n",
       "      <td>17</td>\n",
       "      <td>24</td>\n",
       "      <td>55</td>\n",
       "      <td>0.0</td>\n",
       "    </tr>\n",
       "    <tr>\n",
       "      <th>1</th>\n",
       "      <td>1</td>\n",
       "      <td>1.0</td>\n",
       "      <td>663</td>\n",
       "      <td>1.805507</td>\n",
       "      <td>6</td>\n",
       "      <td>12</td>\n",
       "      <td>0</td>\n",
       "      <td>43</td>\n",
       "      <td>35</td>\n",
       "      <td>0.0</td>\n",
       "    </tr>\n",
       "    <tr>\n",
       "      <th>2</th>\n",
       "      <td>2</td>\n",
       "      <td>1.0</td>\n",
       "      <td>2124</td>\n",
       "      <td>6.385098</td>\n",
       "      <td>1</td>\n",
       "      <td>19</td>\n",
       "      <td>11</td>\n",
       "      <td>35</td>\n",
       "      <td>24</td>\n",
       "      <td>0.0</td>\n",
       "    </tr>\n",
       "    <tr>\n",
       "      <th>3</th>\n",
       "      <td>2</td>\n",
       "      <td>1.0</td>\n",
       "      <td>429</td>\n",
       "      <td>1.485498</td>\n",
       "      <td>4</td>\n",
       "      <td>6</td>\n",
       "      <td>19</td>\n",
       "      <td>32</td>\n",
       "      <td>31</td>\n",
       "      <td>0.0</td>\n",
       "    </tr>\n",
       "    <tr>\n",
       "      <th>4</th>\n",
       "      <td>2</td>\n",
       "      <td>1.0</td>\n",
       "      <td>435</td>\n",
       "      <td>1.188588</td>\n",
       "      <td>3</td>\n",
       "      <td>26</td>\n",
       "      <td>13</td>\n",
       "      <td>30</td>\n",
       "      <td>55</td>\n",
       "      <td>0.0</td>\n",
       "    </tr>\n",
       "  </tbody>\n",
       "</table>\n",
       "</div>"
      ],
      "text/plain": [
       "   vendor_id  passenger_count  trip_duration  distance  month  days  hour  \\\n",
       "0          2              1.0            455  1.498521      3    14    17   \n",
       "1          1              1.0            663  1.805507      6    12     0   \n",
       "2          2              1.0           2124  6.385098      1    19    11   \n",
       "3          2              1.0            429  1.485498      4     6    19   \n",
       "4          2              1.0            435  1.188588      3    26    13   \n",
       "\n",
       "   minute  second  Yes_store_and_fwd_flag  \n",
       "0      24      55                     0.0  \n",
       "1      43      35                     0.0  \n",
       "2      35      24                     0.0  \n",
       "3      32      31                     0.0  \n",
       "4      30      55                     0.0  "
      ]
     },
     "execution_count": 104,
     "metadata": {},
     "output_type": "execute_result"
    }
   ],
   "source": [
    "df_new.head()"
   ]
  },
  {
   "cell_type": "code",
   "execution_count": 105,
   "id": "6b3af393",
   "metadata": {},
   "outputs": [
    {
     "data": {
      "text/html": [
       "<div>\n",
       "<style scoped>\n",
       "    .dataframe tbody tr th:only-of-type {\n",
       "        vertical-align: middle;\n",
       "    }\n",
       "\n",
       "    .dataframe tbody tr th {\n",
       "        vertical-align: top;\n",
       "    }\n",
       "\n",
       "    .dataframe thead th {\n",
       "        text-align: right;\n",
       "    }\n",
       "</style>\n",
       "<table border=\"1\" class=\"dataframe\">\n",
       "  <thead>\n",
       "    <tr style=\"text-align: right;\">\n",
       "      <th></th>\n",
       "      <th>vendor_id</th>\n",
       "      <th>passenger_count</th>\n",
       "      <th>trip_duration</th>\n",
       "      <th>distance</th>\n",
       "      <th>month</th>\n",
       "      <th>days</th>\n",
       "      <th>hour</th>\n",
       "      <th>minute</th>\n",
       "      <th>second</th>\n",
       "      <th>Yes_store_and_fwd_flag</th>\n",
       "    </tr>\n",
       "  </thead>\n",
       "  <tbody>\n",
       "    <tr>\n",
       "      <th>vendor_id</th>\n",
       "      <td>1.000000</td>\n",
       "      <td>0.251647</td>\n",
       "      <td>0.020297</td>\n",
       "      <td>0.006895</td>\n",
       "      <td>-0.006220</td>\n",
       "      <td>0.000727</td>\n",
       "      <td>0.009306</td>\n",
       "      <td>-0.000391</td>\n",
       "      <td>0.001088</td>\n",
       "      <td>-0.079859</td>\n",
       "    </tr>\n",
       "    <tr>\n",
       "      <th>passenger_count</th>\n",
       "      <td>0.251647</td>\n",
       "      <td>1.000000</td>\n",
       "      <td>0.008974</td>\n",
       "      <td>0.015480</td>\n",
       "      <td>0.000760</td>\n",
       "      <td>0.002966</td>\n",
       "      <td>0.018322</td>\n",
       "      <td>0.000404</td>\n",
       "      <td>0.000526</td>\n",
       "      <td>-0.018464</td>\n",
       "    </tr>\n",
       "    <tr>\n",
       "      <th>trip_duration</th>\n",
       "      <td>0.020297</td>\n",
       "      <td>0.008974</td>\n",
       "      <td>1.000000</td>\n",
       "      <td>0.098837</td>\n",
       "      <td>0.006592</td>\n",
       "      <td>0.000576</td>\n",
       "      <td>0.003684</td>\n",
       "      <td>-0.002346</td>\n",
       "      <td>0.000057</td>\n",
       "      <td>0.001730</td>\n",
       "    </tr>\n",
       "    <tr>\n",
       "      <th>distance</th>\n",
       "      <td>0.006895</td>\n",
       "      <td>0.015480</td>\n",
       "      <td>0.098837</td>\n",
       "      <td>1.000000</td>\n",
       "      <td>0.019418</td>\n",
       "      <td>0.008156</td>\n",
       "      <td>-0.027086</td>\n",
       "      <td>-0.010331</td>\n",
       "      <td>0.000884</td>\n",
       "      <td>0.023329</td>\n",
       "    </tr>\n",
       "    <tr>\n",
       "      <th>month</th>\n",
       "      <td>-0.006220</td>\n",
       "      <td>0.000760</td>\n",
       "      <td>0.006592</td>\n",
       "      <td>0.019418</td>\n",
       "      <td>1.000000</td>\n",
       "      <td>-0.015143</td>\n",
       "      <td>-0.003442</td>\n",
       "      <td>-0.001059</td>\n",
       "      <td>0.000203</td>\n",
       "      <td>0.000383</td>\n",
       "    </tr>\n",
       "    <tr>\n",
       "      <th>days</th>\n",
       "      <td>0.000727</td>\n",
       "      <td>0.002966</td>\n",
       "      <td>0.000576</td>\n",
       "      <td>0.008156</td>\n",
       "      <td>-0.015143</td>\n",
       "      <td>1.000000</td>\n",
       "      <td>0.000413</td>\n",
       "      <td>-0.000149</td>\n",
       "      <td>0.000215</td>\n",
       "      <td>0.001101</td>\n",
       "    </tr>\n",
       "    <tr>\n",
       "      <th>hour</th>\n",
       "      <td>0.009306</td>\n",
       "      <td>0.018322</td>\n",
       "      <td>0.003684</td>\n",
       "      <td>-0.027086</td>\n",
       "      <td>-0.003442</td>\n",
       "      <td>0.000413</td>\n",
       "      <td>1.000000</td>\n",
       "      <td>-0.003137</td>\n",
       "      <td>0.001449</td>\n",
       "      <td>0.002284</td>\n",
       "    </tr>\n",
       "    <tr>\n",
       "      <th>minute</th>\n",
       "      <td>-0.000391</td>\n",
       "      <td>0.000404</td>\n",
       "      <td>-0.002346</td>\n",
       "      <td>-0.010331</td>\n",
       "      <td>-0.001059</td>\n",
       "      <td>-0.000149</td>\n",
       "      <td>-0.003137</td>\n",
       "      <td>1.000000</td>\n",
       "      <td>-0.001032</td>\n",
       "      <td>0.000203</td>\n",
       "    </tr>\n",
       "    <tr>\n",
       "      <th>second</th>\n",
       "      <td>0.001088</td>\n",
       "      <td>0.000526</td>\n",
       "      <td>0.000057</td>\n",
       "      <td>0.000884</td>\n",
       "      <td>0.000203</td>\n",
       "      <td>0.000215</td>\n",
       "      <td>0.001449</td>\n",
       "      <td>-0.001032</td>\n",
       "      <td>1.000000</td>\n",
       "      <td>0.001324</td>\n",
       "    </tr>\n",
       "    <tr>\n",
       "      <th>Yes_store_and_fwd_flag</th>\n",
       "      <td>-0.079859</td>\n",
       "      <td>-0.018464</td>\n",
       "      <td>0.001730</td>\n",
       "      <td>0.023329</td>\n",
       "      <td>0.000383</td>\n",
       "      <td>0.001101</td>\n",
       "      <td>0.002284</td>\n",
       "      <td>0.000203</td>\n",
       "      <td>0.001324</td>\n",
       "      <td>1.000000</td>\n",
       "    </tr>\n",
       "  </tbody>\n",
       "</table>\n",
       "</div>"
      ],
      "text/plain": [
       "                        vendor_id  passenger_count  trip_duration  distance  \\\n",
       "vendor_id                1.000000         0.251647       0.020297  0.006895   \n",
       "passenger_count          0.251647         1.000000       0.008974  0.015480   \n",
       "trip_duration            0.020297         0.008974       1.000000  0.098837   \n",
       "distance                 0.006895         0.015480       0.098837  1.000000   \n",
       "month                   -0.006220         0.000760       0.006592  0.019418   \n",
       "days                     0.000727         0.002966       0.000576  0.008156   \n",
       "hour                     0.009306         0.018322       0.003684 -0.027086   \n",
       "minute                  -0.000391         0.000404      -0.002346 -0.010331   \n",
       "second                   0.001088         0.000526       0.000057  0.000884   \n",
       "Yes_store_and_fwd_flag  -0.079859        -0.018464       0.001730  0.023329   \n",
       "\n",
       "                           month      days      hour    minute    second  \\\n",
       "vendor_id              -0.006220  0.000727  0.009306 -0.000391  0.001088   \n",
       "passenger_count         0.000760  0.002966  0.018322  0.000404  0.000526   \n",
       "trip_duration           0.006592  0.000576  0.003684 -0.002346  0.000057   \n",
       "distance                0.019418  0.008156 -0.027086 -0.010331  0.000884   \n",
       "month                   1.000000 -0.015143 -0.003442 -0.001059  0.000203   \n",
       "days                   -0.015143  1.000000  0.000413 -0.000149  0.000215   \n",
       "hour                   -0.003442  0.000413  1.000000 -0.003137  0.001449   \n",
       "minute                 -0.001059 -0.000149 -0.003137  1.000000 -0.001032   \n",
       "second                  0.000203  0.000215  0.001449 -0.001032  1.000000   \n",
       "Yes_store_and_fwd_flag  0.000383  0.001101  0.002284  0.000203  0.001324   \n",
       "\n",
       "                        Yes_store_and_fwd_flag  \n",
       "vendor_id                            -0.079859  \n",
       "passenger_count                      -0.018464  \n",
       "trip_duration                         0.001730  \n",
       "distance                              0.023329  \n",
       "month                                 0.000383  \n",
       "days                                  0.001101  \n",
       "hour                                  0.002284  \n",
       "minute                                0.000203  \n",
       "second                                0.001324  \n",
       "Yes_store_and_fwd_flag                1.000000  "
      ]
     },
     "execution_count": 105,
     "metadata": {},
     "output_type": "execute_result"
    }
   ],
   "source": [
    "df_new.corr()"
   ]
  },
  {
   "cell_type": "code",
   "execution_count": 106,
   "id": "dc12886e",
   "metadata": {},
   "outputs": [],
   "source": [
    "final_seconds = []\n",
    "for i in range(0,df.shape[0]):\n",
    "    x = df_new[\"hour\"][i]*3600\n",
    "    y = df_new[\"minute\"][i]*60\n",
    "    z = df_new[\"second\"][i]\n",
    "    \n",
    "    sum = x+y+z\n",
    "    final_seconds.append(sum)"
   ]
  },
  {
   "cell_type": "code",
   "execution_count": 107,
   "id": "f58cf673",
   "metadata": {},
   "outputs": [],
   "source": [
    "df_new[\"final_seconds\"] = final_seconds "
   ]
  },
  {
   "cell_type": "code",
   "execution_count": 108,
   "id": "2d7e6c6e",
   "metadata": {},
   "outputs": [
    {
     "data": {
      "text/html": [
       "<div>\n",
       "<style scoped>\n",
       "    .dataframe tbody tr th:only-of-type {\n",
       "        vertical-align: middle;\n",
       "    }\n",
       "\n",
       "    .dataframe tbody tr th {\n",
       "        vertical-align: top;\n",
       "    }\n",
       "\n",
       "    .dataframe thead th {\n",
       "        text-align: right;\n",
       "    }\n",
       "</style>\n",
       "<table border=\"1\" class=\"dataframe\">\n",
       "  <thead>\n",
       "    <tr style=\"text-align: right;\">\n",
       "      <th></th>\n",
       "      <th>vendor_id</th>\n",
       "      <th>passenger_count</th>\n",
       "      <th>trip_duration</th>\n",
       "      <th>distance</th>\n",
       "      <th>month</th>\n",
       "      <th>days</th>\n",
       "      <th>hour</th>\n",
       "      <th>minute</th>\n",
       "      <th>second</th>\n",
       "      <th>Yes_store_and_fwd_flag</th>\n",
       "      <th>final_seconds</th>\n",
       "    </tr>\n",
       "  </thead>\n",
       "  <tbody>\n",
       "    <tr>\n",
       "      <th>0</th>\n",
       "      <td>2</td>\n",
       "      <td>1.0</td>\n",
       "      <td>455</td>\n",
       "      <td>1.498521</td>\n",
       "      <td>3</td>\n",
       "      <td>14</td>\n",
       "      <td>17</td>\n",
       "      <td>24</td>\n",
       "      <td>55</td>\n",
       "      <td>0.0</td>\n",
       "      <td>62695</td>\n",
       "    </tr>\n",
       "    <tr>\n",
       "      <th>1</th>\n",
       "      <td>1</td>\n",
       "      <td>1.0</td>\n",
       "      <td>663</td>\n",
       "      <td>1.805507</td>\n",
       "      <td>6</td>\n",
       "      <td>12</td>\n",
       "      <td>0</td>\n",
       "      <td>43</td>\n",
       "      <td>35</td>\n",
       "      <td>0.0</td>\n",
       "      <td>2615</td>\n",
       "    </tr>\n",
       "    <tr>\n",
       "      <th>2</th>\n",
       "      <td>2</td>\n",
       "      <td>1.0</td>\n",
       "      <td>2124</td>\n",
       "      <td>6.385098</td>\n",
       "      <td>1</td>\n",
       "      <td>19</td>\n",
       "      <td>11</td>\n",
       "      <td>35</td>\n",
       "      <td>24</td>\n",
       "      <td>0.0</td>\n",
       "      <td>41724</td>\n",
       "    </tr>\n",
       "    <tr>\n",
       "      <th>3</th>\n",
       "      <td>2</td>\n",
       "      <td>1.0</td>\n",
       "      <td>429</td>\n",
       "      <td>1.485498</td>\n",
       "      <td>4</td>\n",
       "      <td>6</td>\n",
       "      <td>19</td>\n",
       "      <td>32</td>\n",
       "      <td>31</td>\n",
       "      <td>0.0</td>\n",
       "      <td>70351</td>\n",
       "    </tr>\n",
       "    <tr>\n",
       "      <th>4</th>\n",
       "      <td>2</td>\n",
       "      <td>1.0</td>\n",
       "      <td>435</td>\n",
       "      <td>1.188588</td>\n",
       "      <td>3</td>\n",
       "      <td>26</td>\n",
       "      <td>13</td>\n",
       "      <td>30</td>\n",
       "      <td>55</td>\n",
       "      <td>0.0</td>\n",
       "      <td>48655</td>\n",
       "    </tr>\n",
       "  </tbody>\n",
       "</table>\n",
       "</div>"
      ],
      "text/plain": [
       "   vendor_id  passenger_count  trip_duration  distance  month  days  hour  \\\n",
       "0          2              1.0            455  1.498521      3    14    17   \n",
       "1          1              1.0            663  1.805507      6    12     0   \n",
       "2          2              1.0           2124  6.385098      1    19    11   \n",
       "3          2              1.0            429  1.485498      4     6    19   \n",
       "4          2              1.0            435  1.188588      3    26    13   \n",
       "\n",
       "   minute  second  Yes_store_and_fwd_flag  final_seconds  \n",
       "0      24      55                     0.0          62695  \n",
       "1      43      35                     0.0           2615  \n",
       "2      35      24                     0.0          41724  \n",
       "3      32      31                     0.0          70351  \n",
       "4      30      55                     0.0          48655  "
      ]
     },
     "execution_count": 108,
     "metadata": {},
     "output_type": "execute_result"
    }
   ],
   "source": [
    "df_new.head()"
   ]
  },
  {
   "cell_type": "code",
   "execution_count": 109,
   "id": "8b15be2b",
   "metadata": {},
   "outputs": [
    {
     "data": {
      "text/html": [
       "<div>\n",
       "<style scoped>\n",
       "    .dataframe tbody tr th:only-of-type {\n",
       "        vertical-align: middle;\n",
       "    }\n",
       "\n",
       "    .dataframe tbody tr th {\n",
       "        vertical-align: top;\n",
       "    }\n",
       "\n",
       "    .dataframe thead th {\n",
       "        text-align: right;\n",
       "    }\n",
       "</style>\n",
       "<table border=\"1\" class=\"dataframe\">\n",
       "  <thead>\n",
       "    <tr style=\"text-align: right;\">\n",
       "      <th></th>\n",
       "      <th>vendor_id</th>\n",
       "      <th>passenger_count</th>\n",
       "      <th>trip_duration</th>\n",
       "      <th>distance</th>\n",
       "      <th>month</th>\n",
       "      <th>days</th>\n",
       "      <th>hour</th>\n",
       "      <th>minute</th>\n",
       "      <th>second</th>\n",
       "      <th>Yes_store_and_fwd_flag</th>\n",
       "      <th>final_seconds</th>\n",
       "    </tr>\n",
       "  </thead>\n",
       "  <tbody>\n",
       "    <tr>\n",
       "      <th>vendor_id</th>\n",
       "      <td>1.000000</td>\n",
       "      <td>0.251647</td>\n",
       "      <td>0.020297</td>\n",
       "      <td>0.006895</td>\n",
       "      <td>-0.006220</td>\n",
       "      <td>0.000727</td>\n",
       "      <td>0.009306</td>\n",
       "      <td>-0.000391</td>\n",
       "      <td>0.001088</td>\n",
       "      <td>-0.079859</td>\n",
       "      <td>0.009281</td>\n",
       "    </tr>\n",
       "    <tr>\n",
       "      <th>passenger_count</th>\n",
       "      <td>0.251647</td>\n",
       "      <td>1.000000</td>\n",
       "      <td>0.008974</td>\n",
       "      <td>0.015480</td>\n",
       "      <td>0.000760</td>\n",
       "      <td>0.002966</td>\n",
       "      <td>0.018322</td>\n",
       "      <td>0.000404</td>\n",
       "      <td>0.000526</td>\n",
       "      <td>-0.018464</td>\n",
       "      <td>0.018324</td>\n",
       "    </tr>\n",
       "    <tr>\n",
       "      <th>trip_duration</th>\n",
       "      <td>0.020297</td>\n",
       "      <td>0.008974</td>\n",
       "      <td>1.000000</td>\n",
       "      <td>0.098837</td>\n",
       "      <td>0.006592</td>\n",
       "      <td>0.000576</td>\n",
       "      <td>0.003684</td>\n",
       "      <td>-0.002346</td>\n",
       "      <td>0.000057</td>\n",
       "      <td>0.001730</td>\n",
       "      <td>0.003575</td>\n",
       "    </tr>\n",
       "    <tr>\n",
       "      <th>distance</th>\n",
       "      <td>0.006895</td>\n",
       "      <td>0.015480</td>\n",
       "      <td>0.098837</td>\n",
       "      <td>1.000000</td>\n",
       "      <td>0.019418</td>\n",
       "      <td>0.008156</td>\n",
       "      <td>-0.027086</td>\n",
       "      <td>-0.010331</td>\n",
       "      <td>0.000884</td>\n",
       "      <td>0.023329</td>\n",
       "      <td>-0.027527</td>\n",
       "    </tr>\n",
       "    <tr>\n",
       "      <th>month</th>\n",
       "      <td>-0.006220</td>\n",
       "      <td>0.000760</td>\n",
       "      <td>0.006592</td>\n",
       "      <td>0.019418</td>\n",
       "      <td>1.000000</td>\n",
       "      <td>-0.015143</td>\n",
       "      <td>-0.003442</td>\n",
       "      <td>-0.001059</td>\n",
       "      <td>0.000203</td>\n",
       "      <td>0.000383</td>\n",
       "      <td>-0.003486</td>\n",
       "    </tr>\n",
       "    <tr>\n",
       "      <th>days</th>\n",
       "      <td>0.000727</td>\n",
       "      <td>0.002966</td>\n",
       "      <td>0.000576</td>\n",
       "      <td>0.008156</td>\n",
       "      <td>-0.015143</td>\n",
       "      <td>1.000000</td>\n",
       "      <td>0.000413</td>\n",
       "      <td>-0.000149</td>\n",
       "      <td>0.000215</td>\n",
       "      <td>0.001101</td>\n",
       "      <td>0.000407</td>\n",
       "    </tr>\n",
       "    <tr>\n",
       "      <th>hour</th>\n",
       "      <td>0.009306</td>\n",
       "      <td>0.018322</td>\n",
       "      <td>0.003684</td>\n",
       "      <td>-0.027086</td>\n",
       "      <td>-0.003442</td>\n",
       "      <td>0.000413</td>\n",
       "      <td>1.000000</td>\n",
       "      <td>-0.003137</td>\n",
       "      <td>0.001449</td>\n",
       "      <td>0.002284</td>\n",
       "      <td>0.998983</td>\n",
       "    </tr>\n",
       "    <tr>\n",
       "      <th>minute</th>\n",
       "      <td>-0.000391</td>\n",
       "      <td>0.000404</td>\n",
       "      <td>-0.002346</td>\n",
       "      <td>-0.010331</td>\n",
       "      <td>-0.001059</td>\n",
       "      <td>-0.000149</td>\n",
       "      <td>-0.003137</td>\n",
       "      <td>1.000000</td>\n",
       "      <td>-0.001032</td>\n",
       "      <td>0.000203</td>\n",
       "      <td>0.041945</td>\n",
       "    </tr>\n",
       "    <tr>\n",
       "      <th>second</th>\n",
       "      <td>0.001088</td>\n",
       "      <td>0.000526</td>\n",
       "      <td>0.000057</td>\n",
       "      <td>0.000884</td>\n",
       "      <td>0.000203</td>\n",
       "      <td>0.000215</td>\n",
       "      <td>0.001449</td>\n",
       "      <td>-0.001032</td>\n",
       "      <td>1.000000</td>\n",
       "      <td>0.001324</td>\n",
       "      <td>0.002153</td>\n",
       "    </tr>\n",
       "    <tr>\n",
       "      <th>Yes_store_and_fwd_flag</th>\n",
       "      <td>-0.079859</td>\n",
       "      <td>-0.018464</td>\n",
       "      <td>0.001730</td>\n",
       "      <td>0.023329</td>\n",
       "      <td>0.000383</td>\n",
       "      <td>0.001101</td>\n",
       "      <td>0.002284</td>\n",
       "      <td>0.000203</td>\n",
       "      <td>0.001324</td>\n",
       "      <td>1.000000</td>\n",
       "      <td>0.002293</td>\n",
       "    </tr>\n",
       "    <tr>\n",
       "      <th>final_seconds</th>\n",
       "      <td>0.009281</td>\n",
       "      <td>0.018324</td>\n",
       "      <td>0.003575</td>\n",
       "      <td>-0.027527</td>\n",
       "      <td>-0.003486</td>\n",
       "      <td>0.000407</td>\n",
       "      <td>0.998983</td>\n",
       "      <td>0.041945</td>\n",
       "      <td>0.002153</td>\n",
       "      <td>0.002293</td>\n",
       "      <td>1.000000</td>\n",
       "    </tr>\n",
       "  </tbody>\n",
       "</table>\n",
       "</div>"
      ],
      "text/plain": [
       "                        vendor_id  passenger_count  trip_duration  distance  \\\n",
       "vendor_id                1.000000         0.251647       0.020297  0.006895   \n",
       "passenger_count          0.251647         1.000000       0.008974  0.015480   \n",
       "trip_duration            0.020297         0.008974       1.000000  0.098837   \n",
       "distance                 0.006895         0.015480       0.098837  1.000000   \n",
       "month                   -0.006220         0.000760       0.006592  0.019418   \n",
       "days                     0.000727         0.002966       0.000576  0.008156   \n",
       "hour                     0.009306         0.018322       0.003684 -0.027086   \n",
       "minute                  -0.000391         0.000404      -0.002346 -0.010331   \n",
       "second                   0.001088         0.000526       0.000057  0.000884   \n",
       "Yes_store_and_fwd_flag  -0.079859        -0.018464       0.001730  0.023329   \n",
       "final_seconds            0.009281         0.018324       0.003575 -0.027527   \n",
       "\n",
       "                           month      days      hour    minute    second  \\\n",
       "vendor_id              -0.006220  0.000727  0.009306 -0.000391  0.001088   \n",
       "passenger_count         0.000760  0.002966  0.018322  0.000404  0.000526   \n",
       "trip_duration           0.006592  0.000576  0.003684 -0.002346  0.000057   \n",
       "distance                0.019418  0.008156 -0.027086 -0.010331  0.000884   \n",
       "month                   1.000000 -0.015143 -0.003442 -0.001059  0.000203   \n",
       "days                   -0.015143  1.000000  0.000413 -0.000149  0.000215   \n",
       "hour                   -0.003442  0.000413  1.000000 -0.003137  0.001449   \n",
       "minute                 -0.001059 -0.000149 -0.003137  1.000000 -0.001032   \n",
       "second                  0.000203  0.000215  0.001449 -0.001032  1.000000   \n",
       "Yes_store_and_fwd_flag  0.000383  0.001101  0.002284  0.000203  0.001324   \n",
       "final_seconds          -0.003486  0.000407  0.998983  0.041945  0.002153   \n",
       "\n",
       "                        Yes_store_and_fwd_flag  final_seconds  \n",
       "vendor_id                            -0.079859       0.009281  \n",
       "passenger_count                      -0.018464       0.018324  \n",
       "trip_duration                         0.001730       0.003575  \n",
       "distance                              0.023329      -0.027527  \n",
       "month                                 0.000383      -0.003486  \n",
       "days                                  0.001101       0.000407  \n",
       "hour                                  0.002284       0.998983  \n",
       "minute                                0.000203       0.041945  \n",
       "second                                0.001324       0.002153  \n",
       "Yes_store_and_fwd_flag                1.000000       0.002293  \n",
       "final_seconds                         0.002293       1.000000  "
      ]
     },
     "execution_count": 109,
     "metadata": {},
     "output_type": "execute_result"
    }
   ],
   "source": [
    "df_new.corr()"
   ]
  },
  {
   "cell_type": "code",
   "execution_count": 110,
   "id": "056363ae",
   "metadata": {},
   "outputs": [],
   "source": [
    "df_new.drop([\"hour\",\"second\",\"minute\"],axis=1,inplace=True)"
   ]
  },
  {
   "cell_type": "code",
   "execution_count": 111,
   "id": "6df8f4fc",
   "metadata": {},
   "outputs": [
    {
     "data": {
      "text/html": [
       "<div>\n",
       "<style scoped>\n",
       "    .dataframe tbody tr th:only-of-type {\n",
       "        vertical-align: middle;\n",
       "    }\n",
       "\n",
       "    .dataframe tbody tr th {\n",
       "        vertical-align: top;\n",
       "    }\n",
       "\n",
       "    .dataframe thead th {\n",
       "        text-align: right;\n",
       "    }\n",
       "</style>\n",
       "<table border=\"1\" class=\"dataframe\">\n",
       "  <thead>\n",
       "    <tr style=\"text-align: right;\">\n",
       "      <th></th>\n",
       "      <th>vendor_id</th>\n",
       "      <th>passenger_count</th>\n",
       "      <th>trip_duration</th>\n",
       "      <th>distance</th>\n",
       "      <th>month</th>\n",
       "      <th>days</th>\n",
       "      <th>Yes_store_and_fwd_flag</th>\n",
       "      <th>final_seconds</th>\n",
       "    </tr>\n",
       "  </thead>\n",
       "  <tbody>\n",
       "    <tr>\n",
       "      <th>0</th>\n",
       "      <td>2</td>\n",
       "      <td>1.0</td>\n",
       "      <td>455</td>\n",
       "      <td>1.498521</td>\n",
       "      <td>3</td>\n",
       "      <td>14</td>\n",
       "      <td>0.0</td>\n",
       "      <td>62695</td>\n",
       "    </tr>\n",
       "    <tr>\n",
       "      <th>1</th>\n",
       "      <td>1</td>\n",
       "      <td>1.0</td>\n",
       "      <td>663</td>\n",
       "      <td>1.805507</td>\n",
       "      <td>6</td>\n",
       "      <td>12</td>\n",
       "      <td>0.0</td>\n",
       "      <td>2615</td>\n",
       "    </tr>\n",
       "    <tr>\n",
       "      <th>2</th>\n",
       "      <td>2</td>\n",
       "      <td>1.0</td>\n",
       "      <td>2124</td>\n",
       "      <td>6.385098</td>\n",
       "      <td>1</td>\n",
       "      <td>19</td>\n",
       "      <td>0.0</td>\n",
       "      <td>41724</td>\n",
       "    </tr>\n",
       "    <tr>\n",
       "      <th>3</th>\n",
       "      <td>2</td>\n",
       "      <td>1.0</td>\n",
       "      <td>429</td>\n",
       "      <td>1.485498</td>\n",
       "      <td>4</td>\n",
       "      <td>6</td>\n",
       "      <td>0.0</td>\n",
       "      <td>70351</td>\n",
       "    </tr>\n",
       "    <tr>\n",
       "      <th>4</th>\n",
       "      <td>2</td>\n",
       "      <td>1.0</td>\n",
       "      <td>435</td>\n",
       "      <td>1.188588</td>\n",
       "      <td>3</td>\n",
       "      <td>26</td>\n",
       "      <td>0.0</td>\n",
       "      <td>48655</td>\n",
       "    </tr>\n",
       "  </tbody>\n",
       "</table>\n",
       "</div>"
      ],
      "text/plain": [
       "   vendor_id  passenger_count  trip_duration  distance  month  days  \\\n",
       "0          2              1.0            455  1.498521      3    14   \n",
       "1          1              1.0            663  1.805507      6    12   \n",
       "2          2              1.0           2124  6.385098      1    19   \n",
       "3          2              1.0            429  1.485498      4     6   \n",
       "4          2              1.0            435  1.188588      3    26   \n",
       "\n",
       "   Yes_store_and_fwd_flag  final_seconds  \n",
       "0                     0.0          62695  \n",
       "1                     0.0           2615  \n",
       "2                     0.0          41724  \n",
       "3                     0.0          70351  \n",
       "4                     0.0          48655  "
      ]
     },
     "execution_count": 111,
     "metadata": {},
     "output_type": "execute_result"
    }
   ],
   "source": [
    "df_new.head()"
   ]
  },
  {
   "cell_type": "markdown",
   "id": "c2bff177",
   "metadata": {},
   "source": [
    "# Experimenting"
   ]
  },
  {
   "cell_type": "code",
   "execution_count": 112,
   "id": "3875fced",
   "metadata": {},
   "outputs": [],
   "source": [
    "import seaborn as sns"
   ]
  },
  {
   "cell_type": "code",
   "execution_count": 122,
   "id": "bc12404f",
   "metadata": {},
   "outputs": [
    {
     "data": {
      "text/plain": [
       "Text(0.5, 1.0, 'Correlation Matrix')"
      ]
     },
     "execution_count": 122,
     "metadata": {},
     "output_type": "execute_result"
    },
    {
     "data": {
      "image/png": "[encoded data removed]",
      "text/plain": [
       "<Figure size 640x480 with 2 Axes>"
      ]
     },
     "metadata": {},
     "output_type": "display_data"
    }
   ],
   "source": [
    "sns.heatmap(df_new.corr(), annot=True)\n",
    "plt.title('Correlation Matrix')"
   ]
  },
  {
   "cell_type": "code",
   "execution_count": 116,
   "id": "7525f108",
   "metadata": {},
   "outputs": [
    {
     "name": "stderr",
     "output_type": "stream",
     "text": [
      "C:\\Users\\khushi garg\\AppData\\Local\\Temp\\ipykernel_17640\\1151586330.py:3: RuntimeWarning: divide by zero encountered in double_scalars\n",
      "  speed_value = df_new[\"distance\"][i]/df_new['final_seconds'][i]\n"
     ]
    }
   ],
   "source": [
    "# Calculating speed\n",
    "speed = []\n",
    "for i in range(0,df.shape[0]):\n",
    "    speed_value = df_new[\"distance\"][i]/df_new['final_seconds'][i]\n",
    "    \n",
    "    speed.append(speed_value)\n"
   ]
  },
  {
   "cell_type": "code",
   "execution_count": 117,
   "id": "36100e4e",
   "metadata": {},
   "outputs": [],
   "source": [
    "df_new[\"speed\"] = speed "
   ]
  },
  {
   "cell_type": "code",
   "execution_count": 118,
   "id": "f619a099",
   "metadata": {},
   "outputs": [
    {
     "data": {
      "text/html": [
       "<div>\n",
       "<style scoped>\n",
       "    .dataframe tbody tr th:only-of-type {\n",
       "        vertical-align: middle;\n",
       "    }\n",
       "\n",
       "    .dataframe tbody tr th {\n",
       "        vertical-align: top;\n",
       "    }\n",
       "\n",
       "    .dataframe thead th {\n",
       "        text-align: right;\n",
       "    }\n",
       "</style>\n",
       "<table border=\"1\" class=\"dataframe\">\n",
       "  <thead>\n",
       "    <tr style=\"text-align: right;\">\n",
       "      <th></th>\n",
       "      <th>vendor_id</th>\n",
       "      <th>passenger_count</th>\n",
       "      <th>trip_duration</th>\n",
       "      <th>distance</th>\n",
       "      <th>month</th>\n",
       "      <th>days</th>\n",
       "      <th>Yes_store_and_fwd_flag</th>\n",
       "      <th>final_seconds</th>\n",
       "      <th>speed</th>\n",
       "    </tr>\n",
       "  </thead>\n",
       "  <tbody>\n",
       "    <tr>\n",
       "      <th>0</th>\n",
       "      <td>2</td>\n",
       "      <td>1.0</td>\n",
       "      <td>455</td>\n",
       "      <td>1.498521</td>\n",
       "      <td>3</td>\n",
       "      <td>14</td>\n",
       "      <td>0.0</td>\n",
       "      <td>62695</td>\n",
       "      <td>0.000024</td>\n",
       "    </tr>\n",
       "    <tr>\n",
       "      <th>1</th>\n",
       "      <td>1</td>\n",
       "      <td>1.0</td>\n",
       "      <td>663</td>\n",
       "      <td>1.805507</td>\n",
       "      <td>6</td>\n",
       "      <td>12</td>\n",
       "      <td>0.0</td>\n",
       "      <td>2615</td>\n",
       "      <td>0.000690</td>\n",
       "    </tr>\n",
       "    <tr>\n",
       "      <th>2</th>\n",
       "      <td>2</td>\n",
       "      <td>1.0</td>\n",
       "      <td>2124</td>\n",
       "      <td>6.385098</td>\n",
       "      <td>1</td>\n",
       "      <td>19</td>\n",
       "      <td>0.0</td>\n",
       "      <td>41724</td>\n",
       "      <td>0.000153</td>\n",
       "    </tr>\n",
       "    <tr>\n",
       "      <th>3</th>\n",
       "      <td>2</td>\n",
       "      <td>1.0</td>\n",
       "      <td>429</td>\n",
       "      <td>1.485498</td>\n",
       "      <td>4</td>\n",
       "      <td>6</td>\n",
       "      <td>0.0</td>\n",
       "      <td>70351</td>\n",
       "      <td>0.000021</td>\n",
       "    </tr>\n",
       "    <tr>\n",
       "      <th>4</th>\n",
       "      <td>2</td>\n",
       "      <td>1.0</td>\n",
       "      <td>435</td>\n",
       "      <td>1.188588</td>\n",
       "      <td>3</td>\n",
       "      <td>26</td>\n",
       "      <td>0.0</td>\n",
       "      <td>48655</td>\n",
       "      <td>0.000024</td>\n",
       "    </tr>\n",
       "  </tbody>\n",
       "</table>\n",
       "</div>"
      ],
      "text/plain": [
       "   vendor_id  passenger_count  trip_duration  distance  month  days  \\\n",
       "0          2              1.0            455  1.498521      3    14   \n",
       "1          1              1.0            663  1.805507      6    12   \n",
       "2          2              1.0           2124  6.385098      1    19   \n",
       "3          2              1.0            429  1.485498      4     6   \n",
       "4          2              1.0            435  1.188588      3    26   \n",
       "\n",
       "   Yes_store_and_fwd_flag  final_seconds     speed  \n",
       "0                     0.0          62695  0.000024  \n",
       "1                     0.0           2615  0.000690  \n",
       "2                     0.0          41724  0.000153  \n",
       "3                     0.0          70351  0.000021  \n",
       "4                     0.0          48655  0.000024  "
      ]
     },
     "execution_count": 118,
     "metadata": {},
     "output_type": "execute_result"
    }
   ],
   "source": [
    "df_new.head()"
   ]
  },
  {
   "cell_type": "code",
   "execution_count": 124,
   "id": "e24a1c03-a3f6-4238-ac53-24fe142994b9",
   "metadata": {},
   "outputs": [
    {
     "data": {
      "text/plain": [
       "vendor_id                 0\n",
       "passenger_count           0\n",
       "trip_duration             0\n",
       "distance                  0\n",
       "month                     0\n",
       "days                      0\n",
       "Yes_store_and_fwd_flag    0\n",
       "final_seconds             0\n",
       "speed                     0\n",
       "dtype: int64"
      ]
     },
     "execution_count": 124,
     "metadata": {},
     "output_type": "execute_result"
    }
   ],
   "source": [
    "df_new.isnull().sum()"
   ]
  },
  {
   "cell_type": "markdown",
   "id": "6b23f926-690d-49e8-8604-27ac6636d96f",
   "metadata": {},
   "source": [
    "# Splitting the Data"
   ]
  },
  {
   "cell_type": "code",
   "execution_count": 131,
   "id": "9978a313-cdeb-4235-a462-8e3bbd01dfa6",
   "metadata": {},
   "outputs": [],
   "source": [
    "X = df_new.drop(['trip_duration','speed'], axis=1)\n",
    "y = df_new['trip_duration']"
   ]
  },
  {
   "cell_type": "code",
   "execution_count": 132,
   "id": "07752742-3a18-47a4-80eb-5c41d72eb622",
   "metadata": {},
   "outputs": [],
   "source": [
    "from sklearn.model_selection import train_test_split\n",
    "X_train,X_test,y_train,y_test = train_test_split(X,y,test_size=0.2,random_state=42)"
   ]
  },
  {
   "cell_type": "code",
   "execution_count": 133,
   "id": "e43069a5-b130-424a-8466-77aaa90de5c0",
   "metadata": {},
   "outputs": [],
   "source": [
    "# Standardizing the input variables(X)\n",
    "from sklearn.preprocessing import StandardScaler\n",
    "scaler = StandardScaler()\n",
    "X_train=scaler.fit_transform(X_train)\n",
    "X_test=scaler.transform(X_test)"
   ]
  },
  {
   "cell_type": "markdown",
   "id": "51cd5577-e5db-496f-978e-f09056b8d524",
   "metadata": {},
   "source": [
    "# Model training and Evaluation"
   ]
  },
  {
   "cell_type": "code",
   "execution_count": 142,
   "id": "2bc90199-a841-4089-8b65-28f159d4c749",
   "metadata": {},
   "outputs": [],
   "source": [
    "from sklearn.linear_model import LinearRegression\n",
    "from sklearn.tree import DecisionTreeRegressor\n",
    "from sklearn.ensemble import GradientBoostingRegressor\n",
    "from sklearn.ensemble import RandomForestRegressor\n",
    "from xgboost import XGBRegressor\n",
    "\n",
    "from sklearn.metrics import mean_squared_error"
   ]
  },
  {
   "cell_type": "code",
   "execution_count": 143,
   "id": "85e8511e-2265-4b92-b30b-b59136bd2735",
   "metadata": {},
   "outputs": [],
   "source": [
    "# LINEAR REGRESSION\n",
    "lr = LinearRegression()\n",
    "lr.fit(X_train,y_train)\n",
    "y_pred1 = lr.predict(X_test)\n",
    "\n",
    "s1 = mean_squared_error(y_test,y_pred1,squared=False)\n"
   ]
  },
  {
   "cell_type": "code",
   "execution_count": 144,
   "id": "63335af9-7d84-471e-93af-c5aa6f9da862",
   "metadata": {},
   "outputs": [],
   "source": [
    "# DECISION TREE\n",
    "dt = DecisionTreeRegressor()\n",
    "dt.fit(X_train,y_train)\n",
    "y_pred2 = dt.predict(X_test)\n",
    "\n",
    "s2 = mean_squared_error(y_test,y_pred2,squared=False)\n"
   ]
  },
  {
   "cell_type": "code",
   "execution_count": 145,
   "id": "91bcdb39-6576-4a00-9aef-a87031ffd2f9",
   "metadata": {},
   "outputs": [],
   "source": [
    "# GRADIENT BOOSTING\n",
    "gb = GradientBoostingRegressor()\n",
    "gb.fit(X_train,y_train)\n",
    "y_pred3 = gb.predict(X_test)\n",
    "\n",
    "s3 = mean_squared_error(y_test,y_pred3,squared=False)\n"
   ]
  },
  {
   "cell_type": "code",
   "execution_count": 146,
   "id": "e09eda61-6a39-48e2-8156-489edbc6d272",
   "metadata": {},
   "outputs": [],
   "source": [
    "# RANDOM FOREST\n",
    "rf = RandomForestRegressor()\n",
    "rf.fit(X_train,y_train)\n",
    "y_pred4 = rf.predict(X_test)\n",
    "\n",
    "s4 = mean_squared_error(y_test,y_pred4,squared=False)\n"
   ]
  },
  {
   "cell_type": "code",
   "execution_count": 147,
   "id": "825123af-013f-4d60-8a68-6df50a0be8fa",
   "metadata": {},
   "outputs": [],
   "source": [
    "# XGBOOST\n",
    "xgb = XGBRegressor(objective ='reg:squarederror', n_estimators = 10, seed = 123)\n",
    "xgb.fit(X_train, y_train)\n",
    "y_pred5 = xgb.predict(X_test)\n",
    "\n",
    "s5 = mean_squared_error(y_test,y_pred5,squared=False)\n"
   ]
  },
  {
   "cell_type": "code",
   "execution_count": 148,
   "id": "849e5f93-9191-4b41-bba2-00ace9d45c3a",
   "metadata": {},
   "outputs": [],
   "source": [
    "models = [LinearRegression(),DecisionTreeRegressor(), GradientBoostingRegressor(),RandomForestRegressor(),XGBRegressor()]\n",
    "\n",
    "rmse = [s1,s2,s3,s4,s5]\n",
    "\n",
    "df1 = pd.DataFrame({'Model':models, 'RMSE':rmse})"
   ]
  },
  {
   "cell_type": "code",
   "execution_count": 149,
   "id": "e2793fab-60ae-485d-8553-61ad9018f792",
   "metadata": {},
   "outputs": [
    {
     "data": {
      "text/html": [
       "<div>\n",
       "<style scoped>\n",
       "    .dataframe tbody tr th:only-of-type {\n",
       "        vertical-align: middle;\n",
       "    }\n",
       "\n",
       "    .dataframe tbody tr th {\n",
       "        vertical-align: top;\n",
       "    }\n",
       "\n",
       "    .dataframe thead th {\n",
       "        text-align: right;\n",
       "    }\n",
       "</style>\n",
       "<table border=\"1\" class=\"dataframe\">\n",
       "  <thead>\n",
       "    <tr style=\"text-align: right;\">\n",
       "      <th></th>\n",
       "      <th>Model</th>\n",
       "      <th>RMSE</th>\n",
       "    </tr>\n",
       "  </thead>\n",
       "  <tbody>\n",
       "    <tr>\n",
       "      <th>0</th>\n",
       "      <td>LinearRegression()</td>\n",
       "      <td>3145.338933</td>\n",
       "    </tr>\n",
       "    <tr>\n",
       "      <th>1</th>\n",
       "      <td>DecisionTreeRegressor()</td>\n",
       "      <td>9596.097436</td>\n",
       "    </tr>\n",
       "    <tr>\n",
       "      <th>2</th>\n",
       "      <td>GradientBoostingRegressor()</td>\n",
       "      <td>3155.581182</td>\n",
       "    </tr>\n",
       "    <tr>\n",
       "      <th>3</th>\n",
       "      <td>RandomForestRegressor()</td>\n",
       "      <td>3608.433677</td>\n",
       "    </tr>\n",
       "    <tr>\n",
       "      <th>4</th>\n",
       "      <td>XGBRegressor(base_score=None, booster=None, ca...</td>\n",
       "      <td>3300.835475</td>\n",
       "    </tr>\n",
       "  </tbody>\n",
       "</table>\n",
       "</div>"
      ],
      "text/plain": [
       "                                               Model         RMSE\n",
       "0                                 LinearRegression()  3145.338933\n",
       "1                            DecisionTreeRegressor()  9596.097436\n",
       "2                        GradientBoostingRegressor()  3155.581182\n",
       "3                            RandomForestRegressor()  3608.433677\n",
       "4  XGBRegressor(base_score=None, booster=None, ca...  3300.835475"
      ]
     },
     "execution_count": 149,
     "metadata": {},
     "output_type": "execute_result"
    }
   ],
   "source": [
    "df1"
   ]
  }
 ],
 "metadata": {
  "kernelspec": {
   "display_name": "Python 3 (ipykernel)",
   "language": "python",
   "name": "python3"
  },
  "language_info": {
   "codemirror_mode": {
    "name": "ipython",
    "version": 3
   },
   "file_extension": ".py",
   "mimetype": "text/x-python",
   "name": "python",
   "nbconvert_exporter": "python",
   "pygments_lexer": "ipython3",
   "version": "3.10.9"
  }
 },
 "nbformat": 4,
 "nbformat_minor": 5
}
